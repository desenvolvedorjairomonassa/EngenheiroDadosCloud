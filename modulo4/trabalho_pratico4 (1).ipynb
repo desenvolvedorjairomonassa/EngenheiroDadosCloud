{
 "cells": [
  {
   "cell_type": "code",
   "execution_count": 2,
   "id": "c01f5b1a",
   "metadata": {},
   "outputs": [],
   "source": [
    "from pyspark.sql import SparkSession\n",
    "from pyspark.sql import functions as f\n",
    "from pyspark.sql.functions import col, asc,desc"
   ]
  },
  {
   "cell_type": "code",
   "execution_count": 3,
   "id": "9c50015b",
   "metadata": {},
   "outputs": [],
   "source": [
    "#Start session Context com nome filme\n",
    "spark = SparkSession.builder.appName(\"EDC\").getOrCreate()"
   ]
  },
  {
   "cell_type": "code",
   "execution_count": 4,
   "id": "cb4cedcd",
   "metadata": {},
   "outputs": [
    {
     "name": "stdout",
     "output_type": "stream",
     "text": [
      "Wall time: 5.45 s\n"
     ]
    }
   ],
   "source": [
    "%%time\n",
    "df_titles = (\n",
    "    spark\n",
    "    .read\n",
    "    .format(\"csv\")\n",
    "    .options(header=True, sep=\"\\t\", encoding=\"latin1\")\n",
    "    .load(\"title_basics.tsv\")\n",
    " )\n"
   ]
  },
  {
   "cell_type": "code",
   "execution_count": 5,
   "id": "d8c3f24d",
   "metadata": {},
   "outputs": [
    {
     "name": "stdout",
     "output_type": "stream",
     "text": [
      "+---------+---------+--------------------+--------------------+-------+---------+-------+--------------+--------------------+\n",
      "|   tconst|titleType|        primaryTitle|       originalTitle|isAdult|startYear|endYear|runtimeMinutes|              genres|\n",
      "+---------+---------+--------------------+--------------------+-------+---------+-------+--------------+--------------------+\n",
      "|tt0000001|    short|          Carmencita|          Carmencita|      0|     1894|     \\N|             1|   Documentary,Short|\n",
      "|tt0000002|    short|Le clown et ses c...|Le clown et ses c...|      0|     1892|     \\N|             5|     Animation,Short|\n",
      "|tt0000003|    short|      Pauvre Pierrot|      Pauvre Pierrot|      0|     1892|     \\N|             4|Animation,Comedy,...|\n",
      "|tt0000004|    short|         Un bon bock|         Un bon bock|      0|     1892|     \\N|            12|     Animation,Short|\n",
      "|tt0000005|    short|    Blacksmith Scene|    Blacksmith Scene|      0|     1893|     \\N|             1|        Comedy,Short|\n",
      "|tt0000006|    short|   Chinese Opium Den|   Chinese Opium Den|      0|     1894|     \\N|             1|               Short|\n",
      "|tt0000007|    short|Corbett and Court...|Corbett and Court...|      0|     1894|     \\N|             1|         Short,Sport|\n",
      "|tt0000008|    short|Edison Kinetoscop...|Edison Kinetoscop...|      0|     1894|     \\N|             1|   Documentary,Short|\n",
      "|tt0000009|    short|          Miss Jerry|          Miss Jerry|      0|     1894|     \\N|            40|       Romance,Short|\n",
      "|tt0000010|    short| Leaving the Factory|La sortie de l'us...|      0|     1895|     \\N|             1|   Documentary,Short|\n",
      "|tt0000011|    short|Akrobatisches Pot...|Akrobatisches Pot...|      0|     1895|     \\N|             1|   Documentary,Short|\n",
      "|tt0000012|    short|The Arrival of a ...|L'arrivÃ©e d'un t...|      0|     1896|     \\N|             1|   Documentary,Short|\n",
      "|tt0000013|    short|The Photographica...|Le dÃ©barquement ...|      0|     1895|     \\N|             1|   Documentary,Short|\n",
      "|tt0000014|    short| The Waterer Watered|  L'arroseur arrosÃ©|      0|     1895|     \\N|             1|        Comedy,Short|\n",
      "|tt0000015|    short| Autour d'une cabine| Autour d'une cabine|      0|     1894|     \\N|             2|     Animation,Short|\n",
      "|tt0000016|    short|Boat Leaving the ...|Barque sortant du...|      0|     1895|     \\N|             1|   Documentary,Short|\n",
      "|tt0000017|    short|Italienischer Bau...|Italienischer Bau...|      0|     1895|     \\N|             1|   Documentary,Short|\n",
      "|tt0000018|    short|Das boxende KÃ¤ng...|Das boxende KÃ¤ng...|      0|     1895|     \\N|             1|               Short|\n",
      "|tt0000019|    short|    The Clown Barber|    The Clown Barber|      0|     1898|     \\N|            \\N|        Comedy,Short|\n",
      "|tt0000020|    short|      The Derby 1895|      The Derby 1895|      0|     1895|     \\N|             1|Documentary,Short...|\n",
      "+---------+---------+--------------------+--------------------+-------+---------+-------+--------------+--------------------+\n",
      "only showing top 20 rows\n",
      "\n"
     ]
    }
   ],
   "source": [
    "df_titles.show()"
   ]
  },
  {
   "cell_type": "code",
   "execution_count": 6,
   "id": "14d14744",
   "metadata": {},
   "outputs": [
    {
     "name": "stdout",
     "output_type": "stream",
     "text": [
      "root\n",
      " |-- tconst: string (nullable = true)\n",
      " |-- titleType: string (nullable = true)\n",
      " |-- primaryTitle: string (nullable = true)\n",
      " |-- originalTitle: string (nullable = true)\n",
      " |-- isAdult: string (nullable = true)\n",
      " |-- startYear: string (nullable = true)\n",
      " |-- endYear: string (nullable = true)\n",
      " |-- runtimeMinutes: string (nullable = true)\n",
      " |-- genres: string (nullable = true)\n",
      "\n"
     ]
    }
   ],
   "source": [
    "df_titles.printSchema()"
   ]
  },
  {
   "cell_type": "code",
   "execution_count": 7,
   "id": "b9f4e534",
   "metadata": {},
   "outputs": [
    {
     "data": {
      "text/plain": [
       "8203690"
      ]
     },
     "execution_count": 7,
     "metadata": {},
     "output_type": "execute_result"
    }
   ],
   "source": [
    "df_titles.count()"
   ]
  },
  {
   "cell_type": "code",
   "execution_count": 9,
   "id": "46361a71",
   "metadata": {},
   "outputs": [
    {
     "name": "stdout",
     "output_type": "stream",
     "text": [
      "+------------+----------------+\n",
      "|   titleType|count(titleType)|\n",
      "+------------+----------------+\n",
      "|    tvSeries|           10171|\n",
      "|tvMiniSeries|            2288|\n",
      "|     tvMovie|            3558|\n",
      "|   tvEpisode|          263239|\n",
      "|       movie|           16429|\n",
      "|   tvSpecial|            1275|\n",
      "|       video|           13314|\n",
      "|   videoGame|            1190|\n",
      "|     tvShort|             642|\n",
      "|       short|           45948|\n",
      "+------------+----------------+\n",
      "\n",
      "Wall time: 3.45 s\n"
     ]
    }
   ],
   "source": [
    "%%time\n",
    "#Quantos filmes (incluindo os da televisão)  no ano de 2015 por tipo?  \n",
    "consulta1 = (df_titles\n",
    "             .filter((df_titles.startYear == '2015'))\n",
    "             .groupby('titleType')\n",
    "             .agg( f.count('titleType') ))\n",
    "consulta1.show()"
   ]
  },
  {
   "cell_type": "code",
   "execution_count": 10,
   "id": "c55af945",
   "metadata": {},
   "outputs": [
    {
     "name": "stdout",
     "output_type": "stream",
     "text": [
      "Wall time: 2.41 s\n"
     ]
    },
    {
     "data": {
      "text/plain": [
       "19987"
      ]
     },
     "execution_count": 10,
     "metadata": {},
     "output_type": "execute_result"
    }
   ],
   "source": [
    "%%time\n",
    "#Quantos filmes (incluindo os da televisão) foram lançados no ano de 2015?  \n",
    "consulta2 = df_titles.filter((df_titles.startYear == '2015')&((df_titles.titleType == 'tvMovie') \n",
    "                                                              |(df_titles.titleType == 'movie')))\n",
    "consulta2.count()"
   ]
  },
  {
   "cell_type": "code",
   "execution_count": 11,
   "id": "b503b7f1",
   "metadata": {},
   "outputs": [
    {
     "name": "stdout",
     "output_type": "stream",
     "text": [
      "+-----------------+------+\n",
      "|           genres|  qtde|\n",
      "+-----------------+------+\n",
      "|            Drama|880649|\n",
      "|               \\N|643012|\n",
      "|           Comedy|568956|\n",
      "|        Talk-Show|467788|\n",
      "|      Documentary|392359|\n",
      "|    Drama,Romance|354735|\n",
      "|             News|266279|\n",
      "|       Reality-TV|251369|\n",
      "|            Adult|221116|\n",
      "|            Short|169026|\n",
      "|      Drama,Short|161288|\n",
      "|           Family|136195|\n",
      "|   News,Talk-Show|135690|\n",
      "|     Comedy,Short|132338|\n",
      "|Documentary,Short|125081|\n",
      "|        Game-Show|122741|\n",
      "|      Music,Short| 97140|\n",
      "|          Romance| 90742|\n",
      "|            Music| 88697|\n",
      "|            Sport| 88461|\n",
      "+-----------------+------+\n",
      "only showing top 20 rows\n",
      "\n",
      "Wall time: 5.68 s\n"
     ]
    }
   ],
   "source": [
    "%%time\n",
    "#qual o gênero de títulos mais frequente? \n",
    "consulta3 = (df_titles\n",
    "             .groupby('genres')\n",
    "             .agg( f.count('genres').alias('qtde') )\n",
    "             .sort(col('qtde').desc()) )\n",
    "consulta3.show()"
   ]
  },
  {
   "cell_type": "code",
   "execution_count": 12,
   "id": "e2537c8e",
   "metadata": {},
   "outputs": [
    {
     "name": "stdout",
     "output_type": "stream",
     "text": [
      "Wall time: 188 ms\n"
     ]
    }
   ],
   "source": [
    "%%time\n",
    "df_rating = (\n",
    "    spark\n",
    "    .read\n",
    "    .format(\"csv\")\n",
    "    .options(header=True, sep=\"\\t\", encoding=\"latin1\")\n",
    "    .load(\"title_ratings.tsv\")\n",
    " )"
   ]
  },
  {
   "cell_type": "code",
   "execution_count": 36,
   "id": "7b558a9d",
   "metadata": {},
   "outputs": [
    {
     "name": "stdout",
     "output_type": "stream",
     "text": [
      "+---------+-------------+--------+\n",
      "|   tconst|averageRating|numVotes|\n",
      "+---------+-------------+--------+\n",
      "|tt0000001|          5.7|    1872|\n",
      "|tt0000002|          5.9|     247|\n",
      "|tt0000003|          6.5|    1646|\n",
      "|tt0000004|          5.8|     160|\n",
      "|tt0000005|          6.2|    2474|\n",
      "|tt0000006|          5.2|     164|\n",
      "|tt0000007|          5.5|     770|\n",
      "|tt0000008|          5.4|    2014|\n",
      "|tt0000009|          5.4|     193|\n",
      "|tt0000010|          6.9|    6764|\n",
      "|tt0000011|          5.3|     343|\n",
      "|tt0000012|          7.4|   11616|\n",
      "|tt0000013|          5.7|    1795|\n",
      "|tt0000014|          7.1|    5211|\n",
      "|tt0000015|          6.2|     991|\n",
      "|tt0000016|          5.9|    1403|\n",
      "|tt0000017|          4.6|     305|\n",
      "|tt0000018|          5.3|     561|\n",
      "|tt0000019|          5.2|      30|\n",
      "|tt0000020|          4.8|     332|\n",
      "+---------+-------------+--------+\n",
      "only showing top 20 rows\n",
      "\n"
     ]
    }
   ],
   "source": [
    "df_rating.show()"
   ]
  },
  {
   "cell_type": "code",
   "execution_count": 13,
   "id": "765fa61c",
   "metadata": {},
   "outputs": [
    {
     "name": "stdout",
     "output_type": "stream",
     "text": [
      "root\n",
      " |-- tconst: string (nullable = true)\n",
      " |-- averageRating: string (nullable = true)\n",
      " |-- numVotes: string (nullable = true)\n",
      "\n"
     ]
    }
   ],
   "source": [
    "df_rating.printSchema()"
   ]
  },
  {
   "cell_type": "code",
   "execution_count": 14,
   "id": "48f9bf85",
   "metadata": {},
   "outputs": [
    {
     "data": {
      "text/plain": [
       "8203690"
      ]
     },
     "execution_count": 14,
     "metadata": {},
     "output_type": "execute_result"
    }
   ],
   "source": [
    "consulta4 = df_titles.join(df_rating,df_titles.tconst == df_rating.tconst,\"outer\")\n",
    "consulta4.count()"
   ]
  },
  {
   "cell_type": "code",
   "execution_count": 48,
   "id": "e8825d06",
   "metadata": {},
   "outputs": [
    {
     "name": "stdout",
     "output_type": "stream",
     "text": [
      "+---------+---------+--------------------+--------------------+-------+---------+-------+--------------+--------------------+---------+-------------+--------+\n",
      "|   tconst|titleType|        primaryTitle|       originalTitle|isAdult|startYear|endYear|runtimeMinutes|              genres|   tconst|averageRating|numVotes|\n",
      "+---------+---------+--------------------+--------------------+-------+---------+-------+--------------+--------------------+---------+-------------+--------+\n",
      "|tt0000658|    short|The Puppet's Nigh...|Le cauchemar de F...|      0|     1908|     \\N|             2|     Animation,Short|tt0000658|          6.5|     227|\n",
      "|tt0000839|    short|  The Curse of Money|  The Curse of Money|      0|     1909|     \\N|            \\N|         Drama,Short|     null|         null|    null|\n",
      "|tt0001170|    short|A Cowboy's Vindic...|A Cowboy's Vindic...|      0|     1910|     \\N|            \\N|       Short,Western|     null|         null|    null|\n",
      "|tt0001581|    short|    A Devoted Friend|    A Devoted Friend|      0|     1911|     \\N|            19|               Short|     null|         null|    null|\n",
      "|tt0001664|    short|        Her Two Sons|        Her Two Sons|      0|     1911|     \\N|            \\N| Drama,Romance,Short|     null|         null|    null|\n",
      "|tt0001732|    short|The Lighthouse Ke...|The Lighthouse Ke...|      0|     1911|     \\N|            \\N|         Drama,Short|tt0001732|          7.1|      15|\n",
      "|tt0001887|    short|     The Skating Bug|     The Skating Bug|      0|     1911|     \\N|            \\N|        Comedy,Short|     null|         null|    null|\n",
      "|tt0002253|    short|          Home Folks|          Home Folks|      0|     1912|     \\N|            17|         Drama,Short|tt0002253|          4.5|      14|\n",
      "|tt0002347|    short|Le martyre de Sai...|Le martyre de Sai...|      0|     1912|     \\N|            12|         Drama,Short|     null|         null|    null|\n",
      "|tt0002473|    short|    The Sands of Dee|    The Sands of Dee|      0|     1912|     \\N|            17|       Romance,Short|tt0002473|          6.5|      81|\n",
      "|tt0002588|    movie|Zigomar contre Ni...|Zigomar contre Ni...|      0|     1912|     \\N|            48|      Crime,Thriller|tt0002588|          6.0|      37|\n",
      "|tt0002591|    movie|            Zu spÃ¤t|            Zu spÃ¤t|      0|     1913|     \\N|            \\N|                  \\N|     null|         null|    null|\n",
      "|tt0002667|    short|The Battle for Fr...|The Battle for Fr...|      0|     1913|     \\N|            \\N|     Adventure,Short|     null|         null|    null|\n",
      "|tt0003043|    short|  Knights and Ladies|  Knights and Ladies|      0|     1913|     \\N|            \\N|Comedy,Romance,Short|     null|         null|    null|\n",
      "|tt0003180|    short|       Mutt and Jeff|       Mutt and Jeff|      0|     1913|     \\N|            \\N|     Animation,Short|     null|         null|    null|\n",
      "|tt0003644|    short|     The Aviator Spy|His Country's Honour|      0|     1914|     \\N|            \\N|      Short,Thriller|     null|         null|    null|\n",
      "|tt0003689|    movie|          Born Again|          Born Again|      0|     1914|     \\N|            \\N|               Drama|     null|         null|    null|\n",
      "|tt0003776|    short|The City of Darkness|The City of Darkness|      0|     1914|     \\N|            \\N|         Drama,Short|     null|         null|    null|\n",
      "|tt0003931|    short|The Fatal Black Bean|The Fatal Black Bean|      0|     1915|     \\N|            \\N|         Drama,Short|     null|         null|    null|\n",
      "|tt0004091|    short|His Favorite Pastime|His Favorite Pastime|      0|     1914|     \\N|            16|        Comedy,Short|tt0004091|          5.0|    1103|\n",
      "+---------+---------+--------------------+--------------------+-------+---------+-------+--------------+--------------------+---------+-------------+--------+\n",
      "only showing top 20 rows\n",
      "\n"
     ]
    }
   ],
   "source": [
    "consulta4.show()"
   ]
  },
  {
   "cell_type": "code",
   "execution_count": 15,
   "id": "2ccd2a0d",
   "metadata": {},
   "outputs": [
    {
     "name": "stdout",
     "output_type": "stream",
     "text": [
      "+--------------------+----+-----------------+\n",
      "|              genres|qtde|              AVG|\n",
      "+--------------------+----+-----------------+\n",
      "|Comedy,History,We...|   8|              9.8|\n",
      "|Biography,Comedy,...|  49|              9.8|\n",
      "|News,Reality-TV,S...| 116|              9.7|\n",
      "|Music,Musical,Tal...| 348|9.409756097560974|\n",
      "|Adventure,Music,M...|  25|9.406666666666666|\n",
      "|Comedy,Game-Show,...| 211|9.290476190476193|\n",
      "|Biography,Crime,R...|   6|             9.25|\n",
      "|Biography,Reality...| 215|9.209999999999999|\n",
      "|Action,Reality-TV...|  17|              9.2|\n",
      "|Comedy,Fantasy,Ga...|  42|              9.2|\n",
      "|Horror,News,Talk-...|  13|              9.2|\n",
      "|           Music,War|  17|              9.2|\n",
      "|Mystery,Sci-Fi,Ta...|  20|              9.1|\n",
      "|   Fantasy,Talk-Show|  74|              9.1|\n",
      "|Game-Show,History...|  18|              9.0|\n",
      "|        History,News| 482|8.999999999999998|\n",
      "|   Drama,News,Sci-Fi|   3|              8.9|\n",
      "|    Music,News,Short|  13|              8.9|\n",
      "|History,Horror,Ro...|   4|              8.9|\n",
      "|Documentary,Game-...|  61|              8.9|\n",
      "+--------------------+----+-----------------+\n",
      "only showing top 20 rows\n",
      "\n",
      "Wall time: 35.1 s\n"
     ]
    }
   ],
   "source": [
    "%%time\n",
    "#Qual o gênero com a melhor nota média de títulos?\n",
    "consulta5 = (consulta4\n",
    "             .groupby('genres')\n",
    "             .agg( f.count('genres').alias('qtde') ,\n",
    "                   f.mean('averageRating').alias('AVG'))\n",
    "             .sort(col('AVG').desc()) )\n",
    "consulta5.show()"
   ]
  },
  {
   "cell_type": "code",
   "execution_count": 16,
   "id": "cbafed74",
   "metadata": {},
   "outputs": [
    {
     "name": "stdout",
     "output_type": "stream",
     "text": [
      "+--------------------+--------------------+-------------+--------------------+\n",
      "|        primaryTitle|       originalTitle|averageRating|              genres|\n",
      "+--------------------+--------------------+-------------+--------------------+\n",
      "|     Half-Life: Alyx|     Half-Life: Alyx|          9.5|Action,Adventure,...|\n",
      "|   Ghost of Tsushima|   Ghost of Tsushima|          9.3|Action,Adventure,...|\n",
      "|               Omori|               Omori|          9.2|Adventure,Drama,F...|\n",
      "|Final Fantasy VII...|Final Fantasy VII...|          9.1|Action,Adventure,...|\n",
      "|Ori and the Will ...|Ori and the Will ...|          9.1|   Adventure,Fantasy|\n",
      "|Mega Man Zero/ZX ...|Mega Man Zero/ZX ...|          8.9|Action,Adventure,...|\n",
      "|There Is No Game:...|There Is No Game:...|          8.9|    Adventure,Comedy|\n",
      "|       Demon's Souls|       Demon's Souls|          8.8|Action,Adventure,...|\n",
      "|Xenoblade Chronic...|Xenoblade Chronic...|          8.8|Action,Adventure,...|\n",
      "|Yakuza: Like a Dr...|Ryu ga gotoku 7: ...|          8.8|Action,Adventure,...|\n",
      "|        Doom Eternal|        Doom Eternal|          8.7|Action,Adventure,...|\n",
      "|   Pixel Ripped 1995|   Pixel Ripped 1995|          8.7|Action,Adventure,...|\n",
      "|Spider-Man: Miles...|Spider-Man: Miles...|          8.6|Action,Adventure,...|\n",
      "|    Astro's Playroom|    Astro's Playroom|          8.6|Adventure,Animati...|\n",
      "|Call of Duty: Mod...|Call of Duty: Mod...|          8.5|Action,Adventure,...|\n",
      "|               Haven|               Haven|          8.5|Adventure,Romance...|\n",
      "|      Desperados III|      Desperados III|          8.4|   Adventure,Western|\n",
      "|Animal Crossing: ...|Atsumare doubutsu...|          8.4|   Adventure,Fantasy|\n",
      "|        Pumpkin Jack|        Pumpkin Jack|          8.4|Action,Adventure,...|\n",
      "|The Last of Us: P...|The Last of Us: P...|          8.3|Action,Adventure,...|\n",
      "+--------------------+--------------------+-------------+--------------------+\n",
      "only showing top 20 rows\n",
      "\n"
     ]
    }
   ],
   "source": [
    "#Qual o vídeo game do gênero aventura mais bem avaliado em 2020? \n",
    "consulta6 = (consulta4\n",
    "             .filter((consulta4.titleType == 'videoGame')&(consulta4.startYear == '2020')\n",
    "                     &(consulta4.genres.rlike ('.*Adventure')))\n",
    "             .select('primaryTitle','originalTitle','averageRating','genres')\n",
    "             .sort(col('averageRating').desc()) )\n",
    "consulta6.show()"
   ]
  },
  {
   "cell_type": "code",
   "execution_count": 19,
   "id": "756f6d8d",
   "metadata": {},
   "outputs": [],
   "source": [
    "#Deseja-se utilizar um join para retornar somente as linhas referentes a títulos que estão sem nota, \n",
    "#isto é, não aparecem no df_ratings.\n",
    "consulta7 = df_titles.join(df_rating, 'tconst', 'anti')"
   ]
  },
  {
   "cell_type": "code",
   "execution_count": 20,
   "id": "fb6f00d0",
   "metadata": {},
   "outputs": [
    {
     "name": "stdout",
     "output_type": "stream",
     "text": [
      "+---------+---------+--------------------+--------------------+-------+---------+-------+--------------+--------------------+\n",
      "|   tconst|titleType|        primaryTitle|       originalTitle|isAdult|startYear|endYear|runtimeMinutes|              genres|\n",
      "+---------+---------+--------------------+--------------------+-------+---------+-------+--------------+--------------------+\n",
      "|tt0000180|    short|  Le chemin de croix|  Le chemin de croix|      0|     1898|     \\N|            \\N|               Short|\n",
      "|tt0000185|    short|La crÃ¨che Ã  Bet...|La crÃ¨che Ã  Bet...|      0|     1898|     \\N|            \\N|               Short|\n",
      "|tt0000189|    short|             Dorotea|             Dorotea|      0|     1898|     \\N|            \\N|               Short|\n",
      "|tt0000191|    short|DÃ©mÃ©nagement Ã ...|DÃ©mÃ©nagement Ã ...|      0|     1898|     \\N|            \\N|               Short|\n",
      "|tt0000193|    short|L'entrÃ©e Ã  JÃ©r...|L'entrÃ©e Ã  JÃ©r...|      0|     1898|     \\N|            \\N|               Short|\n",
      "|tt0000195|    short| Les farces de Jocko| Les farces de Jocko|      0|     1898|     \\N|            \\N|        Comedy,Short|\n",
      "|tt0000200|    short|Gran corrida de t...|Gran corrida de t...|      0|     1898|     \\N|            \\N|Documentary,Short...|\n",
      "|tt0000201|    short|  Indian War Council|  Indian War Council|      0|     1898|     \\N|            \\N|          News,Short|\n",
      "|tt0000202|    short|Le jardin des oli...|Le jardin des oli...|      0|     1898|     \\N|            \\N|               Short|\n",
      "|tt0000203|    short|Je vous y prrrrends!|Je vous y prrrrends!|      0|     1898|     \\N|            \\N|               Short|\n",
      "|tt0000212|    short|Saida do Paquete ...|Saida do Paquete ...|      0|     1898|     \\N|            \\N|               Short|\n",
      "|tt0000216|    short|Visita de DoÃ±a M...|Visita de DoÃ±a M...|      0|     1898|     \\N|            \\N|          News,Short|\n",
      "|tt0000217|    short|     Waves and Spray|     Waves and Spray|      0|     1898|     \\N|            \\N|               Short|\n",
      "|tt0000220|    short|The Artist and th...|The Artist and th...|      0|     1901|     \\N|            \\N|       Romance,Short|\n",
      "|tt0000221|    short|Aspectos da Praia...|Aspectos da Praia...|      0|     1899|     \\N|            \\N|   Documentary,Short|\n",
      "|tt0000224|    short|         Battlefield|         Battlefield|      0|     1899|     \\N|            \\N|               Short|\n",
      "|tt0000226|    short|           Boat Race|           Boat Race|      0|     1899|     \\N|            \\N|               Short|\n",
      "|tt0000227|    short|Bombardment of Ma...|Bombardment of Ma...|      0|     1899|     \\N|            \\N|     Drama,Short,War|\n",
      "|tt0000232|    short|      Le chiffonnier|      Le chiffonnier|      0|     1899|     \\N|            \\N|        Comedy,Short|\n",
      "|tt0000236|    short|     Courte Ã©chelle|     Courte Ã©chelle|      0|     1899|     \\N|            \\N|               Short|\n",
      "+---------+---------+--------------------+--------------------+-------+---------+-------+--------------+--------------------+\n",
      "only showing top 20 rows\n",
      "\n"
     ]
    }
   ],
   "source": [
    "consulta7.show()"
   ]
  },
  {
   "cell_type": "code",
   "execution_count": 21,
   "id": "c7e16b1a",
   "metadata": {},
   "outputs": [
    {
     "data": {
      "text/plain": [
       "7021051"
      ]
     },
     "execution_count": 21,
     "metadata": {},
     "output_type": "execute_result"
    }
   ],
   "source": [
    "#sem nota\n",
    "consulta7.count()"
   ]
  },
  {
   "cell_type": "code",
   "execution_count": null,
   "id": "1711cbc7",
   "metadata": {},
   "outputs": [],
   "source": []
  }
 ],
 "metadata": {
  "kernelspec": {
   "display_name": "Python 3 (ipykernel)",
   "language": "python",
   "name": "python3"
  },
  "language_info": {
   "codemirror_mode": {
    "name": "ipython",
    "version": 3
   },
   "file_extension": ".py",
   "mimetype": "text/x-python",
   "name": "python",
   "nbconvert_exporter": "python",
   "pygments_lexer": "ipython3",
   "version": "3.9.7"
  }
 },
 "nbformat": 4,
 "nbformat_minor": 5
}
