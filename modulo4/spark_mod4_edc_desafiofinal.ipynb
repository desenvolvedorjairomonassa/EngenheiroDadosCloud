{
  "nbformat": 4,
  "nbformat_minor": 0,
  "metadata": {
    "colab": {
      "name": "spark_mod4_edc_desafiofinal.ipynb",
      "provenance": []
    },
    "kernelspec": {
      "name": "python3",
      "display_name": "Python 3"
    },
    "language_info": {
      "name": "python"
    }
  },
  "cells": [
    {
      "cell_type": "code",
      "execution_count": 1,
      "metadata": {
        "id": "h7jTSVz28Tus"
      },
      "outputs": [],
      "source": [
        "%%capture\n",
        "!apt-get update\n",
        "# dependências\n",
        "!apt-get install openjdk-8-jdk-headless -qq > /dev/null\n",
        "!apt-get install maven -qq\n",
        "!wget -q https://archive.apache.org/dist/spark/spark-2.4.4/spark-2.4.4-bin-hadoop2.7.tgz\n",
        "!tar xf spark-2.4.4-bin-hadoop2.7.tgz\n",
        "!pip install -q findspark\n",
        "!wget https://repo1.maven.org/maven2/com/google/guava/guava/30.1-jre/guava-30.1-jre.jar"
      ]
    },
    {
      "cell_type": "code",
      "source": [
        "# configurar as variáveis de ambiente\n",
        "import os\n",
        "os.environ[\"JAVA_HOME\"] = \"/usr/lib/jvm/java-8-openjdk-amd64\"\n",
        "os.environ[\"SPARK_HOME\"] = \"/content/spark-2.4.4-bin-hadoop2.7\"\n",
        "\n",
        "# tornar o pyspark \"importável\"\n",
        "import findspark\n",
        "findspark.init('spark-2.4.4-bin-hadoop2.7')"
      ],
      "metadata": {
        "id": "EpWjgLLN9l51"
      },
      "execution_count": 2,
      "outputs": []
    },
    {
      "cell_type": "code",
      "source": [
        "# importar pyspark e funções\n",
        "from pyspark.sql import SparkSession\n",
        "from pyspark.sql import functions as f\n",
        "from pyspark.sql.functions import *"
      ],
      "metadata": {
        "id": "cy7tK4hl-EJR"
      },
      "execution_count": 3,
      "outputs": []
    },
    {
      "cell_type": "code",
      "source": [
        "# iniciar uma sessão local \n",
        "#Start session Context com nome edc\n",
        "spark = SparkSession.builder.appName(\"EDC\").getOrCreate()"
      ],
      "metadata": {
        "id": "hJKF91hD_Qzc"
      },
      "execution_count": 4,
      "outputs": []
    },
    {
      "cell_type": "code",
      "source": [
        "!wget --quiet --show-progress https://storage.googleapis.com/desafio-final/F.K03200%24Z.D10710.CNAE.csv"
      ],
      "metadata": {
        "colab": {
          "base_uri": "https://localhost:8080/"
        },
        "id": "shrY6NztPd-Y",
        "outputId": "4fd870b3-723d-4973-a099-91899c94246d"
      },
      "execution_count": 8,
      "outputs": [
        {
          "output_type": "stream",
          "name": "stdout",
          "text": [
            "\r          F.K03200$   0%[                    ]       0  --.-KB/s               \rF.K03200$Z.D10710.C 100%[===================>]  86.15K  --.-KB/s    in 0.001s  \n"
          ]
        }
      ]
    },
    {
      "cell_type": "code",
      "source": [
        "schema = 'codcnae STRING, descricao STRING'\n",
        "# carregar dados do cnae\n",
        "cnae = spark.read.format('csv').schema(schema).options(header=False, sep=\";\" , encoding ='latin1').load(\"./F.K03200$Z.D10710.CNAE.csv\")                         \n",
        "\n",
        "# ver algumas informações sobre os tipos de dados de cada coluna\n",
        "cnae.printSchema()\n"
      ],
      "metadata": {
        "colab": {
          "base_uri": "https://localhost:8080/"
        },
        "id": "SFS-zneD9qma",
        "outputId": "f7bbe9f9-f098-46dd-eb17-1fe3319304fa"
      },
      "execution_count": 25,
      "outputs": [
        {
          "output_type": "stream",
          "name": "stdout",
          "text": [
            "root\n",
            " |-- codcnae: string (nullable = true)\n",
            " |-- descricao: string (nullable = true)\n",
            "\n"
          ]
        }
      ]
    },
    {
      "cell_type": "code",
      "source": [
        "cnae.show()"
      ],
      "metadata": {
        "colab": {
          "base_uri": "https://localhost:8080/"
        },
        "id": "Yj9UZWyWPu0b",
        "outputId": "9c74309b-7878-41cf-ae89-23322f2cf032"
      },
      "execution_count": 27,
      "outputs": [
        {
          "output_type": "stream",
          "name": "stdout",
          "text": [
            "+-------+--------------------+\n",
            "|codcnae|           descricao|\n",
            "+-------+--------------------+\n",
            "|0111301|    Cultivo de arroz|\n",
            "|0111302|    Cultivo de milho|\n",
            "|0111303|    Cultivo de trigo|\n",
            "|0111399|Cultivo de outros...|\n",
            "|0112101|Cultivo de algodã...|\n",
            "|0112102|     Cultivo de juta|\n",
            "|0112199|Cultivo de outras...|\n",
            "|0113000|Cultivo de cana-d...|\n",
            "|0114800|     Cultivo de fumo|\n",
            "|0115600|     Cultivo de soja|\n",
            "|0116401| Cultivo de amendoim|\n",
            "|0116402| Cultivo de girassol|\n",
            "|0116403|   Cultivo de mamona|\n",
            "|0116499|Cultivo de outras...|\n",
            "|0119901|  Cultivo de abacaxi|\n",
            "|0119902|     Cultivo de alho|\n",
            "|0119903|Cultivo de batata...|\n",
            "|0119904|   Cultivo de cebola|\n",
            "|0119905|   Cultivo de feijão|\n",
            "|0119906| Cultivo de mandioca|\n",
            "+-------+--------------------+\n",
            "only showing top 20 rows\n",
            "\n"
          ]
        }
      ]
    },
    {
      "cell_type": "code",
      "source": [
        "cnae.count()"
      ],
      "metadata": {
        "colab": {
          "base_uri": "https://localhost:8080/"
        },
        "id": "tEWdl42gScpT",
        "outputId": "aec14123-f69b-4963-d82b-dc8dea5f369d"
      },
      "execution_count": 26,
      "outputs": [
        {
          "output_type": "execute_result",
          "data": {
            "text/plain": [
              "1359"
            ]
          },
          "metadata": {},
          "execution_count": 26
        }
      ]
    },
    {
      "cell_type": "code",
      "source": [
        "!wget --quiet --show-progress https://storage.googleapis.com/desafio-final/F.K03200%24Z.D10710.MUNIC.csv"
      ],
      "metadata": {
        "colab": {
          "base_uri": "https://localhost:8080/"
        },
        "id": "SNf-fEoyPQjn",
        "outputId": "b829be5b-960f-4097-ec0b-79291d5ad93c"
      },
      "execution_count": 28,
      "outputs": [
        {
          "output_type": "stream",
          "name": "stdout",
          "text": [
            "\r          F.K03200$   0%[                    ]       0  --.-KB/s               \rF.K03200$Z.D10710.M 100%[===================>] 117.57K  --.-KB/s    in 0.001s  \n"
          ]
        }
      ]
    },
    {
      "cell_type": "code",
      "source": [
        "#schema através de DLL programaticamente\n",
        "schema = 'codmuni STRING, cidade STRING'\n",
        "# carregar dados do municipios\n",
        "municipio = spark.read.format('csv').schema(schema).options(header=False, sep=\";\" ).load(\"/content/F.K03200$Z.D10710.MUNIC.csv\")\n",
        "# ver algumas informações sobre os tipos de dados de cada coluna\n",
        "municipio.printSchema()"
      ],
      "metadata": {
        "colab": {
          "base_uri": "https://localhost:8080/"
        },
        "id": "BHJsZ2N4EdMX",
        "outputId": "50f3712f-db3a-4358-834a-f38720452672"
      },
      "execution_count": 31,
      "outputs": [
        {
          "output_type": "stream",
          "name": "stdout",
          "text": [
            "root\n",
            " |-- codmuni: string (nullable = true)\n",
            " |-- cidade: string (nullable = true)\n",
            "\n"
          ]
        }
      ]
    },
    {
      "cell_type": "code",
      "source": [
        "municipio.show(10)"
      ],
      "metadata": {
        "colab": {
          "base_uri": "https://localhost:8080/"
        },
        "id": "XElhPYZxHuyP",
        "outputId": "82a82cdc-639c-41c4-eef2-5e71dbe785d9"
      },
      "execution_count": 32,
      "outputs": [
        {
          "output_type": "stream",
          "name": "stdout",
          "text": [
            "+-------+--------------------+\n",
            "|codmuni|              cidade|\n",
            "+-------+--------------------+\n",
            "|   0001|       GUAJARA-MIRIM|\n",
            "|   0002|ALTO ALEGRE DOS P...|\n",
            "|   0003|         PORTO VELHO|\n",
            "|   0004|             BURITIS|\n",
            "|   0005|           JI-PARANA|\n",
            "|   0006|         CHUPINGUAIA|\n",
            "|   0007|           ARIQUEMES|\n",
            "|   0008|             CUJUBIM|\n",
            "|   0009|              CACOAL|\n",
            "|   0010|          NOVA UNIAO|\n",
            "+-------+--------------------+\n",
            "only showing top 10 rows\n",
            "\n"
          ]
        }
      ]
    },
    {
      "cell_type": "code",
      "source": [
        "# download do http para arquivo local\n",
        "!wget --quiet --show-progress https://storage.googleapis.com/desafio-final/estabelecimentos/K3241.K03200Y0.D10710.ESTABELE.csv \n",
        "!wget --quiet --show-progress https://storage.googleapis.com/desafio-final/estabelecimentos/K3241.K03200Y1.D10710.ESTABELE.csv\n",
        "!wget --quiet --show-progress https://storage.googleapis.com/desafio-final/estabelecimentos/K3241.K03200Y2.D10710.ESTABELE.csv\n",
        "!wget --quiet --show-progress https://storage.googleapis.com/desafio-final/estabelecimentos/K3241.K03200Y3.D10710.ESTABELE.csv\n",
        "!wget --quiet --show-progress https://storage.googleapis.com/desafio-final/estabelecimentos/K3241.K03200Y4.D10710.ESTABELE.csv\n",
        "!wget --quiet --show-progress https://storage.googleapis.com/desafio-final/estabelecimentos/K3241.K03200Y5.D10710.ESTABELE.csv\n",
        "!wget --quiet --show-progress https://storage.googleapis.com/desafio-final/estabelecimentos/K3241.K03200Y6.D10710.ESTABELE.csv\n",
        "!wget --quiet --show-progress https://storage.googleapis.com/desafio-final/estabelecimentos/K3241.K03200Y7.D10710.ESTABELE.csv\n",
        "!wget --quiet --show-progress https://storage.googleapis.com/desafio-final/estabelecimentos/K3241.K03200Y8.D10710.ESTABELE.csv\n",
        "!wget --quiet --show-progress https://storage.googleapis.com/desafio-final/estabelecimentos/K3241.K03200Y9.D10710.ESTABELE.csv                         "
      ],
      "metadata": {
        "colab": {
          "base_uri": "https://localhost:8080/"
        },
        "id": "bPSdLWFX_adS",
        "outputId": "0387a815-19d5-4326-b2ef-9a1d05136584"
      },
      "execution_count": 73,
      "outputs": [
        {
          "output_type": "stream",
          "name": "stdout",
          "text": [
            "K3241.K03200Y0.D107 100%[===================>]   1.39G   136MB/s    in 10s     \n",
            "K3241.K03200Y1.D107 100%[===================>]   1.01G   105MB/s    in 13s     \n",
            "K3241.K03200Y2.D107 100%[===================>]   1.01G   143MB/s    in 7.3s    \n",
            "K3241.K03200Y3.D107 100%[===================>]   1.01G   139MB/s    in 7.4s    \n",
            "K3241.K03200Y3.D107 100%[===================>]   1.01G   169MB/s    in 6.4s    \n",
            "K3241.K03200Y4.D107 100%[===================>]   1.01G   165MB/s    in 6.6s    \n",
            "K3241.K03200Y5.D107 100%[===================>]   1.01G   153MB/s    in 7.7s    \n",
            "K3241.K03200Y6.D107 100%[===================>]   1.01G   169MB/s    in 6.6s    \n",
            "K3241.K03200Y7.D107 100%[===================>]   1.01G   153MB/s    in 7.1s    \n",
            "K3241.K03200Y8.D107 100%[===================>]   1.01G   160MB/s    in 6.5s    \n",
            "K3241.K03200Y9.D107 100%[===================>]   1.01G   170MB/s    in 6.1s    \n"
          ]
        }
      ]
    },
    {
      "cell_type": "code",
      "source": [
        "from pyspark.sql.types import StructField, StructType, StringType, IntegerType"
      ],
      "metadata": {
        "id": "_sX8VDWxPhLu"
      },
      "execution_count": 74,
      "outputs": []
    },
    {
      "cell_type": "code",
      "source": [
        "schema = 'cnpj_basico STRING, cnpj_ordem STRING, cnpj_dv STRING, matriz_filial STRING, nome STRING, ' \\\n",
        "          ' situacao STRING, data STRING, motivo STRING, exterior STRING, pais STRING, inicio STRING, ' \\\n",
        "          ' cnae_principal STRING, cnae_secundario STRING, tipo STRING, logradouro STRING, numero STRING,' \\\n",
        "          ' compl STRING, bairro STRING, cep STRING, estado STRING, codmuni STRING, ddd STRING, telefone STRING, dd2 STRING, telefone2 STRING,' \\\n",
        "          ' ddd_fax STRING, fax STRING , email STRING, situacao_esp STRING, data_sit STRING'\n",
        "         \n",
        "# Create data frame de estabelecimentos\n",
        "estab1  = spark.read.format('csv').schema(schema).options(header=False, sep=\";\" ).load(\"/content/K3241.K03200Y0.D10710.ESTABELE.csv\")\n",
        "estab2  = spark.read.format('csv').schema(schema).options(header=False, sep=\";\" ).load(\"/content/K3241.K03200Y1.D10710.ESTABELE.csv\")\n",
        "estab3  = spark.read.format('csv').schema(schema).options(header=False, sep=\";\" ).load(\"/content/K3241.K03200Y2.D10710.ESTABELE.csv\")\n",
        "estab4  = spark.read.format('csv').schema(schema).options(header=False, sep=\";\" ).load(\"/content/K3241.K03200Y3.D10710.ESTABELE.csv\")\n",
        "estab5  = spark.read.format('csv').schema(schema).options(header=False, sep=\";\" ).load(\"/content/K3241.K03200Y4.D10710.ESTABELE.csv\")\n",
        "estab6  = spark.read.format('csv').schema(schema).options(header=False, sep=\";\" ).load(\"/content/K3241.K03200Y5.D10710.ESTABELE.csv\")\n",
        "estab7  = spark.read.format('csv').schema(schema).options(header=False, sep=\";\" ).load(\"/content/K3241.K03200Y6.D10710.ESTABELE.csv\")\n",
        "estab8  = spark.read.format('csv').schema(schema).options(header=False, sep=\";\" ).load(\"/content/K3241.K03200Y7.D10710.ESTABELE.csv\")\n",
        "estab9  = spark.read.format('csv').schema(schema).options(header=False, sep=\";\" ).load(\"/content/K3241.K03200Y8.D10710.ESTABELE.csv\")\n",
        "estab10 = spark.read.format('csv').schema(schema).options(header=False, sep=\";\" ).load(\"/content/K3241.K03200Y9.D10710.ESTABELE.csv\"\n",
        "\n"
      ],
      "metadata": {
        "colab": {
          "base_uri": "https://localhost:8080/"
        },
        "id": "jn1v_v1ebGed",
        "outputId": "de9b91b0-34ca-43db-bd93-3247f6759c8d"
      },
      "execution_count": 75,
      "outputs": [
        {
          "output_type": "execute_result",
          "data": {
            "text/plain": [
              "DataFrame[cnpj_basico: string, cnpj_ordem: string, cnpj_dv: string, matriz_filial: string, nome: string, situacao: string, data: string, motivo: string, exterior: string, pais: string, inicio: string, cnae_principal: string, cnae_secundario: string, tipo: string, logradouro: string, numero: string, compl: string, bairro: string, cep: string, estado: string, codmuni: string, ddd: string, telefone: string, dd2: string, telefone2: string, ddd_fax: string, fax: string, email: string, situacao_esp: string, data_sit: string]"
            ]
          },
          "metadata": {},
          "execution_count": 75
        }
      ]
    },
    {
      "cell_type": "code",
      "source": [
        "#unindo todos os dataframes\n",
        "estab = estab1.union(estab2)\n",
        "estab = estab.union(estab3)\n",
        "estab = estab.union(estab4)\n",
        "estab = estab.union(estab5)\n",
        "estab = estab.union(estab6)\n",
        "estab = estab.union(estab7)\n",
        "estab = estab.union(estab8)\n",
        "estab = estab.union(estab9)\n",
        "estab.count()"
      ],
      "metadata": {
        "colab": {
          "base_uri": "https://localhost:8080/"
        },
        "id": "KnBbTXrzwrdY",
        "outputId": "cf14d89b-5eb9-4551-8caf-0e4f5fbbef64"
      },
      "execution_count": 80,
      "outputs": [
        {
          "output_type": "execute_result",
          "data": {
            "text/plain": [
              "44444992"
            ]
          },
          "metadata": {},
          "execution_count": 80
        }
      ]
    },
    {
      "cell_type": "code",
      "source": [
        "#faltou o 10\n",
        "estab = estab.union(estab10)"
      ],
      "metadata": {
        "id": "91AYTrfwDMRy"
      },
      "execution_count": 97,
      "outputs": []
    },
    {
      "cell_type": "code",
      "source": [
        "estab.count()"
      ],
      "metadata": {
        "colab": {
          "base_uri": "https://localhost:8080/"
        },
        "id": "T4O0gTspDYK4",
        "outputId": "761ccd4a-edec-4d4f-9feb-3de79e7c3d0f"
      },
      "execution_count": 98,
      "outputs": [
        {
          "output_type": "execute_result",
          "data": {
            "text/plain": [
              "49198427"
            ]
          },
          "metadata": {},
          "execution_count": 98
        }
      ]
    },
    {
      "cell_type": "code",
      "source": [
        "municipio.show()"
      ],
      "metadata": {
        "colab": {
          "base_uri": "https://localhost:8080/"
        },
        "id": "sqanOP1OwFSM",
        "outputId": "8abf97b6-1bd1-4690-cd97-1c61e814ae1b"
      },
      "execution_count": 35,
      "outputs": [
        {
          "output_type": "stream",
          "name": "stdout",
          "text": [
            "+-------+--------------------+\n",
            "|codmuni|              cidade|\n",
            "+-------+--------------------+\n",
            "|   0001|       GUAJARA-MIRIM|\n",
            "|   0002|ALTO ALEGRE DOS P...|\n",
            "|   0003|         PORTO VELHO|\n",
            "|   0004|             BURITIS|\n",
            "|   0005|           JI-PARANA|\n",
            "|   0006|         CHUPINGUAIA|\n",
            "|   0007|           ARIQUEMES|\n",
            "|   0008|             CUJUBIM|\n",
            "|   0009|              CACOAL|\n",
            "|   0010|          NOVA UNIAO|\n",
            "|   0011|       PIMENTA BUENO|\n",
            "|   0012|             PARECIS|\n",
            "|   0013|             VILHENA|\n",
            "|   0014|PIMENTEIRAS DO OESTE|\n",
            "|   0015|                JARU|\n",
            "|   0016|PRIMAVERA DE ROND...|\n",
            "|   0017| OURO PRETO DO OESTE|\n",
            "|   0018|  SAO FELIPE D'OESTE|\n",
            "|   0019|   PRESIDENTE MEDICI|\n",
            "|   0020|SAO FRANCISCO DO ...|\n",
            "+-------+--------------------+\n",
            "only showing top 20 rows\n",
            "\n"
          ]
        }
      ]
    },
    {
      "cell_type": "code",
      "source": [
        "#Qual o código do CNAE mais presente nas empresas ativas? #Quantas empresas utilizam esse CNAE?\n",
        "from pyspark.sql.functions import col, concat_ws\n",
        "consulta1 = (\n",
        "    estab\n",
        "    .filter(col('situacao') == '02')   \n",
        "    .withColumn('cnae',concat_ws(',',col('cnae_principal'),col('cnae_secundario')))\n",
        "    .withColumn('cnae',split(col('cnae'),','))\n",
        "    .withColumn('cnae',explode(col('cnae')))\n",
        "    .groupby('cnae')\n",
        "    .agg(f.count('cnpj_basico').alias('qtde'))\n",
        "    .orderBy(col('qtde').desc())\n",
        "    )\n",
        "consulta1.show(5)"
      ],
      "metadata": {
        "colab": {
          "base_uri": "https://localhost:8080/"
        },
        "id": "IwtmO4QiawG4",
        "outputId": "aa80d385-ace8-4554-94d4-a1eac12c9140"
      },
      "execution_count": 99,
      "outputs": [
        {
          "output_type": "stream",
          "name": "stdout",
          "text": [
            "+-------+-------+\n",
            "|   cnae|   qtde|\n",
            "+-------+-------+\n",
            "|4781400|1781556|\n",
            "|4772500|1021115|\n",
            "|5611203| 937293|\n",
            "|9602501| 893140|\n",
            "|4723700| 854114|\n",
            "+-------+-------+\n",
            "only showing top 5 rows\n",
            "\n"
          ]
        }
      ]
    },
    {
      "cell_type": "code",
      "source": [
        "#Quantos CNPJs não ativos existem no estado de São Paulo?\n",
        "consulta3 = (\n",
        "    estab\n",
        "    .filter(col('situacao') != '02')   \n",
        "    .filter(col('estado') == 'SP')\n",
        "\n",
        "    )\n",
        "consulta3.count()"
      ],
      "metadata": {
        "colab": {
          "base_uri": "https://localhost:8080/"
        },
        "id": "pQIJg3CFglSE",
        "outputId": "76514534-95f3-49fa-dfbf-540cbe56d920"
      },
      "execution_count": 101,
      "outputs": [
        {
          "output_type": "execute_result",
          "data": {
            "text/plain": [
              "7966464"
            ]
          },
          "metadata": {},
          "execution_count": 101
        }
      ]
    },
    {
      "cell_type": "code",
      "source": [
        "estab.select('situacao').distinct().collect()"
      ],
      "metadata": {
        "colab": {
          "base_uri": "https://localhost:8080/"
        },
        "id": "qsLnQnRMINMR",
        "outputId": "9e705ab5-ca2c-4632-cc06-818c6a12e39f"
      },
      "execution_count": 105,
      "outputs": [
        {
          "output_type": "execute_result",
          "data": {
            "text/plain": [
              "[Row(situacao='20140505'),\n",
              " Row(situacao='20180619'),\n",
              " Row(situacao='01'),\n",
              " Row(situacao='DIET & LIGHT\"'),\n",
              " Row(situacao='20051103'),\n",
              " Row(situacao='20170109'),\n",
              " Row(situacao='08'),\n",
              " Row(situacao='03'),\n",
              " Row(situacao='02'),\n",
              " Row(situacao='BAZAR E PAPELARIA.\"'),\n",
              " Row(situacao='20181130'),\n",
              " Row(situacao='\"'),\n",
              " Row(situacao='20210325'),\n",
              " Row(situacao='20100518'),\n",
              " Row(situacao='04'),\n",
              " Row(situacao='20190514'),\n",
              " Row(situacao='20210422'),\n",
              " Row(situacao='20050924')]"
            ]
          },
          "metadata": {},
          "execution_count": 105
        }
      ]
    },
    {
      "cell_type": "code",
      "source": [
        "estab.show(10)"
      ],
      "metadata": {
        "colab": {
          "base_uri": "https://localhost:8080/"
        },
        "id": "WG-QV0_ZMgYv",
        "outputId": "f7045000-ad69-42bd-f793-a0134f4d2098"
      },
      "execution_count": 106,
      "outputs": [
        {
          "output_type": "stream",
          "name": "stdout",
          "text": [
            "+-----------+----------+-------+-------------+--------------------+--------+--------+------+--------+----+--------+--------------+--------------------+-------+--------------------+------+--------------------+--------------------+--------+------+-------+---+--------+----+---------+-------+----+--------------------+------------+--------+\n",
            "|cnpj_basico|cnpj_ordem|cnpj_dv|matriz_filial|                nome|situacao|    data|motivo|exterior|pais|  inicio|cnae_principal|     cnae_secundario|   tipo|          logradouro|numero|               compl|              bairro|     cep|estado|codmuni|ddd|telefone| dd2|telefone2|ddd_fax| fax|               email|situacao_esp|data_sit|\n",
            "+-----------+----------+-------+-------------+--------------------+--------+--------+------+--------+----+--------+--------------+--------------------+-------+--------------------+------+--------------------+--------------------+--------+------+-------+---+--------+----+---------+-------+----+--------------------+------------+--------+\n",
            "|   26638409|      0001|     21|            1|  CANTINHO DA LILICA|      02|20161130|    00|    null|null|20161130|       9602502|             9602501|    RUA|  maria olinda silva|   119|             APT 202|              centro|33200000|    MG|   5425| 31|92667948|null|     null|   null|null|elissouzap@hotmai...|        null|    null|\n",
            "|   26638420|      0001|     91|            1|NOBRE MADEIRAS DO...|      04|20210212|    63|    null|null|20161130|       4744001|7739099,4754701,2...|    RUA|           ITUMBIARA|  1143|  QUADRA 155;LOTE 25|       CIDADE JARDIM|74413120|    GO|   9373| 62|39881414|null|     null|   null|null|fmix.contabilidad...|        null|    null|\n",
            "|   26638434|      0001|     05|            1|   TECNODONTOMEDICAL|      08|20161216|    01|    null|null|20161130|       3319800|             4321500|    RUA|                   K|   385|CASA ;CASA ;CASA ...|         SAO CONRADO|49043236|    SE|   3105| 79|98704380|null|     null|   null|null|alex28ndre@gmail.com|        null|    null|\n",
            "|   26638446|      0001|     30|            1|                null|      04|20210303|    63|    null|null|20161130|       9700500|                null|AVENIDA|        PEDRA BRANCA|    13|                null|     VILA SAO JOSE I|65130000|    MA|   0849| 98|32649607|null|     null|   null|null|                null|        null|    null|\n",
            "|   26638459|      0001|     09|            1|                null|      02|20161130|    00|    null|null|20161130|       2542000|             2599301|    RUA|             MONTOJO|   115|           APT 202 B|  QUINTA DA PAINEIRA|03152160|    SP|   7107| 11|99999999|null|     null|   null|null|                null|        null|    null|\n",
            "|   26638471|      0001|     13|            1|                WPPW|      02|20161130|    00|    null|null|20161130|       4781400|4789003,4789099,4...|    RUA|     VALDOMIRO LOPES|  1424|                LOJA|           CONQUISTA|69918850|    AC|   0139| 68|99765906|null|     null|   null|null|   PHHAA@HOTMAIL.COM|        null|    null|\n",
            "|   26638482|      0001|     01|            1|VIDA PET BANHO E ...|      08|20180731|    01|    null|null|20161130|       9609208|             4789004|    RUA|   RIO GRANDE DO SUL|   999|              SALA 3|    JARDIM APUCARANA|86804390|    PR|   7425| 43|34222391|null|     null|   null|null|guimelj@yahoo.com.br|        null|    null|\n",
            "|   26638496|      0001|     17|            1|ELISANGELA & SILV...|      02|20161130|    00|    null|null|20161130|       4781400|                null|    RUA|MANOEL GUIMARAES ...|   621|                null|           BODOCONGO|58430450|    PB|   1981| 83|33334389|null|     null|   null|null|gilvanbatista2010...|        null|    null|\n",
            "|   26638508|      0001|     03|            1|   LUCAS EMPREITEIRO|      08|20170430|    01|    null|null|20161130|       4399103|             4759899|    RUA|         RIO SAPUCAI|  1150|                null|         SANTA LUZIA|37900556|    MG|   4957| 35|34133063|null|     null|   null|null|                null|        null|    null|\n",
            "|   26638521|      0001|     62|            1| ALTAS HORAS BEBIDAS|      04|20210413|    63|    null|null|20161130|       4723700|                null|    RUA|           SAO PAULO|   380|                null|LOTEAMENTO JOAO B...|11443380|    SP|   6475| 13|96918061|null|     null|   null|null|franciscosilva.12...|        null|    null|\n",
            "+-----------+----------+-------+-------------+--------------------+--------+--------+------+--------+----+--------+--------------+--------------------+-------+--------------------+------+--------------------+--------------------+--------+------+-------+---+--------+----+---------+-------+----+--------------------+------------+--------+\n",
            "only showing top 10 rows\n",
            "\n"
          ]
        }
      ]
    },
    {
      "cell_type": "code",
      "source": [
        "#CNAE DA CONSULTORIA\n",
        "cnae.filter(col('descricao')=='Consultoria em tecnologia da informação').show()"
      ],
      "metadata": {
        "colab": {
          "base_uri": "https://localhost:8080/"
        },
        "id": "R-7DNreYOInr",
        "outputId": "cc4cb172-6e05-421f-fce1-ff2106e12d17"
      },
      "execution_count": 109,
      "outputs": [
        {
          "output_type": "stream",
          "name": "stdout",
          "text": [
            "+-------+--------------------+\n",
            "|codcnae|           descricao|\n",
            "+-------+--------------------+\n",
            "|6204000|Consultoria em te...|\n",
            "+-------+--------------------+\n",
            "\n"
          ]
        }
      ]
    },
    {
      "cell_type": "code",
      "source": [
        "#belo horizonte\n",
        "municipio.filter(upper(col('cidade')) == 'BELO HORIZONTE').show()"
      ],
      "metadata": {
        "colab": {
          "base_uri": "https://localhost:8080/"
        },
        "id": "mnjIA9zoO5Tz",
        "outputId": "0a1d799c-0943-455f-90cb-a2e111cc1bef"
      },
      "execution_count": 113,
      "outputs": [
        {
          "output_type": "stream",
          "name": "stdout",
          "text": [
            "+-------+--------------+\n",
            "|codmuni|        cidade|\n",
            "+-------+--------------+\n",
            "|   4123|BELO HORIZONTE|\n",
            "+-------+--------------+\n",
            "\n"
          ]
        }
      ]
    },
    {
      "cell_type": "code",
      "source": [
        "#Quantas empresas de “Consultoria em tecnologia da informação” existem em Belo Horizonte?\n",
        "consulta6 = (\n",
        "    estab\n",
        "    .filter(col('codmuni') == '4123')   \n",
        "    .withColumn('cnae',concat_ws(',',col('cnae_principal'),col('cnae_secundario')))\n",
        "    .withColumn('cnae',split(col('cnae'),','))\n",
        "    .withColumn('cnae',explode(col('cnae')))\n",
        "    .filter(col('cnae') == '6204000')\n",
        "\n",
        ")\n",
        "consulta6.count()"
      ],
      "metadata": {
        "colab": {
          "base_uri": "https://localhost:8080/"
        },
        "id": "1MIklFotOa56",
        "outputId": "2bbe9c3e-11a4-47fb-b26f-6aa01d976e9a"
      },
      "execution_count": 118,
      "outputs": [
        {
          "output_type": "execute_result",
          "data": {
            "text/plain": [
              "6930"
            ]
          },
          "metadata": {},
          "execution_count": 118
        }
      ]
    },
    {
      "cell_type": "code",
      "source": [
        "from pyspark.sql.functions import col, concat_ws\n",
        "#Qual o código do CNAE mais presente nas empresas ativas? Quantas empresas utilizam esse CNAE?\n",
        " #.withColumn('cnae',explode(split('cnae_secundario',',')))\n",
        "consulta1 = (\n",
        "    estab10\n",
        "    .filter(col('situacao') == '02') \n",
        "    .withColumn('cnae',concat_ws(',',col('cnae_principal'),col('cnae_secundario')))\n",
        "    .withColumn('cnae',split(col('cnae'),','))\n",
        "    .withColumn('cnae',explode(col('cnae')))\n",
        "    )\n",
        "consulta1.show(5)"
      ],
      "metadata": {
        "colab": {
          "base_uri": "https://localhost:8080/"
        },
        "id": "iym_xuwG777R",
        "outputId": "29e2d1c5-a3cb-4407-cf28-1a2358edf581"
      },
      "execution_count": 93,
      "outputs": [
        {
          "output_type": "stream",
          "name": "stdout",
          "text": [
            "+-----------+----------+-------+-------------+-------------+--------+--------+------+--------+----+--------+--------------+--------------------+----+-------------+------+-----+-----------+--------+------+-------+---+--------+----+---------+-------+----+--------------------+------------+--------+-------+\n",
            "|cnpj_basico|cnpj_ordem|cnpj_dv|matriz_filial|         nome|situacao|    data|motivo|exterior|pais|  inicio|cnae_principal|     cnae_secundario|tipo|   logradouro|numero|compl|     bairro|     cep|estado|codmuni|ddd|telefone| dd2|telefone2|ddd_fax| fax|               email|situacao_esp|data_sit|   cnae|\n",
            "+-----------+----------+-------+-------------+-------------+--------+--------+------+--------+----+--------+--------------+--------------------+----+-------------+------+-----+-----------+--------+------+-------+---+--------+----+---------+-------+----+--------------------+------------+--------+-------+\n",
            "|   28625545|      0001|     02|            1|APTOS CLINICA|      02|20170913|    00|    null|null|20170913|       8650005|8650004,8690999,8...| RUA|ADOLFO BASTOS|  1141| null|VILA BASTOS|09041000|    SP|   7057| 11|44364192|null|     null|   null|null|CONTATO@APTOS-TO....|        null|    null|8650005|\n",
            "|   28625545|      0001|     02|            1|APTOS CLINICA|      02|20170913|    00|    null|null|20170913|       8650005|8650004,8690999,8...| RUA|ADOLFO BASTOS|  1141| null|VILA BASTOS|09041000|    SP|   7057| 11|44364192|null|     null|   null|null|CONTATO@APTOS-TO....|        null|    null|8650004|\n",
            "|   28625545|      0001|     02|            1|APTOS CLINICA|      02|20170913|    00|    null|null|20170913|       8650005|8650004,8690999,8...| RUA|ADOLFO BASTOS|  1141| null|VILA BASTOS|09041000|    SP|   7057| 11|44364192|null|     null|   null|null|CONTATO@APTOS-TO....|        null|    null|8690999|\n",
            "|   28625545|      0001|     02|            1|APTOS CLINICA|      02|20170913|    00|    null|null|20170913|       8650005|8650004,8690999,8...| RUA|ADOLFO BASTOS|  1141| null|VILA BASTOS|09041000|    SP|   7057| 11|44364192|null|     null|   null|null|CONTATO@APTOS-TO....|        null|    null|8690901|\n",
            "|   28625545|      0001|     02|            1|APTOS CLINICA|      02|20170913|    00|    null|null|20170913|       8650005|8650004,8690999,8...| RUA|ADOLFO BASTOS|  1141| null|VILA BASTOS|09041000|    SP|   7057| 11|44364192|null|     null|   null|null|CONTATO@APTOS-TO....|        null|    null|8599604|\n",
            "+-----------+----------+-------+-------------+-------------+--------+--------+------+--------+----+--------+--------------+--------------------+----+-------------+------+-----+-----------+--------+------+-------+---+--------+----+---------+-------+----+--------------------+------------+--------+-------+\n",
            "only showing top 5 rows\n",
            "\n"
          ]
        }
      ]
    },
    {
      "cell_type": "code",
      "source": [
        "#Qual o CNAE primário do IGTI?\n",
        "#Dica: O IGTI está localizado em Belo Horizonte.\n",
        "consulta7 = (\n",
        "    estab\n",
        "    .filter(col('codmuni') == '4123')   \n",
        "    .withColumn('nome',upper(col('nome')))\n",
        "    .filter( estab.nome.rlike ('.*IGTI.*')) \n",
        "    .select('nome','cnae_principal')\n",
        "    )\n",
        "consulta7.show(5)"
      ],
      "metadata": {
        "colab": {
          "base_uri": "https://localhost:8080/"
        },
        "id": "BRS7cx2oVQ-0",
        "outputId": "aa0df414-0b74-4f3d-9553-2c2d153c1283"
      },
      "execution_count": 130,
      "outputs": [
        {
          "output_type": "stream",
          "name": "stdout",
          "text": [
            "+----+--------------+\n",
            "|nome|cnae_principal|\n",
            "+----+--------------+\n",
            "|IGTI|       8532500|\n",
            "+----+--------------+\n",
            "\n"
          ]
        }
      ]
    },
    {
      "cell_type": "code",
      "source": [
        "cnae.filter(col('codcnae')=='8532500').show()"
      ],
      "metadata": {
        "colab": {
          "base_uri": "https://localhost:8080/"
        },
        "id": "pgHqNmY9Zp6X",
        "outputId": "e143b3f9-c185-4ea1-e12a-4f9d39718a33"
      },
      "execution_count": 131,
      "outputs": [
        {
          "output_type": "stream",
          "name": "stdout",
          "text": [
            "+-------+--------------------+\n",
            "|codcnae|           descricao|\n",
            "+-------+--------------------+\n",
            "|8532500|Educação superior...|\n",
            "+-------+--------------------+\n",
            "\n"
          ]
        }
      ]
    },
    {
      "cell_type": "code",
      "source": [
        "#Quantas empresas foram abertas desde 2020?\n",
        "estab.filter(col('data').rlike('202.*')).count()"
      ],
      "metadata": {
        "colab": {
          "base_uri": "https://localhost:8080/"
        },
        "id": "hZBR4sUdaffE",
        "outputId": "df2c1cef-fa0a-48f6-c9c4-62ebce26a32c"
      },
      "execution_count": 136,
      "outputs": [
        {
          "output_type": "execute_result",
          "data": {
            "text/plain": [
              "12223867"
            ]
          },
          "metadata": {},
          "execution_count": 136
        }
      ]
    },
    {
      "cell_type": "code",
      "source": [
        "#Quantas empresas foram abertas desde 2020?\n",
        "consulta8 = (\n",
        "    estab    \n",
        "    .withColumn('abertura',to_date(col('inicio'),'yyyyMMdd'))\n",
        "    .select('data','abertura')\n",
        "    .filter(col('abertura')>='2020-01-01')\n",
        "    )\n",
        "consulta8.count()"
      ],
      "metadata": {
        "colab": {
          "base_uri": "https://localhost:8080/"
        },
        "id": "_FPr6YAYde2Q",
        "outputId": "40a44712-99aa-46a5-c0ce-4fab1fa79ed2"
      },
      "execution_count": 145,
      "outputs": [
        {
          "output_type": "execute_result",
          "data": {
            "text/plain": [
              "6314458"
            ]
          },
          "metadata": {},
          "execution_count": 145
        }
      ]
    }
  ]
}