{
 "cells": [
  {
   "cell_type": "code",
   "execution_count": 1,
   "id": "f21e5b81",
   "metadata": {},
   "outputs": [],
   "source": [
    "from pyspark.sql import SparkSession\n",
    "from pyspark.sql import functions as f\n",
    "from pyspark.sql.functions import *"
   ]
  },
  {
   "cell_type": "code",
   "execution_count": 2,
   "id": "b483e03b",
   "metadata": {},
   "outputs": [],
   "source": [
    "#Start session Context com nome edc\n",
    "spark = SparkSession.builder.appName(\"EDC\").getOrCreate()"
   ]
  },
  {
   "cell_type": "code",
   "execution_count": 4,
   "id": "af37be42",
   "metadata": {},
   "outputs": [
    {
     "name": "stdout",
     "output_type": "stream",
     "text": [
      "Wall time: 468 ms\n"
     ]
    }
   ],
   "source": [
    "%%time\n",
    "edc = (\n",
    "    spark\n",
    "    .read\n",
    "    .format('csv')\n",
    "    .options(header=True, sep=\";\" )\n",
    "    .option(\"encoding\", \"iso-8859-1\")\n",
    "    .load(\"MICRODADOS_CADASTRO_CURSOS_2019.csv\")\n",
    " )\n"
   ]
  },
  {
   "cell_type": "code",
   "execution_count": 5,
   "id": "2393eb76-9dad-43fc-b4f4-1313d22410ea",
   "metadata": {},
   "outputs": [
    {
     "name": "stdout",
     "output_type": "stream",
     "text": [
      "Wall time: 948 ms\n"
     ]
    },
    {
     "data": {
      "text/plain": [
       "246081"
      ]
     },
     "execution_count": 5,
     "metadata": {},
     "output_type": "execute_result"
    }
   ],
   "source": [
    "%%time\n",
    "edc.count()"
   ]
  },
  {
   "cell_type": "code",
   "execution_count": 6,
   "id": "9c5f90cb",
   "metadata": {
    "scrolled": true,
    "tags": []
   },
   "outputs": [
    {
     "name": "stdout",
     "output_type": "stream",
     "text": [
      "root\n",
      " |-- NU_ANO_CENSO: string (nullable = true)\n",
      " |-- NO_REGIAO: string (nullable = true)\n",
      " |-- CO_REGIAO: string (nullable = true)\n",
      " |-- NO_UF: string (nullable = true)\n",
      " |-- SG_UF: string (nullable = true)\n",
      " |-- CO_UF: string (nullable = true)\n",
      " |-- NO_MUNICIPIO: string (nullable = true)\n",
      " |-- CO_MUNICIPIO: string (nullable = true)\n",
      " |-- IN_CAPITAL: string (nullable = true)\n",
      " |-- TP_ORGANIZACAO_ACADEMICA: string (nullable = true)\n",
      " |-- TP_CATEGORIA_ADMINISTRATIVA: string (nullable = true)\n",
      " |-- TP_REDE: string (nullable = true)\n",
      " |-- CO_IES: string (nullable = true)\n",
      " |-- NO_CINE_ROTULO: string (nullable = true)\n",
      " |-- CO_CINE_ROTULO: string (nullable = true)\n",
      " |-- CO_CINE_AREA_GERAL: string (nullable = true)\n",
      " |-- NO_CINE_AREA_GERAL: string (nullable = true)\n",
      " |-- CO_CINE_AREA_ESPECIFICA: string (nullable = true)\n",
      " |-- NO_CINE_AREA_ESPECIFICA: string (nullable = true)\n",
      " |-- CO_CINE_AREA_DETALHADA: string (nullable = true)\n",
      " |-- NO_CINE_AREA_DETALHADA: string (nullable = true)\n",
      " |-- TP_GRAU_ACADEMICO: string (nullable = true)\n",
      " |-- TP_MODALIDADE_ENSINO: string (nullable = true)\n",
      " |-- TP_NIVEL_ACADEMICO: string (nullable = true)\n",
      " |-- QT_CURSO: string (nullable = true)\n",
      " |-- QT_VG_TOTAL: string (nullable = true)\n",
      " |-- QT_VG_TOTAL_DIURNO: string (nullable = true)\n",
      " |-- QT_VG_TOTAL_NOTURNO: string (nullable = true)\n",
      " |-- QT_VG_TOTAL_EAD: string (nullable = true)\n",
      " |-- QT_VG_NOVA: string (nullable = true)\n",
      " |-- QT_VG_PROC_SELETIVO: string (nullable = true)\n",
      " |-- QT_VG_REMANESC: string (nullable = true)\n",
      " |-- QT_VG_PROG_ESPECIAL: string (nullable = true)\n",
      " |-- QT_INSCRITO_TOTAL: string (nullable = true)\n",
      " |-- QT_INSCRITO_TOTAL_DIURNO: string (nullable = true)\n",
      " |-- QT_INSCRITO_TOTAL_NOTURNO: string (nullable = true)\n",
      " |-- QT_INSCRITO_TOTAL_EAD: string (nullable = true)\n",
      " |-- QT_INSC_VG_NOVA: string (nullable = true)\n",
      " |-- QT_INSC_PROC_SELETIVO: string (nullable = true)\n",
      " |-- QT_INSC_VG_REMANESC: string (nullable = true)\n",
      " |-- QT_INSC_VG_PROG_ESPECIAL: string (nullable = true)\n",
      " |-- QT_ING: string (nullable = true)\n",
      " |-- QT_ING_FEM: string (nullable = true)\n",
      " |-- QT_ING_MASC: string (nullable = true)\n",
      " |-- QT_ING_DIURNO: string (nullable = true)\n",
      " |-- QT_ING_NOTURNO: string (nullable = true)\n",
      " |-- QT_ING_VG_NOVA: string (nullable = true)\n",
      " |-- QT_ING_VESTIBULAR: string (nullable = true)\n",
      " |-- QT_ING_ENEM: string (nullable = true)\n",
      " |-- QT_ING_AVALIACAO_SERIADA: string (nullable = true)\n",
      " |-- QT_ING_SELECAO_SIMPLIFICA: string (nullable = true)\n",
      " |-- QT_ING_EGR: string (nullable = true)\n",
      " |-- QT_ING_OUTRO_TIPO_SELECAO: string (nullable = true)\n",
      " |-- QT_ING_PROC_SELETIVO: string (nullable = true)\n",
      " |-- QT_ING_VG_REMANESC: string (nullable = true)\n",
      " |-- QT_ING_VG_PROG_ESPECIAL: string (nullable = true)\n",
      " |-- QT_ING_OUTRA_FORMA: string (nullable = true)\n",
      " |-- QT_ING_0_17: string (nullable = true)\n",
      " |-- QT_ING_18_24: string (nullable = true)\n",
      " |-- QT_ING_25_29: string (nullable = true)\n",
      " |-- QT_ING_30_34: string (nullable = true)\n",
      " |-- QT_ING_35_39: string (nullable = true)\n",
      " |-- QT_ING_40_49: string (nullable = true)\n",
      " |-- QT_ING_50_59: string (nullable = true)\n",
      " |-- QT_ING_60_MAIS: string (nullable = true)\n",
      " |-- QT_ING_BRANCA: string (nullable = true)\n",
      " |-- QT_ING_PRETA: string (nullable = true)\n",
      " |-- QT_ING_PARDA: string (nullable = true)\n",
      " |-- QT_ING_AMARELA: string (nullable = true)\n",
      " |-- QT_ING_INDIGENA: string (nullable = true)\n",
      " |-- QT_ING_CORND: string (nullable = true)\n",
      " |-- QT_MAT: string (nullable = true)\n",
      " |-- QT_MAT_FEM: string (nullable = true)\n",
      " |-- QT_MAT_MASC: string (nullable = true)\n",
      " |-- QT_MAT_DIURNO: string (nullable = true)\n",
      " |-- QT_MAT_NOTURNO: string (nullable = true)\n",
      " |-- QT_MAT_0_17: string (nullable = true)\n",
      " |-- QT_MAT_18_24: string (nullable = true)\n",
      " |-- QT_MAT_25_29: string (nullable = true)\n",
      " |-- QT_MAT_30_34: string (nullable = true)\n",
      " |-- QT_MAT_35_39: string (nullable = true)\n",
      " |-- QT_MAT_40_49: string (nullable = true)\n",
      " |-- QT_MAT_50_59: string (nullable = true)\n",
      " |-- QT_MAT_60_MAIS: string (nullable = true)\n",
      " |-- QT_MAT_BRANCA: string (nullable = true)\n",
      " |-- QT_MAT_PRETA: string (nullable = true)\n",
      " |-- QT_MAT_PARDA: string (nullable = true)\n",
      " |-- QT_MAT_AMARELA: string (nullable = true)\n",
      " |-- QT_MAT_INDIGENA: string (nullable = true)\n",
      " |-- QT_MAT_CORND: string (nullable = true)\n",
      " |-- QT_CONC: string (nullable = true)\n",
      " |-- QT_CONC_FEM: string (nullable = true)\n",
      " |-- QT_CONC_MASC: string (nullable = true)\n",
      " |-- QT_CONC_DIURNO: string (nullable = true)\n",
      " |-- QT_CONC_NOTURNO: string (nullable = true)\n",
      " |-- QT_CONC_0_17: string (nullable = true)\n",
      " |-- QT_CONC_18_24: string (nullable = true)\n",
      " |-- QT_CONC_25_29: string (nullable = true)\n",
      " |-- QT_CONC_30_34: string (nullable = true)\n",
      " |-- QT_CONC_35_39: string (nullable = true)\n",
      " |-- QT_CONC_40_49: string (nullable = true)\n",
      " |-- QT_CONC_50_59: string (nullable = true)\n",
      " |-- QT_CONC_60_MAIS: string (nullable = true)\n",
      " |-- QT_CONC_BRANCA: string (nullable = true)\n",
      " |-- QT_CONC_PRETA: string (nullable = true)\n",
      " |-- QT_CONC_PARDA: string (nullable = true)\n",
      " |-- QT_CONC_AMARELA: string (nullable = true)\n",
      " |-- QT_CONC_INDIGENA: string (nullable = true)\n",
      " |-- QT_CONC_CORND: string (nullable = true)\n",
      " |-- QT_ING_NACBRAS: string (nullable = true)\n",
      " |-- QT_ING_NACESTRANG: string (nullable = true)\n",
      " |-- QT_MAT_NACBRAS: string (nullable = true)\n",
      " |-- QT_MAT_NACESTRANG: string (nullable = true)\n",
      " |-- QT_CONC_NACBRAS: string (nullable = true)\n",
      " |-- QT_CONC_NACESTRANG: string (nullable = true)\n",
      " |-- QT_ALUNO_DEFICIENTE: string (nullable = true)\n",
      " |-- QT_ING_DEFICIENTE: string (nullable = true)\n",
      " |-- QT_MAT_DEFICIENTE: string (nullable = true)\n",
      " |-- QT_CONC_DEFICIENTE: string (nullable = true)\n",
      " |-- QT_ING_FINANC: string (nullable = true)\n",
      " |-- QT_ING_FINANC_REEMB: string (nullable = true)\n",
      " |-- QT_ING_FIES: string (nullable = true)\n",
      " |-- QT_ING_RPFIES: string (nullable = true)\n",
      " |-- QT_ING_FINANC_REEMB_OUTROS: string (nullable = true)\n",
      " |-- QT_ING_FINANC_NREEMB: string (nullable = true)\n",
      " |-- QT_ING_PROUNII: string (nullable = true)\n",
      " |-- QT_ING_PROUNIP: string (nullable = true)\n",
      " |-- QT_ING_NRPFIES: string (nullable = true)\n",
      " |-- QT_ING_FINANC_NREEMB_OUTROS: string (nullable = true)\n",
      " |-- QT_MAT_FINANC: string (nullable = true)\n",
      " |-- QT_MAT_FINANC_REEMB: string (nullable = true)\n",
      " |-- QT_MAT_FIES: string (nullable = true)\n",
      " |-- QT_MAT_RPFIES: string (nullable = true)\n",
      " |-- QT_MAT_FINANC_REEMB_OUTROS: string (nullable = true)\n",
      " |-- QT_MAT_FINANC_NREEMB: string (nullable = true)\n",
      " |-- QT_MAT_PROUNII: string (nullable = true)\n",
      " |-- QT_MAT_PROUNIP: string (nullable = true)\n",
      " |-- QT_MAT_NRPFIES: string (nullable = true)\n",
      " |-- QT_MAT_FINANC_NREEMB_OUTROS: string (nullable = true)\n",
      " |-- QT_CONC_FINANC: string (nullable = true)\n",
      " |-- QT_CONC_FINANC_REEMB: string (nullable = true)\n",
      " |-- QT_CONC_FIES: string (nullable = true)\n",
      " |-- QT_CONC_RPFIES: string (nullable = true)\n",
      " |-- QT_CONC_FINANC_REEMB_OUTROS: string (nullable = true)\n",
      " |-- QT_CONC_FINANC_NREEMB: string (nullable = true)\n",
      " |-- QT_CONC_PROUNII: string (nullable = true)\n",
      " |-- QT_CONC_PROUNIP: string (nullable = true)\n",
      " |-- QT_CONC_NRPFIES: string (nullable = true)\n",
      " |-- QT_CONC_FINANC_NREEMB_OUTROS: string (nullable = true)\n",
      " |-- QT_ING_RESERVA_VAGA: string (nullable = true)\n",
      " |-- QT_ING_RVREDEPUBLICA: string (nullable = true)\n",
      " |-- QT_ING_RVETNICO: string (nullable = true)\n",
      " |-- QT_ING_RVPDEF: string (nullable = true)\n",
      " |-- QT_ING_RVSOCIAL_RF: string (nullable = true)\n",
      " |-- QT_ING_RVOUTROS: string (nullable = true)\n",
      " |-- QT_MAT_RESERVA_VAGA: string (nullable = true)\n",
      " |-- QT_MAT_RVREDEPUBLICA: string (nullable = true)\n",
      " |-- QT_MAT_RVETNICO: string (nullable = true)\n",
      " |-- QT_MAT_RVPDEF: string (nullable = true)\n",
      " |-- QT_MAT_RVSOCIAL_RF: string (nullable = true)\n",
      " |-- QT_MAT_RVOUTROS: string (nullable = true)\n",
      " |-- QT_CONC_RESERVA_VAGA: string (nullable = true)\n",
      " |-- QT_CONC_RVREDEPUBLICA: string (nullable = true)\n",
      " |-- QT_CONC_RVETNICO: string (nullable = true)\n",
      " |-- QT_CONC_RVPDEF: string (nullable = true)\n",
      " |-- QT_CONC_RVSOCIAL_RF: string (nullable = true)\n",
      " |-- QT_CONC_RVOUTROS: string (nullable = true)\n",
      " |-- QT_SIT_TRANCADA: string (nullable = true)\n",
      " |-- QT_SIT_DESVINCULADO: string (nullable = true)\n",
      " |-- QT_SIT_TRANSFERIDO: string (nullable = true)\n",
      " |-- QT_SIT_FALECIDO: string (nullable = true)\n",
      " |-- QT_ING_PROCESCPUBLICA: string (nullable = true)\n",
      " |-- QT_ING_PROCESCPRIVADA: string (nullable = true)\n",
      " |-- QT_ING_PROCNAOINFORMADA: string (nullable = true)\n",
      " |-- QT_MAT_PROCESCPUBLICA: string (nullable = true)\n",
      " |-- QT_MAT_PROCESCPRIVADA: string (nullable = true)\n",
      " |-- QT_MAT_PROCNAOINFORMADA: string (nullable = true)\n",
      " |-- QT_CONC_PROCESCPUBLICA: string (nullable = true)\n",
      " |-- QT_CONC_PROCESCPRIVADA: string (nullable = true)\n",
      " |-- QT_CONC_PROCNAOINFORMADA: string (nullable = true)\n",
      " |-- QT_PARFOR: string (nullable = true)\n",
      " |-- QT_ING_PARFOR: string (nullable = true)\n",
      " |-- QT_MAT_PARFOR: string (nullable = true)\n",
      " |-- QT_CONC_PARFOR: string (nullable = true)\n",
      " |-- QT_APOIO_SOCIAL: string (nullable = true)\n",
      " |-- QT_ING_APOIO_SOCIAL: string (nullable = true)\n",
      " |-- QT_MAT_APOIO_SOCIAL: string (nullable = true)\n",
      " |-- QT_CONC_APOIO_SOCIAL: string (nullable = true)\n",
      " |-- QT_ATIV_EXTRACURRICULAR: string (nullable = true)\n",
      " |-- QT_ING_ATIV_EXTRACURRICULAR: string (nullable = true)\n",
      " |-- QT_MAT_ATIV_EXTRACURRICULAR: string (nullable = true)\n",
      " |-- QT_CONC_ATIV_EXTRACURRICULAR: string (nullable = true)\n",
      " |-- QT_MOB_ACADEMICA: string (nullable = true)\n",
      " |-- QT_ING_MOB_ACADEMICA: string (nullable = true)\n",
      " |-- QT_MAT_MOB_ACADEMICA: string (nullable = true)\n",
      " |-- QT_CONC_MOB_ACADEMICA: string (nullable = true)\n",
      "\n"
     ]
    }
   ],
   "source": [
    "edc.printSchema()"
   ]
  },
  {
   "cell_type": "code",
   "execution_count": 7,
   "id": "d39bcbb2",
   "metadata": {},
   "outputs": [
    {
     "name": "stdout",
     "output_type": "stream",
     "text": [
      "+---------+\n",
      "|    total|\n",
      "+---------+\n",
      "|1273332.0|\n",
      "+---------+\n",
      "\n",
      "Wall time: 1.23 s\n"
     ]
    }
   ],
   "source": [
    "%%time\n",
    "consulta1 = (\n",
    "    edc\n",
    "    .filter(col('QT_ING_CORND')== 1)\n",
    "    .select('QT_INSCRITO_TOTAL')\n",
    "    .agg(f.sum(col('QT_INSCRITO_TOTAL')).alias('total'))\n",
    ")\n",
    "consulta1.show()"
   ]
  },
  {
   "cell_type": "code",
   "execution_count": 8,
   "id": "7c6da6fb-afbf-407e-b992-78ae67c6bc54",
   "metadata": {},
   "outputs": [
    {
     "name": "stdout",
     "output_type": "stream",
     "text": [
      "+--------+\n",
      "|   total|\n",
      "+--------+\n",
      "|497560.0|\n",
      "+--------+\n",
      "\n"
     ]
    }
   ],
   "source": [
    "#Qual é o número de alunos do Sexo Feminino estão no colegio no estado de código 35?\n",
    "consulta2 = (\n",
    "    edc \n",
    "    .select('NO_MUNICIPIO','NO_UF','CO_UF','SG_UF','QT_MAT_FEM')\n",
    "    .filter(col('CO_UF')==31)\n",
    "    .agg( f.sum(col('QT_MAT_FEM')).alias('total'))\n",
    "    )\n",
    "consulta2.show(8)"
   ]
  },
  {
   "cell_type": "code",
   "execution_count": 9,
   "id": "2abfbfed-9148-4b33-8fc1-10e789ac136d",
   "metadata": {},
   "outputs": [
    {
     "name": "stdout",
     "output_type": "stream",
     "text": [
      "+--------+\n",
      "|   total|\n",
      "+--------+\n",
      "|298986.0|\n",
      "+--------+\n",
      "\n"
     ]
    }
   ],
   "source": [
    "#Quantos alunos do sexo feminino no estado de código \n",
    "consulta2 = (\n",
    "    edc \n",
    "    .select('NO_MUNICIPIO','NO_UF','CO_UF','SG_UF','QT_MAT_FEM')\n",
    "    .filter(col('CO_UF')==43)\n",
    "    .agg( f.sum(col('QT_MAT_FEM')).alias('total'))\n",
    "    )\n",
    "consulta2.show(8)"
   ]
  },
  {
   "cell_type": "code",
   "execution_count": 10,
   "id": "941d01b0-6a81-4e32-9e5a-01c51a93d05a",
   "metadata": {},
   "outputs": [
    {
     "name": "stdout",
     "output_type": "stream",
     "text": [
      "+-----------------+-----+---------+\n",
      "|            NO_UF|CO_UF|    total|\n",
      "+-----------------+-----+---------+\n",
      "|        São Paulo|   35|1145411.0|\n",
      "|     Minas Gerais|   31| 497560.0|\n",
      "|   Rio de Janeiro|   33| 408263.0|\n",
      "|           Paraná|   41| 317539.0|\n",
      "|Rio Grande do Sul|   43| 298986.0|\n",
      "|            Bahia|   29| 274264.0|\n",
      "|   Santa Catarina|   42| 223208.0|\n",
      "|            Ceará|   23| 176528.0|\n",
      "+-----------------+-----+---------+\n",
      "only showing top 8 rows\n",
      "\n",
      "Wall time: 2.44 s\n"
     ]
    }
   ],
   "source": [
    "%%time\n",
    "#matriculas femininas por estado\n",
    "consulta3 = (\n",
    "    edc \n",
    "    .select('NO_UF','CO_UF','QT_MAT_FEM')\n",
    "    .groupby('NO_UF','CO_UF')\n",
    "    .agg( f.sum(col('QT_MAT_FEM')).alias('total'))\n",
    "    .sort(col(\"Total\").desc())\n",
    "    )\n",
    "consulta3.show(8)"
   ]
  },
  {
   "cell_type": "code",
   "execution_count": 11,
   "id": "47a66b84-6136-4e49-bf9e-6f61ec101791",
   "metadata": {},
   "outputs": [
    {
     "name": "stdout",
     "output_type": "stream",
     "text": [
      "+-------------------+-----+-------+\n",
      "|              NO_UF|CO_UF|  total|\n",
      "+-------------------+-----+-------+\n",
      "|          São Paulo|   35|14770.0|\n",
      "|       Minas Gerais|   31| 6227.0|\n",
      "|             Paraná|   41| 4424.0|\n",
      "|  Rio Grande do Sul|   43| 4237.0|\n",
      "|     Rio de Janeiro|   33| 4152.0|\n",
      "|     Santa Catarina|   42| 3660.0|\n",
      "|            Paraíba|   25| 2923.0|\n",
      "|              Bahia|   29| 2659.0|\n",
      "|              Ceará|   23| 2586.0|\n",
      "|              Goiás|   52| 2119.0|\n",
      "|               Acre|   12| 1857.0|\n",
      "|               Pará|   15| 1837.0|\n",
      "|        Mato Grosso|   51| 1692.0|\n",
      "|   Distrito Federal|   53| 1555.0|\n",
      "|           Maranhão|   21| 1421.0|\n",
      "|         Pernambuco|   26| 1413.0|\n",
      "| Mato Grosso do Sul|   50| 1393.0|\n",
      "|     Espírito Santo|   32| 1240.0|\n",
      "|            Alagoas|   27| 1122.0|\n",
      "|Rio Grande do Norte|   24| 1042.0|\n",
      "+-------------------+-----+-------+\n",
      "only showing top 20 rows\n",
      "\n",
      "Wall time: 1.64 s\n"
     ]
    }
   ],
   "source": [
    "%%time\n",
    "# DEFICIENTES POR ESTADO\n",
    "consulta4 = (\n",
    "     edc \n",
    "    .select('NO_UF','CO_UF','QT_ALUNO_DEFICIENTE')\n",
    "    .groupby('NO_UF','CO_UF')\n",
    "    .agg( f.sum(col('QT_ALUNO_DEFICIENTE')).alias('total'))\n",
    "    .sort(col(\"Total\").desc())\n",
    "    \n",
    "\n",
    ")\n",
    "consulta4.show()"
   ]
  },
  {
   "cell_type": "code",
   "execution_count": 12,
   "id": "6f36695d-031b-4845-981a-443b6fac564d",
   "metadata": {},
   "outputs": [
    {
     "name": "stdout",
     "output_type": "stream",
     "text": [
      "+-----------------+-----+-------+\n",
      "|            NO_UF|CO_UF|  total|\n",
      "+-----------------+-----+-------+\n",
      "|        São Paulo|   35|55350.0|\n",
      "|            Bahia|   29|30793.0|\n",
      "|   Rio de Janeiro|   33|30154.0|\n",
      "|     Minas Gerais|   31|29318.0|\n",
      "|Rio Grande do Sul|   43|10774.0|\n",
      "|            Goiás|   52| 8057.0|\n",
      "| Distrito Federal|   53| 7846.0|\n",
      "|         Maranhão|   21| 7438.0|\n",
      "+-----------------+-----+-------+\n",
      "only showing top 8 rows\n",
      "\n",
      "Wall time: 1.45 s\n"
     ]
    }
   ],
   "source": [
    "%%time\n",
    "# PRETA POR ESTADO\n",
    "consulta3 = (\n",
    "    edc \n",
    "    .select('NO_UF','CO_UF','QT_ING_PRETA')\n",
    "    .groupby('NO_UF','CO_UF')\n",
    "    .agg( f.sum(col('QT_ING_PRETA')).alias('total'))\n",
    "    .sort(col(\"Total\").desc())\n",
    "    )\n",
    "consulta3.show(8)"
   ]
  },
  {
   "cell_type": "code",
   "execution_count": 14,
   "id": "af218a20-87f0-48b5-81fe-e057e0d96995",
   "metadata": {},
   "outputs": [
    {
     "name": "stdout",
     "output_type": "stream",
     "text": [
      "Wall time: 896 ms\n"
     ]
    },
    {
     "data": {
      "text/plain": [
       "353"
      ]
     },
     "execution_count": 14,
     "metadata": {},
     "output_type": "execute_result"
    }
   ],
   "source": [
    "%%time\n",
    "#Quantos casos foram reportados nesse dia?\n",
    "consulta4= (\n",
    "        edc\n",
    "         .select('NO_CINE_ROTULO')\n",
    "         .filter(col('NO_CINE_ROTULO').rlike ('.*dados*.'))\n",
    "\n",
    "            )\n",
    "consulta4.count()"
   ]
  },
  {
   "cell_type": "code",
   "execution_count": null,
   "id": "518f473a-75c5-48bd-8977-3f665a752ab2",
   "metadata": {},
   "outputs": [],
   "source": []
  }
 ],
 "metadata": {
  "kernelspec": {
   "display_name": "Python 3 (ipykernel)",
   "language": "python",
   "name": "python3"
  },
  "language_info": {
   "codemirror_mode": {
    "name": "ipython",
    "version": 3
   },
   "file_extension": ".py",
   "mimetype": "text/x-python",
   "name": "python",
   "nbconvert_exporter": "python",
   "pygments_lexer": "ipython3",
   "version": "3.9.7"
  }
 },
 "nbformat": 4,
 "nbformat_minor": 5
}
