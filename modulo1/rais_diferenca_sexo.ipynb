{
 "cells": [
  {
   "cell_type": "code",
   "execution_count": 1,
   "id": "9c6ce8ee",
   "metadata": {},
   "outputs": [],
   "source": [
    "import pandas as pd"
   ]
  },
  {
   "cell_type": "code",
   "execution_count": 2,
   "id": "9da33669",
   "metadata": {},
   "outputs": [],
   "source": [
    "fields=['Sexo Trabalhador','CNAE 2.0 Classe','Vl Remun Média Nom']\n",
    "fieldsnum = [37,8,34]"
   ]
  },
  {
   "cell_type": "code",
   "execution_count": 3,
   "id": "5ef6837c",
   "metadata": {},
   "outputs": [],
   "source": [
    "df_norte = pd.read_csv(\"RAIS_VINC_PUB_NORTE.csv\",encoding=\"ISO-8859-1\",delimiter=\";\", usecols=fields)"
   ]
  },
  {
   "cell_type": "code",
   "execution_count": 4,
   "id": "322267be",
   "metadata": {},
   "outputs": [],
   "source": [
    "df_norte=df_norte.loc[df_norte['CNAE 2.0 Classe']==62040]\n"
   ]
  },
  {
   "cell_type": "code",
   "execution_count": 6,
   "id": "ed99303e",
   "metadata": {},
   "outputs": [
    {
     "data": {
      "text/plain": [
       "(1581, 3)"
      ]
     },
     "execution_count": 6,
     "metadata": {},
     "output_type": "execute_result"
    }
   ],
   "source": [
    "df_norte.shape"
   ]
  },
  {
   "cell_type": "code",
   "execution_count": 7,
   "id": "a54d32ee",
   "metadata": {},
   "outputs": [],
   "source": [
    "df_norte['valor'] = df_norte['Vl Remun Média Nom'].map(lambda x: round(float(x.replace(',','.')),2)    ) "
   ]
  },
  {
   "cell_type": "code",
   "execution_count": 11,
   "id": "04b3ae33",
   "metadata": {},
   "outputs": [],
   "source": [
    "df_norte.drop(['CNAE 2.0 Classe', 'Vl Remun Média Nom'], axis=1,inplace=True)"
   ]
  },
  {
   "cell_type": "code",
   "execution_count": 12,
   "id": "86f8c0cd",
   "metadata": {},
   "outputs": [
    {
     "data": {
      "text/html": [
       "<div>\n",
       "<style scoped>\n",
       "    .dataframe tbody tr th:only-of-type {\n",
       "        vertical-align: middle;\n",
       "    }\n",
       "\n",
       "    .dataframe tbody tr th {\n",
       "        vertical-align: top;\n",
       "    }\n",
       "\n",
       "    .dataframe thead th {\n",
       "        text-align: right;\n",
       "    }\n",
       "</style>\n",
       "<table border=\"1\" class=\"dataframe\">\n",
       "  <thead>\n",
       "    <tr style=\"text-align: right;\">\n",
       "      <th></th>\n",
       "      <th>Sexo Trabalhador</th>\n",
       "      <th>valor</th>\n",
       "    </tr>\n",
       "  </thead>\n",
       "  <tbody>\n",
       "    <tr>\n",
       "      <th>20975</th>\n",
       "      <td>1</td>\n",
       "      <td>846.45</td>\n",
       "    </tr>\n",
       "    <tr>\n",
       "      <th>56525</th>\n",
       "      <td>1</td>\n",
       "      <td>1039.13</td>\n",
       "    </tr>\n",
       "    <tr>\n",
       "      <th>78738</th>\n",
       "      <td>1</td>\n",
       "      <td>1711.66</td>\n",
       "    </tr>\n",
       "    <tr>\n",
       "      <th>78739</th>\n",
       "      <td>1</td>\n",
       "      <td>1800.00</td>\n",
       "    </tr>\n",
       "    <tr>\n",
       "      <th>120659</th>\n",
       "      <td>2</td>\n",
       "      <td>1711.11</td>\n",
       "    </tr>\n",
       "    <tr>\n",
       "      <th>...</th>\n",
       "      <td>...</td>\n",
       "      <td>...</td>\n",
       "    </tr>\n",
       "    <tr>\n",
       "      <th>3639886</th>\n",
       "      <td>2</td>\n",
       "      <td>1765.18</td>\n",
       "    </tr>\n",
       "    <tr>\n",
       "      <th>3657918</th>\n",
       "      <td>2</td>\n",
       "      <td>1156.00</td>\n",
       "    </tr>\n",
       "    <tr>\n",
       "      <th>3667643</th>\n",
       "      <td>2</td>\n",
       "      <td>6421.07</td>\n",
       "    </tr>\n",
       "    <tr>\n",
       "      <th>3697009</th>\n",
       "      <td>2</td>\n",
       "      <td>5047.30</td>\n",
       "    </tr>\n",
       "    <tr>\n",
       "      <th>3697010</th>\n",
       "      <td>2</td>\n",
       "      <td>5301.89</td>\n",
       "    </tr>\n",
       "  </tbody>\n",
       "</table>\n",
       "<p>1581 rows × 2 columns</p>\n",
       "</div>"
      ],
      "text/plain": [
       "         Sexo Trabalhador    valor\n",
       "20975                   1   846.45\n",
       "56525                   1  1039.13\n",
       "78738                   1  1711.66\n",
       "78739                   1  1800.00\n",
       "120659                  2  1711.11\n",
       "...                   ...      ...\n",
       "3639886                 2  1765.18\n",
       "3657918                 2  1156.00\n",
       "3667643                 2  6421.07\n",
       "3697009                 2  5047.30\n",
       "3697010                 2  5301.89\n",
       "\n",
       "[1581 rows x 2 columns]"
      ]
     },
     "execution_count": 12,
     "metadata": {},
     "output_type": "execute_result"
    }
   ],
   "source": [
    "df_norte"
   ]
  },
  {
   "cell_type": "code",
   "execution_count": 16,
   "id": "88acbc71",
   "metadata": {},
   "outputs": [],
   "source": [
    "df_nordeste = pd.read_csv(\"RAIS_VINC_PUB_NORDESTE.csv\",encoding=\"ISO-8859-1\",delimiter=\";\", usecols=fieldsnum,header=None)"
   ]
  },
  {
   "cell_type": "code",
   "execution_count": 21,
   "id": "0c5a6d96",
   "metadata": {},
   "outputs": [
    {
     "data": {
      "text/html": [
       "<div>\n",
       "<style scoped>\n",
       "    .dataframe tbody tr th:only-of-type {\n",
       "        vertical-align: middle;\n",
       "    }\n",
       "\n",
       "    .dataframe tbody tr th {\n",
       "        vertical-align: top;\n",
       "    }\n",
       "\n",
       "    .dataframe thead th {\n",
       "        text-align: right;\n",
       "    }\n",
       "</style>\n",
       "<table border=\"1\" class=\"dataframe\">\n",
       "  <thead>\n",
       "    <tr style=\"text-align: right;\">\n",
       "      <th></th>\n",
       "      <th>8</th>\n",
       "      <th>34</th>\n",
       "      <th>37</th>\n",
       "    </tr>\n",
       "  </thead>\n",
       "  <tbody>\n",
       "    <tr>\n",
       "      <th>0</th>\n",
       "      <td>14134</td>\n",
       "      <td>0000001170,76</td>\n",
       "      <td>2</td>\n",
       "    </tr>\n",
       "    <tr>\n",
       "      <th>1</th>\n",
       "      <td>49302</td>\n",
       "      <td>0000001919,11</td>\n",
       "      <td>2</td>\n",
       "    </tr>\n",
       "    <tr>\n",
       "      <th>2</th>\n",
       "      <td>49302</td>\n",
       "      <td>0000001575,90</td>\n",
       "      <td>2</td>\n",
       "    </tr>\n",
       "    <tr>\n",
       "      <th>3</th>\n",
       "      <td>47717</td>\n",
       "      <td>0000002655,65</td>\n",
       "      <td>2</td>\n",
       "    </tr>\n",
       "    <tr>\n",
       "      <th>4</th>\n",
       "      <td>47717</td>\n",
       "      <td>0000002233,82</td>\n",
       "      <td>2</td>\n",
       "    </tr>\n",
       "  </tbody>\n",
       "</table>\n",
       "</div>"
      ],
      "text/plain": [
       "      8              34  37\n",
       "0  14134  0000001170,76   2\n",
       "1  49302  0000001919,11   2\n",
       "2  49302  0000001575,90   2\n",
       "3  47717  0000002655,65   2\n",
       "4  47717  0000002233,82   2"
      ]
     },
     "execution_count": 21,
     "metadata": {},
     "output_type": "execute_result"
    }
   ],
   "source": [
    "df_nordeste.head()"
   ]
  },
  {
   "cell_type": "code",
   "execution_count": 23,
   "id": "cd98cc43",
   "metadata": {},
   "outputs": [],
   "source": [
    "df_nordeste= df_nordeste.loc[df_nordeste[8]==62040]"
   ]
  },
  {
   "cell_type": "code",
   "execution_count": 24,
   "id": "372fce14",
   "metadata": {},
   "outputs": [
    {
     "name": "stderr",
     "output_type": "stream",
     "text": [
      "C:\\Users\\014207~1\\AppData\\Local\\Temp/ipykernel_9840/4162468604.py:1: SettingWithCopyWarning: \n",
      "A value is trying to be set on a copy of a slice from a DataFrame.\n",
      "Try using .loc[row_indexer,col_indexer] = value instead\n",
      "\n",
      "See the caveats in the documentation: https://pandas.pydata.org/pandas-docs/stable/user_guide/indexing.html#returning-a-view-versus-a-copy\n",
      "  df_nordeste['valor'] = df_nordeste[34].map(lambda x: round(float(x.replace(',','.')),2)    )\n"
     ]
    }
   ],
   "source": [
    "df_nordeste['valor'] = df_nordeste[34].map(lambda x: round(float(x.replace(',','.')),2)    ) "
   ]
  },
  {
   "cell_type": "code",
   "execution_count": 26,
   "id": "e32fae8b",
   "metadata": {},
   "outputs": [
    {
     "name": "stderr",
     "output_type": "stream",
     "text": [
      "C:\\Users\\014207631\\Anaconda3\\lib\\site-packages\\pandas\\core\\frame.py:4906: SettingWithCopyWarning: \n",
      "A value is trying to be set on a copy of a slice from a DataFrame\n",
      "\n",
      "See the caveats in the documentation: https://pandas.pydata.org/pandas-docs/stable/user_guide/indexing.html#returning-a-view-versus-a-copy\n",
      "  return super().drop(\n"
     ]
    }
   ],
   "source": [
    "df_nordeste.drop([8,34], axis=1,inplace=True)"
   ]
  },
  {
   "cell_type": "code",
   "execution_count": 27,
   "id": "61bd7e4a",
   "metadata": {},
   "outputs": [
    {
     "data": {
      "text/html": [
       "<div>\n",
       "<style scoped>\n",
       "    .dataframe tbody tr th:only-of-type {\n",
       "        vertical-align: middle;\n",
       "    }\n",
       "\n",
       "    .dataframe tbody tr th {\n",
       "        vertical-align: top;\n",
       "    }\n",
       "\n",
       "    .dataframe thead th {\n",
       "        text-align: right;\n",
       "    }\n",
       "</style>\n",
       "<table border=\"1\" class=\"dataframe\">\n",
       "  <thead>\n",
       "    <tr style=\"text-align: right;\">\n",
       "      <th></th>\n",
       "      <th>37</th>\n",
       "      <th>valor</th>\n",
       "    </tr>\n",
       "  </thead>\n",
       "  <tbody>\n",
       "    <tr>\n",
       "      <th>13505</th>\n",
       "      <td>2</td>\n",
       "      <td>2000.00</td>\n",
       "    </tr>\n",
       "    <tr>\n",
       "      <th>18228</th>\n",
       "      <td>2</td>\n",
       "      <td>1300.00</td>\n",
       "    </tr>\n",
       "    <tr>\n",
       "      <th>48504</th>\n",
       "      <td>2</td>\n",
       "      <td>1100.00</td>\n",
       "    </tr>\n",
       "    <tr>\n",
       "      <th>62297</th>\n",
       "      <td>2</td>\n",
       "      <td>1287.41</td>\n",
       "    </tr>\n",
       "    <tr>\n",
       "      <th>67347</th>\n",
       "      <td>2</td>\n",
       "      <td>5936.43</td>\n",
       "    </tr>\n",
       "    <tr>\n",
       "      <th>...</th>\n",
       "      <td>...</td>\n",
       "      <td>...</td>\n",
       "    </tr>\n",
       "    <tr>\n",
       "      <th>10550819</th>\n",
       "      <td>2</td>\n",
       "      <td>8577.25</td>\n",
       "    </tr>\n",
       "    <tr>\n",
       "      <th>10550820</th>\n",
       "      <td>2</td>\n",
       "      <td>8768.89</td>\n",
       "    </tr>\n",
       "    <tr>\n",
       "      <th>10550821</th>\n",
       "      <td>2</td>\n",
       "      <td>9133.86</td>\n",
       "    </tr>\n",
       "    <tr>\n",
       "      <th>10551675</th>\n",
       "      <td>2</td>\n",
       "      <td>8672.85</td>\n",
       "    </tr>\n",
       "    <tr>\n",
       "      <th>10555961</th>\n",
       "      <td>2</td>\n",
       "      <td>10671.92</td>\n",
       "    </tr>\n",
       "  </tbody>\n",
       "</table>\n",
       "<p>23174 rows × 2 columns</p>\n",
       "</div>"
      ],
      "text/plain": [
       "          37     valor\n",
       "13505      2   2000.00\n",
       "18228      2   1300.00\n",
       "48504      2   1100.00\n",
       "62297      2   1287.41\n",
       "67347      2   5936.43\n",
       "...       ..       ...\n",
       "10550819   2   8577.25\n",
       "10550820   2   8768.89\n",
       "10550821   2   9133.86\n",
       "10551675   2   8672.85\n",
       "10555961   2  10671.92\n",
       "\n",
       "[23174 rows x 2 columns]"
      ]
     },
     "execution_count": 27,
     "metadata": {},
     "output_type": "execute_result"
    }
   ],
   "source": [
    "df_nordeste"
   ]
  },
  {
   "cell_type": "code",
   "execution_count": 30,
   "id": "8acdbc94",
   "metadata": {},
   "outputs": [],
   "source": [
    "df_nordeste = df_nordeste.rename(columns = {37: \"Sexo Trabalhador\"})"
   ]
  },
  {
   "cell_type": "code",
   "execution_count": 33,
   "id": "838ef347",
   "metadata": {},
   "outputs": [
    {
     "data": {
      "text/html": [
       "<div>\n",
       "<style scoped>\n",
       "    .dataframe tbody tr th:only-of-type {\n",
       "        vertical-align: middle;\n",
       "    }\n",
       "\n",
       "    .dataframe tbody tr th {\n",
       "        vertical-align: top;\n",
       "    }\n",
       "\n",
       "    .dataframe thead th {\n",
       "        text-align: right;\n",
       "    }\n",
       "</style>\n",
       "<table border=\"1\" class=\"dataframe\">\n",
       "  <thead>\n",
       "    <tr style=\"text-align: right;\">\n",
       "      <th></th>\n",
       "      <th>Sexo Trabalhador</th>\n",
       "      <th>valor</th>\n",
       "    </tr>\n",
       "  </thead>\n",
       "  <tbody>\n",
       "    <tr>\n",
       "      <th>13505</th>\n",
       "      <td>2</td>\n",
       "      <td>2000.00</td>\n",
       "    </tr>\n",
       "    <tr>\n",
       "      <th>18228</th>\n",
       "      <td>2</td>\n",
       "      <td>1300.00</td>\n",
       "    </tr>\n",
       "    <tr>\n",
       "      <th>48504</th>\n",
       "      <td>2</td>\n",
       "      <td>1100.00</td>\n",
       "    </tr>\n",
       "    <tr>\n",
       "      <th>62297</th>\n",
       "      <td>2</td>\n",
       "      <td>1287.41</td>\n",
       "    </tr>\n",
       "    <tr>\n",
       "      <th>67347</th>\n",
       "      <td>2</td>\n",
       "      <td>5936.43</td>\n",
       "    </tr>\n",
       "    <tr>\n",
       "      <th>...</th>\n",
       "      <td>...</td>\n",
       "      <td>...</td>\n",
       "    </tr>\n",
       "    <tr>\n",
       "      <th>10550819</th>\n",
       "      <td>2</td>\n",
       "      <td>8577.25</td>\n",
       "    </tr>\n",
       "    <tr>\n",
       "      <th>10550820</th>\n",
       "      <td>2</td>\n",
       "      <td>8768.89</td>\n",
       "    </tr>\n",
       "    <tr>\n",
       "      <th>10550821</th>\n",
       "      <td>2</td>\n",
       "      <td>9133.86</td>\n",
       "    </tr>\n",
       "    <tr>\n",
       "      <th>10551675</th>\n",
       "      <td>2</td>\n",
       "      <td>8672.85</td>\n",
       "    </tr>\n",
       "    <tr>\n",
       "      <th>10555961</th>\n",
       "      <td>2</td>\n",
       "      <td>10671.92</td>\n",
       "    </tr>\n",
       "  </tbody>\n",
       "</table>\n",
       "<p>23174 rows × 2 columns</p>\n",
       "</div>"
      ],
      "text/plain": [
       "          Sexo Trabalhador     valor\n",
       "13505                    2   2000.00\n",
       "18228                    2   1300.00\n",
       "48504                    2   1100.00\n",
       "62297                    2   1287.41\n",
       "67347                    2   5936.43\n",
       "...                    ...       ...\n",
       "10550819                 2   8577.25\n",
       "10550820                 2   8768.89\n",
       "10550821                 2   9133.86\n",
       "10551675                 2   8672.85\n",
       "10555961                 2  10671.92\n",
       "\n",
       "[23174 rows x 2 columns]"
      ]
     },
     "execution_count": 33,
     "metadata": {},
     "output_type": "execute_result"
    }
   ],
   "source": [
    "df_nordeste"
   ]
  },
  {
   "cell_type": "code",
   "execution_count": 34,
   "id": "1ff43488",
   "metadata": {},
   "outputs": [],
   "source": [
    "df_centro = pd.read_csv(\"RAIS_VINC_PUB_CENTRO_OESTE.csv\",encoding=\"ISO-8859-1\",delimiter=\";\", usecols=fields)"
   ]
  },
  {
   "cell_type": "code",
   "execution_count": 35,
   "id": "a6301717",
   "metadata": {},
   "outputs": [
    {
     "data": {
      "text/html": [
       "<div>\n",
       "<style scoped>\n",
       "    .dataframe tbody tr th:only-of-type {\n",
       "        vertical-align: middle;\n",
       "    }\n",
       "\n",
       "    .dataframe tbody tr th {\n",
       "        vertical-align: top;\n",
       "    }\n",
       "\n",
       "    .dataframe thead th {\n",
       "        text-align: right;\n",
       "    }\n",
       "</style>\n",
       "<table border=\"1\" class=\"dataframe\">\n",
       "  <thead>\n",
       "    <tr style=\"text-align: right;\">\n",
       "      <th></th>\n",
       "      <th>CNAE 2.0 Classe</th>\n",
       "      <th>Vl Remun Média Nom</th>\n",
       "      <th>Sexo Trabalhador</th>\n",
       "    </tr>\n",
       "  </thead>\n",
       "  <tbody>\n",
       "    <tr>\n",
       "      <th>0</th>\n",
       "      <td>2209</td>\n",
       "      <td>0000001113,46</td>\n",
       "      <td>1</td>\n",
       "    </tr>\n",
       "    <tr>\n",
       "      <th>1</th>\n",
       "      <td>41107</td>\n",
       "      <td>0000001100,00</td>\n",
       "      <td>1</td>\n",
       "    </tr>\n",
       "    <tr>\n",
       "      <th>2</th>\n",
       "      <td>16102</td>\n",
       "      <td>0000001121,00</td>\n",
       "      <td>1</td>\n",
       "    </tr>\n",
       "    <tr>\n",
       "      <th>3</th>\n",
       "      <td>10651</td>\n",
       "      <td>0000002092,57</td>\n",
       "      <td>1</td>\n",
       "    </tr>\n",
       "    <tr>\n",
       "      <th>4</th>\n",
       "      <td>22226</td>\n",
       "      <td>0000001722,74</td>\n",
       "      <td>1</td>\n",
       "    </tr>\n",
       "    <tr>\n",
       "      <th>...</th>\n",
       "      <td>...</td>\n",
       "      <td>...</td>\n",
       "      <td>...</td>\n",
       "    </tr>\n",
       "    <tr>\n",
       "      <th>6161933</th>\n",
       "      <td>86402</td>\n",
       "      <td>0000011214,70</td>\n",
       "      <td>2</td>\n",
       "    </tr>\n",
       "    <tr>\n",
       "      <th>6161934</th>\n",
       "      <td>94995</td>\n",
       "      <td>0000013645,18</td>\n",
       "      <td>2</td>\n",
       "    </tr>\n",
       "    <tr>\n",
       "      <th>6161935</th>\n",
       "      <td>94995</td>\n",
       "      <td>0000010619,59</td>\n",
       "      <td>2</td>\n",
       "    </tr>\n",
       "    <tr>\n",
       "      <th>6161936</th>\n",
       "      <td>86402</td>\n",
       "      <td>0000008675,59</td>\n",
       "      <td>2</td>\n",
       "    </tr>\n",
       "    <tr>\n",
       "      <th>6161937</th>\n",
       "      <td>94201</td>\n",
       "      <td>0000011995,82</td>\n",
       "      <td>2</td>\n",
       "    </tr>\n",
       "  </tbody>\n",
       "</table>\n",
       "<p>6161938 rows × 3 columns</p>\n",
       "</div>"
      ],
      "text/plain": [
       "         CNAE 2.0 Classe Vl Remun Média Nom  Sexo Trabalhador\n",
       "0                   2209      0000001113,46                 1\n",
       "1                  41107      0000001100,00                 1\n",
       "2                  16102      0000001121,00                 1\n",
       "3                  10651      0000002092,57                 1\n",
       "4                  22226      0000001722,74                 1\n",
       "...                  ...                ...               ...\n",
       "6161933            86402      0000011214,70                 2\n",
       "6161934            94995      0000013645,18                 2\n",
       "6161935            94995      0000010619,59                 2\n",
       "6161936            86402      0000008675,59                 2\n",
       "6161937            94201      0000011995,82                 2\n",
       "\n",
       "[6161938 rows x 3 columns]"
      ]
     },
     "execution_count": 35,
     "metadata": {},
     "output_type": "execute_result"
    }
   ],
   "source": [
    "df_centro"
   ]
  },
  {
   "cell_type": "code",
   "execution_count": 38,
   "id": "c93ddda4",
   "metadata": {},
   "outputs": [],
   "source": [
    "df_centro=df_centro.loc[df_centro['CNAE 2.0 Classe']==62040]"
   ]
  },
  {
   "cell_type": "code",
   "execution_count": 39,
   "id": "a7019322",
   "metadata": {},
   "outputs": [
    {
     "name": "stderr",
     "output_type": "stream",
     "text": [
      "C:\\Users\\014207~1\\AppData\\Local\\Temp/ipykernel_9840/635063920.py:1: SettingWithCopyWarning: \n",
      "A value is trying to be set on a copy of a slice from a DataFrame.\n",
      "Try using .loc[row_indexer,col_indexer] = value instead\n",
      "\n",
      "See the caveats in the documentation: https://pandas.pydata.org/pandas-docs/stable/user_guide/indexing.html#returning-a-view-versus-a-copy\n",
      "  df_centro['valor'] = df_centro['Vl Remun Média Nom'].map(lambda x: round(float(x.replace(',','.')),2)    )\n"
     ]
    }
   ],
   "source": [
    "df_centro['valor'] = df_centro['Vl Remun Média Nom'].map(lambda x: round(float(x.replace(',','.')),2)    ) "
   ]
  },
  {
   "cell_type": "code",
   "execution_count": 40,
   "id": "69081e04",
   "metadata": {},
   "outputs": [
    {
     "data": {
      "text/html": [
       "<div>\n",
       "<style scoped>\n",
       "    .dataframe tbody tr th:only-of-type {\n",
       "        vertical-align: middle;\n",
       "    }\n",
       "\n",
       "    .dataframe tbody tr th {\n",
       "        vertical-align: top;\n",
       "    }\n",
       "\n",
       "    .dataframe thead th {\n",
       "        text-align: right;\n",
       "    }\n",
       "</style>\n",
       "<table border=\"1\" class=\"dataframe\">\n",
       "  <thead>\n",
       "    <tr style=\"text-align: right;\">\n",
       "      <th></th>\n",
       "      <th>CNAE 2.0 Classe</th>\n",
       "      <th>Vl Remun Média Nom</th>\n",
       "      <th>Sexo Trabalhador</th>\n",
       "      <th>valor</th>\n",
       "    </tr>\n",
       "  </thead>\n",
       "  <tbody>\n",
       "    <tr>\n",
       "      <th>77037</th>\n",
       "      <td>62040</td>\n",
       "      <td>0000000800,00</td>\n",
       "      <td>1</td>\n",
       "      <td>800.00</td>\n",
       "    </tr>\n",
       "    <tr>\n",
       "      <th>78970</th>\n",
       "      <td>62040</td>\n",
       "      <td>0000001118,98</td>\n",
       "      <td>1</td>\n",
       "      <td>1118.98</td>\n",
       "    </tr>\n",
       "    <tr>\n",
       "      <th>79752</th>\n",
       "      <td>62040</td>\n",
       "      <td>0000000634,67</td>\n",
       "      <td>1</td>\n",
       "      <td>634.67</td>\n",
       "    </tr>\n",
       "    <tr>\n",
       "      <th>85003</th>\n",
       "      <td>62040</td>\n",
       "      <td>0000001441,19</td>\n",
       "      <td>1</td>\n",
       "      <td>1441.19</td>\n",
       "    </tr>\n",
       "    <tr>\n",
       "      <th>85004</th>\n",
       "      <td>62040</td>\n",
       "      <td>0000001160,00</td>\n",
       "      <td>1</td>\n",
       "      <td>1160.00</td>\n",
       "    </tr>\n",
       "    <tr>\n",
       "      <th>...</th>\n",
       "      <td>...</td>\n",
       "      <td>...</td>\n",
       "      <td>...</td>\n",
       "      <td>...</td>\n",
       "    </tr>\n",
       "    <tr>\n",
       "      <th>6158301</th>\n",
       "      <td>62040</td>\n",
       "      <td>0000003186,62</td>\n",
       "      <td>2</td>\n",
       "      <td>3186.62</td>\n",
       "    </tr>\n",
       "    <tr>\n",
       "      <th>6158512</th>\n",
       "      <td>62040</td>\n",
       "      <td>0000004617,97</td>\n",
       "      <td>2</td>\n",
       "      <td>4617.97</td>\n",
       "    </tr>\n",
       "    <tr>\n",
       "      <th>6161667</th>\n",
       "      <td>62040</td>\n",
       "      <td>0000009000,00</td>\n",
       "      <td>2</td>\n",
       "      <td>9000.00</td>\n",
       "    </tr>\n",
       "    <tr>\n",
       "      <th>6161812</th>\n",
       "      <td>62040</td>\n",
       "      <td>0000014128,08</td>\n",
       "      <td>2</td>\n",
       "      <td>14128.08</td>\n",
       "    </tr>\n",
       "    <tr>\n",
       "      <th>6161901</th>\n",
       "      <td>62040</td>\n",
       "      <td>0000008124,85</td>\n",
       "      <td>2</td>\n",
       "      <td>8124.85</td>\n",
       "    </tr>\n",
       "  </tbody>\n",
       "</table>\n",
       "<p>10039 rows × 4 columns</p>\n",
       "</div>"
      ],
      "text/plain": [
       "         CNAE 2.0 Classe Vl Remun Média Nom  Sexo Trabalhador     valor\n",
       "77037              62040      0000000800,00                 1    800.00\n",
       "78970              62040      0000001118,98                 1   1118.98\n",
       "79752              62040      0000000634,67                 1    634.67\n",
       "85003              62040      0000001441,19                 1   1441.19\n",
       "85004              62040      0000001160,00                 1   1160.00\n",
       "...                  ...                ...               ...       ...\n",
       "6158301            62040      0000003186,62                 2   3186.62\n",
       "6158512            62040      0000004617,97                 2   4617.97\n",
       "6161667            62040      0000009000,00                 2   9000.00\n",
       "6161812            62040      0000014128,08                 2  14128.08\n",
       "6161901            62040      0000008124,85                 2   8124.85\n",
       "\n",
       "[10039 rows x 4 columns]"
      ]
     },
     "execution_count": 40,
     "metadata": {},
     "output_type": "execute_result"
    }
   ],
   "source": [
    "df_centro"
   ]
  },
  {
   "cell_type": "code",
   "execution_count": 41,
   "id": "120f33b2",
   "metadata": {},
   "outputs": [
    {
     "name": "stderr",
     "output_type": "stream",
     "text": [
      "C:\\Users\\014207631\\Anaconda3\\lib\\site-packages\\pandas\\core\\frame.py:4906: SettingWithCopyWarning: \n",
      "A value is trying to be set on a copy of a slice from a DataFrame\n",
      "\n",
      "See the caveats in the documentation: https://pandas.pydata.org/pandas-docs/stable/user_guide/indexing.html#returning-a-view-versus-a-copy\n",
      "  return super().drop(\n"
     ]
    }
   ],
   "source": [
    "df_centro.drop(['CNAE 2.0 Classe', 'Vl Remun Média Nom'], axis=1,inplace=True)"
   ]
  },
  {
   "cell_type": "code",
   "execution_count": 42,
   "id": "2d92b238",
   "metadata": {},
   "outputs": [],
   "source": [
    "df_sudeste = pd.read_csv(\"RAIS_VINC_PUB_MG_ES_RJ.csv\",encoding=\"ISO-8859-1\",delimiter=\";\", usecols=fields)"
   ]
  },
  {
   "cell_type": "code",
   "execution_count": 45,
   "id": "815ee8a3",
   "metadata": {},
   "outputs": [
    {
     "data": {
      "text/html": [
       "<div>\n",
       "<style scoped>\n",
       "    .dataframe tbody tr th:only-of-type {\n",
       "        vertical-align: middle;\n",
       "    }\n",
       "\n",
       "    .dataframe tbody tr th {\n",
       "        vertical-align: top;\n",
       "    }\n",
       "\n",
       "    .dataframe thead th {\n",
       "        text-align: right;\n",
       "    }\n",
       "</style>\n",
       "<table border=\"1\" class=\"dataframe\">\n",
       "  <thead>\n",
       "    <tr style=\"text-align: right;\">\n",
       "      <th></th>\n",
       "      <th>CNAE 2.0 Classe</th>\n",
       "      <th>Vl Remun Média Nom</th>\n",
       "      <th>Sexo Trabalhador</th>\n",
       "    </tr>\n",
       "  </thead>\n",
       "  <tbody>\n",
       "    <tr>\n",
       "      <th>0</th>\n",
       "      <td>41204</td>\n",
       "      <td>0000000000,00</td>\n",
       "      <td>1</td>\n",
       "    </tr>\n",
       "    <tr>\n",
       "      <th>1</th>\n",
       "      <td>41204</td>\n",
       "      <td>0000001749,00</td>\n",
       "      <td>1</td>\n",
       "    </tr>\n",
       "    <tr>\n",
       "      <th>2</th>\n",
       "      <td>46231</td>\n",
       "      <td>0000001331,76</td>\n",
       "      <td>1</td>\n",
       "    </tr>\n",
       "    <tr>\n",
       "      <th>3</th>\n",
       "      <td>49302</td>\n",
       "      <td>0000000946,30</td>\n",
       "      <td>1</td>\n",
       "    </tr>\n",
       "    <tr>\n",
       "      <th>4</th>\n",
       "      <td>15106</td>\n",
       "      <td>0000000845,61</td>\n",
       "      <td>1</td>\n",
       "    </tr>\n",
       "    <tr>\n",
       "      <th>...</th>\n",
       "      <td>...</td>\n",
       "      <td>...</td>\n",
       "      <td>...</td>\n",
       "    </tr>\n",
       "    <tr>\n",
       "      <th>13558496</th>\n",
       "      <td>64620</td>\n",
       "      <td>0000002149,21</td>\n",
       "      <td>2</td>\n",
       "    </tr>\n",
       "    <tr>\n",
       "      <th>13558497</th>\n",
       "      <td>85139</td>\n",
       "      <td>0000003604,79</td>\n",
       "      <td>2</td>\n",
       "    </tr>\n",
       "    <tr>\n",
       "      <th>13558498</th>\n",
       "      <td>85139</td>\n",
       "      <td>0000002768,96</td>\n",
       "      <td>2</td>\n",
       "    </tr>\n",
       "    <tr>\n",
       "      <th>13558499</th>\n",
       "      <td>82113</td>\n",
       "      <td>0000008707,37</td>\n",
       "      <td>2</td>\n",
       "    </tr>\n",
       "    <tr>\n",
       "      <th>13558500</th>\n",
       "      <td>85937</td>\n",
       "      <td>0000003599,02</td>\n",
       "      <td>2</td>\n",
       "    </tr>\n",
       "  </tbody>\n",
       "</table>\n",
       "<p>13558501 rows × 3 columns</p>\n",
       "</div>"
      ],
      "text/plain": [
       "          CNAE 2.0 Classe Vl Remun Média Nom  Sexo Trabalhador\n",
       "0                   41204      0000000000,00                 1\n",
       "1                   41204      0000001749,00                 1\n",
       "2                   46231      0000001331,76                 1\n",
       "3                   49302      0000000946,30                 1\n",
       "4                   15106      0000000845,61                 1\n",
       "...                   ...                ...               ...\n",
       "13558496            64620      0000002149,21                 2\n",
       "13558497            85139      0000003604,79                 2\n",
       "13558498            85139      0000002768,96                 2\n",
       "13558499            82113      0000008707,37                 2\n",
       "13558500            85937      0000003599,02                 2\n",
       "\n",
       "[13558501 rows x 3 columns]"
      ]
     },
     "execution_count": 45,
     "metadata": {},
     "output_type": "execute_result"
    }
   ],
   "source": [
    "df_sudeste"
   ]
  },
  {
   "cell_type": "code",
   "execution_count": 47,
   "id": "cc80482a",
   "metadata": {},
   "outputs": [
    {
     "name": "stderr",
     "output_type": "stream",
     "text": [
      "C:\\Users\\014207~1\\AppData\\Local\\Temp/ipykernel_9840/2439737074.py:2: SettingWithCopyWarning: \n",
      "A value is trying to be set on a copy of a slice from a DataFrame.\n",
      "Try using .loc[row_indexer,col_indexer] = value instead\n",
      "\n",
      "See the caveats in the documentation: https://pandas.pydata.org/pandas-docs/stable/user_guide/indexing.html#returning-a-view-versus-a-copy\n",
      "  df_sudeste['valor'] = df_sudeste['Vl Remun Média Nom'].map(lambda x: round(float(x.replace(',','.')),2)    )\n",
      "C:\\Users\\014207631\\Anaconda3\\lib\\site-packages\\pandas\\core\\frame.py:4906: SettingWithCopyWarning: \n",
      "A value is trying to be set on a copy of a slice from a DataFrame\n",
      "\n",
      "See the caveats in the documentation: https://pandas.pydata.org/pandas-docs/stable/user_guide/indexing.html#returning-a-view-versus-a-copy\n",
      "  return super().drop(\n"
     ]
    }
   ],
   "source": [
    "df_sudeste=df_sudeste.loc[df_sudeste['CNAE 2.0 Classe']==62040]\n",
    "df_sudeste['valor'] = df_sudeste['Vl Remun Média Nom'].map(lambda x: round(float(x.replace(',','.')),2)    ) \n",
    "df_sudeste.drop(['CNAE 2.0 Classe', 'Vl Remun Média Nom'], axis=1,inplace=True)"
   ]
  },
  {
   "cell_type": "code",
   "execution_count": 48,
   "id": "ca04bce1",
   "metadata": {},
   "outputs": [
    {
     "data": {
      "text/html": [
       "<div>\n",
       "<style scoped>\n",
       "    .dataframe tbody tr th:only-of-type {\n",
       "        vertical-align: middle;\n",
       "    }\n",
       "\n",
       "    .dataframe tbody tr th {\n",
       "        vertical-align: top;\n",
       "    }\n",
       "\n",
       "    .dataframe thead th {\n",
       "        text-align: right;\n",
       "    }\n",
       "</style>\n",
       "<table border=\"1\" class=\"dataframe\">\n",
       "  <thead>\n",
       "    <tr style=\"text-align: right;\">\n",
       "      <th></th>\n",
       "      <th>Sexo Trabalhador</th>\n",
       "      <th>valor</th>\n",
       "    </tr>\n",
       "  </thead>\n",
       "  <tbody>\n",
       "    <tr>\n",
       "      <th>62087</th>\n",
       "      <td>1</td>\n",
       "      <td>1132.11</td>\n",
       "    </tr>\n",
       "    <tr>\n",
       "      <th>88384</th>\n",
       "      <td>1</td>\n",
       "      <td>4823.58</td>\n",
       "    </tr>\n",
       "    <tr>\n",
       "      <th>115335</th>\n",
       "      <td>1</td>\n",
       "      <td>1849.24</td>\n",
       "    </tr>\n",
       "    <tr>\n",
       "      <th>222516</th>\n",
       "      <td>1</td>\n",
       "      <td>1214.24</td>\n",
       "    </tr>\n",
       "    <tr>\n",
       "      <th>226088</th>\n",
       "      <td>1</td>\n",
       "      <td>1601.14</td>\n",
       "    </tr>\n",
       "    <tr>\n",
       "      <th>...</th>\n",
       "      <td>...</td>\n",
       "      <td>...</td>\n",
       "    </tr>\n",
       "    <tr>\n",
       "      <th>13551437</th>\n",
       "      <td>2</td>\n",
       "      <td>1606.18</td>\n",
       "    </tr>\n",
       "    <tr>\n",
       "      <th>13551724</th>\n",
       "      <td>2</td>\n",
       "      <td>8138.73</td>\n",
       "    </tr>\n",
       "    <tr>\n",
       "      <th>13551981</th>\n",
       "      <td>2</td>\n",
       "      <td>15092.60</td>\n",
       "    </tr>\n",
       "    <tr>\n",
       "      <th>13553578</th>\n",
       "      <td>2</td>\n",
       "      <td>15839.67</td>\n",
       "    </tr>\n",
       "    <tr>\n",
       "      <th>13553819</th>\n",
       "      <td>2</td>\n",
       "      <td>9852.68</td>\n",
       "    </tr>\n",
       "  </tbody>\n",
       "</table>\n",
       "<p>25362 rows × 2 columns</p>\n",
       "</div>"
      ],
      "text/plain": [
       "          Sexo Trabalhador     valor\n",
       "62087                    1   1132.11\n",
       "88384                    1   4823.58\n",
       "115335                   1   1849.24\n",
       "222516                   1   1214.24\n",
       "226088                   1   1601.14\n",
       "...                    ...       ...\n",
       "13551437                 2   1606.18\n",
       "13551724                 2   8138.73\n",
       "13551981                 2  15092.60\n",
       "13553578                 2  15839.67\n",
       "13553819                 2   9852.68\n",
       "\n",
       "[25362 rows x 2 columns]"
      ]
     },
     "execution_count": 48,
     "metadata": {},
     "output_type": "execute_result"
    }
   ],
   "source": [
    "df_sudeste"
   ]
  },
  {
   "cell_type": "code",
   "execution_count": 49,
   "id": "af846dc3",
   "metadata": {},
   "outputs": [],
   "source": [
    "df_sp = pd.read_csv(\"RAIS_VINC_PUB_SP.csv\",encoding=\"ISO-8859-1\",delimiter=\";\", usecols=fields)"
   ]
  },
  {
   "cell_type": "code",
   "execution_count": 50,
   "id": "b7e5eb0d",
   "metadata": {},
   "outputs": [
    {
     "data": {
      "text/html": [
       "<div>\n",
       "<style scoped>\n",
       "    .dataframe tbody tr th:only-of-type {\n",
       "        vertical-align: middle;\n",
       "    }\n",
       "\n",
       "    .dataframe tbody tr th {\n",
       "        vertical-align: top;\n",
       "    }\n",
       "\n",
       "    .dataframe thead th {\n",
       "        text-align: right;\n",
       "    }\n",
       "</style>\n",
       "<table border=\"1\" class=\"dataframe\">\n",
       "  <thead>\n",
       "    <tr style=\"text-align: right;\">\n",
       "      <th></th>\n",
       "      <th>CNAE 2.0 Classe</th>\n",
       "      <th>Vl Remun Média Nom</th>\n",
       "      <th>Sexo Trabalhador</th>\n",
       "    </tr>\n",
       "  </thead>\n",
       "  <tbody>\n",
       "    <tr>\n",
       "      <th>0</th>\n",
       "      <td>81214</td>\n",
       "      <td>0000001141,23</td>\n",
       "      <td>1</td>\n",
       "    </tr>\n",
       "    <tr>\n",
       "      <th>1</th>\n",
       "      <td>41204</td>\n",
       "      <td>0000002252,42</td>\n",
       "      <td>1</td>\n",
       "    </tr>\n",
       "    <tr>\n",
       "      <th>2</th>\n",
       "      <td>56112</td>\n",
       "      <td>0000001109,85</td>\n",
       "      <td>1</td>\n",
       "    </tr>\n",
       "    <tr>\n",
       "      <th>3</th>\n",
       "      <td>43134</td>\n",
       "      <td>0000001317,67</td>\n",
       "      <td>1</td>\n",
       "    </tr>\n",
       "    <tr>\n",
       "      <th>4</th>\n",
       "      <td>38114</td>\n",
       "      <td>0000001996,51</td>\n",
       "      <td>1</td>\n",
       "    </tr>\n",
       "    <tr>\n",
       "      <th>...</th>\n",
       "      <td>...</td>\n",
       "      <td>...</td>\n",
       "      <td>...</td>\n",
       "    </tr>\n",
       "    <tr>\n",
       "      <th>18888458</th>\n",
       "      <td>85333</td>\n",
       "      <td>0000006612,52</td>\n",
       "      <td>2</td>\n",
       "    </tr>\n",
       "    <tr>\n",
       "      <th>18888459</th>\n",
       "      <td>69206</td>\n",
       "      <td>0000002254,89</td>\n",
       "      <td>2</td>\n",
       "    </tr>\n",
       "    <tr>\n",
       "      <th>18888460</th>\n",
       "      <td>69206</td>\n",
       "      <td>0000003130,23</td>\n",
       "      <td>2</td>\n",
       "    </tr>\n",
       "    <tr>\n",
       "      <th>18888461</th>\n",
       "      <td>11135</td>\n",
       "      <td>0000002044,61</td>\n",
       "      <td>2</td>\n",
       "    </tr>\n",
       "    <tr>\n",
       "      <th>18888462</th>\n",
       "      <td>85139</td>\n",
       "      <td>0000007943,63</td>\n",
       "      <td>2</td>\n",
       "    </tr>\n",
       "  </tbody>\n",
       "</table>\n",
       "<p>18888463 rows × 3 columns</p>\n",
       "</div>"
      ],
      "text/plain": [
       "          CNAE 2.0 Classe Vl Remun Média Nom  Sexo Trabalhador\n",
       "0                   81214      0000001141,23                 1\n",
       "1                   41204      0000002252,42                 1\n",
       "2                   56112      0000001109,85                 1\n",
       "3                   43134      0000001317,67                 1\n",
       "4                   38114      0000001996,51                 1\n",
       "...                   ...                ...               ...\n",
       "18888458            85333      0000006612,52                 2\n",
       "18888459            69206      0000002254,89                 2\n",
       "18888460            69206      0000003130,23                 2\n",
       "18888461            11135      0000002044,61                 2\n",
       "18888462            85139      0000007943,63                 2\n",
       "\n",
       "[18888463 rows x 3 columns]"
      ]
     },
     "execution_count": 50,
     "metadata": {},
     "output_type": "execute_result"
    }
   ],
   "source": [
    "df_sp"
   ]
  },
  {
   "cell_type": "code",
   "execution_count": 51,
   "id": "bd6650d5",
   "metadata": {},
   "outputs": [
    {
     "name": "stderr",
     "output_type": "stream",
     "text": [
      "C:\\Users\\014207~1\\AppData\\Local\\Temp/ipykernel_9840/2020413705.py:2: SettingWithCopyWarning: \n",
      "A value is trying to be set on a copy of a slice from a DataFrame.\n",
      "Try using .loc[row_indexer,col_indexer] = value instead\n",
      "\n",
      "See the caveats in the documentation: https://pandas.pydata.org/pandas-docs/stable/user_guide/indexing.html#returning-a-view-versus-a-copy\n",
      "  df_sp['valor'] = df_sp['Vl Remun Média Nom'].map(lambda x: round(float(x.replace(',','.')),2)    )\n",
      "C:\\Users\\014207631\\Anaconda3\\lib\\site-packages\\pandas\\core\\frame.py:4906: SettingWithCopyWarning: \n",
      "A value is trying to be set on a copy of a slice from a DataFrame\n",
      "\n",
      "See the caveats in the documentation: https://pandas.pydata.org/pandas-docs/stable/user_guide/indexing.html#returning-a-view-versus-a-copy\n",
      "  return super().drop(\n"
     ]
    }
   ],
   "source": [
    "df_sp=df_sp.loc[df_sp['CNAE 2.0 Classe']==62040]\n",
    "df_sp['valor'] = df_sp['Vl Remun Média Nom'].map(lambda x: round(float(x.replace(',','.')),2)    ) \n",
    "df_sp.drop(['CNAE 2.0 Classe', 'Vl Remun Média Nom'], axis=1,inplace=True)"
   ]
  },
  {
   "cell_type": "code",
   "execution_count": 52,
   "id": "d65bf88c",
   "metadata": {},
   "outputs": [
    {
     "data": {
      "text/html": [
       "<div>\n",
       "<style scoped>\n",
       "    .dataframe tbody tr th:only-of-type {\n",
       "        vertical-align: middle;\n",
       "    }\n",
       "\n",
       "    .dataframe tbody tr th {\n",
       "        vertical-align: top;\n",
       "    }\n",
       "\n",
       "    .dataframe thead th {\n",
       "        text-align: right;\n",
       "    }\n",
       "</style>\n",
       "<table border=\"1\" class=\"dataframe\">\n",
       "  <thead>\n",
       "    <tr style=\"text-align: right;\">\n",
       "      <th></th>\n",
       "      <th>Sexo Trabalhador</th>\n",
       "      <th>valor</th>\n",
       "    </tr>\n",
       "  </thead>\n",
       "  <tbody>\n",
       "    <tr>\n",
       "      <th>825</th>\n",
       "      <td>1</td>\n",
       "      <td>1470.00</td>\n",
       "    </tr>\n",
       "    <tr>\n",
       "      <th>1110</th>\n",
       "      <td>1</td>\n",
       "      <td>543.90</td>\n",
       "    </tr>\n",
       "    <tr>\n",
       "      <th>2727</th>\n",
       "      <td>1</td>\n",
       "      <td>636.95</td>\n",
       "    </tr>\n",
       "    <tr>\n",
       "      <th>6538</th>\n",
       "      <td>1</td>\n",
       "      <td>756.00</td>\n",
       "    </tr>\n",
       "    <tr>\n",
       "      <th>51355</th>\n",
       "      <td>1</td>\n",
       "      <td>3539.08</td>\n",
       "    </tr>\n",
       "    <tr>\n",
       "      <th>...</th>\n",
       "      <td>...</td>\n",
       "      <td>...</td>\n",
       "    </tr>\n",
       "    <tr>\n",
       "      <th>18886708</th>\n",
       "      <td>2</td>\n",
       "      <td>9103.69</td>\n",
       "    </tr>\n",
       "    <tr>\n",
       "      <th>18886710</th>\n",
       "      <td>2</td>\n",
       "      <td>4910.48</td>\n",
       "    </tr>\n",
       "    <tr>\n",
       "      <th>18887034</th>\n",
       "      <td>2</td>\n",
       "      <td>8936.17</td>\n",
       "    </tr>\n",
       "    <tr>\n",
       "      <th>18887574</th>\n",
       "      <td>2</td>\n",
       "      <td>8008.12</td>\n",
       "    </tr>\n",
       "    <tr>\n",
       "      <th>18887878</th>\n",
       "      <td>2</td>\n",
       "      <td>2875.97</td>\n",
       "    </tr>\n",
       "  </tbody>\n",
       "</table>\n",
       "<p>50271 rows × 2 columns</p>\n",
       "</div>"
      ],
      "text/plain": [
       "          Sexo Trabalhador    valor\n",
       "825                      1  1470.00\n",
       "1110                     1   543.90\n",
       "2727                     1   636.95\n",
       "6538                     1   756.00\n",
       "51355                    1  3539.08\n",
       "...                    ...      ...\n",
       "18886708                 2  9103.69\n",
       "18886710                 2  4910.48\n",
       "18887034                 2  8936.17\n",
       "18887574                 2  8008.12\n",
       "18887878                 2  2875.97\n",
       "\n",
       "[50271 rows x 2 columns]"
      ]
     },
     "execution_count": 52,
     "metadata": {},
     "output_type": "execute_result"
    }
   ],
   "source": [
    "df_sp"
   ]
  },
  {
   "cell_type": "code",
   "execution_count": 53,
   "id": "80c3fae5",
   "metadata": {},
   "outputs": [],
   "source": [
    "df_sul = pd.read_csv(\"RAIS_VINC_PUB_SUL.csv\",encoding=\"ISO-8859-1\",delimiter=\";\", usecols=fields)"
   ]
  },
  {
   "cell_type": "code",
   "execution_count": 54,
   "id": "2dfafc92",
   "metadata": {},
   "outputs": [
    {
     "data": {
      "text/html": [
       "<div>\n",
       "<style scoped>\n",
       "    .dataframe tbody tr th:only-of-type {\n",
       "        vertical-align: middle;\n",
       "    }\n",
       "\n",
       "    .dataframe tbody tr th {\n",
       "        vertical-align: top;\n",
       "    }\n",
       "\n",
       "    .dataframe thead th {\n",
       "        text-align: right;\n",
       "    }\n",
       "</style>\n",
       "<table border=\"1\" class=\"dataframe\">\n",
       "  <thead>\n",
       "    <tr style=\"text-align: right;\">\n",
       "      <th></th>\n",
       "      <th>CNAE 2.0 Classe</th>\n",
       "      <th>Vl Remun Média Nom</th>\n",
       "      <th>Sexo Trabalhador</th>\n",
       "    </tr>\n",
       "  </thead>\n",
       "  <tbody>\n",
       "    <tr>\n",
       "      <th>0</th>\n",
       "      <td>81290</td>\n",
       "      <td>0000001413,94</td>\n",
       "      <td>1</td>\n",
       "    </tr>\n",
       "    <tr>\n",
       "      <th>1</th>\n",
       "      <td>35140</td>\n",
       "      <td>0000001353,08</td>\n",
       "      <td>1</td>\n",
       "    </tr>\n",
       "    <tr>\n",
       "      <th>2</th>\n",
       "      <td>43991</td>\n",
       "      <td>0000001274,25</td>\n",
       "      <td>1</td>\n",
       "    </tr>\n",
       "    <tr>\n",
       "      <th>3</th>\n",
       "      <td>23427</td>\n",
       "      <td>0000000782,87</td>\n",
       "      <td>1</td>\n",
       "    </tr>\n",
       "    <tr>\n",
       "      <th>4</th>\n",
       "      <td>45307</td>\n",
       "      <td>0000000000,00</td>\n",
       "      <td>1</td>\n",
       "    </tr>\n",
       "    <tr>\n",
       "      <th>...</th>\n",
       "      <td>...</td>\n",
       "      <td>...</td>\n",
       "      <td>...</td>\n",
       "    </tr>\n",
       "    <tr>\n",
       "      <th>12161305</th>\n",
       "      <td>47717</td>\n",
       "      <td>0000003534,87</td>\n",
       "      <td>2</td>\n",
       "    </tr>\n",
       "    <tr>\n",
       "      <th>12161306</th>\n",
       "      <td>49302</td>\n",
       "      <td>0000002959,74</td>\n",
       "      <td>2</td>\n",
       "    </tr>\n",
       "    <tr>\n",
       "      <th>12161307</th>\n",
       "      <td>87115</td>\n",
       "      <td>0000001565,32</td>\n",
       "      <td>2</td>\n",
       "    </tr>\n",
       "    <tr>\n",
       "      <th>12161308</th>\n",
       "      <td>85996</td>\n",
       "      <td>0000001982,12</td>\n",
       "      <td>2</td>\n",
       "    </tr>\n",
       "    <tr>\n",
       "      <th>12161309</th>\n",
       "      <td>85201</td>\n",
       "      <td>0000003359,37</td>\n",
       "      <td>2</td>\n",
       "    </tr>\n",
       "  </tbody>\n",
       "</table>\n",
       "<p>12161310 rows × 3 columns</p>\n",
       "</div>"
      ],
      "text/plain": [
       "          CNAE 2.0 Classe Vl Remun Média Nom  Sexo Trabalhador\n",
       "0                   81290      0000001413,94                 1\n",
       "1                   35140      0000001353,08                 1\n",
       "2                   43991      0000001274,25                 1\n",
       "3                   23427      0000000782,87                 1\n",
       "4                   45307      0000000000,00                 1\n",
       "...                   ...                ...               ...\n",
       "12161305            47717      0000003534,87                 2\n",
       "12161306            49302      0000002959,74                 2\n",
       "12161307            87115      0000001565,32                 2\n",
       "12161308            85996      0000001982,12                 2\n",
       "12161309            85201      0000003359,37                 2\n",
       "\n",
       "[12161310 rows x 3 columns]"
      ]
     },
     "execution_count": 54,
     "metadata": {},
     "output_type": "execute_result"
    }
   ],
   "source": [
    "df_sul"
   ]
  },
  {
   "cell_type": "code",
   "execution_count": 55,
   "id": "3ea8d5e5",
   "metadata": {},
   "outputs": [
    {
     "name": "stderr",
     "output_type": "stream",
     "text": [
      "C:\\Users\\014207~1\\AppData\\Local\\Temp/ipykernel_9840/3209711941.py:2: SettingWithCopyWarning: \n",
      "A value is trying to be set on a copy of a slice from a DataFrame.\n",
      "Try using .loc[row_indexer,col_indexer] = value instead\n",
      "\n",
      "See the caveats in the documentation: https://pandas.pydata.org/pandas-docs/stable/user_guide/indexing.html#returning-a-view-versus-a-copy\n",
      "  df_sul['valor'] = df_sul['Vl Remun Média Nom'].map(lambda x: round(float(x.replace(',','.')),2)    )\n",
      "C:\\Users\\014207631\\Anaconda3\\lib\\site-packages\\pandas\\core\\frame.py:4906: SettingWithCopyWarning: \n",
      "A value is trying to be set on a copy of a slice from a DataFrame\n",
      "\n",
      "See the caveats in the documentation: https://pandas.pydata.org/pandas-docs/stable/user_guide/indexing.html#returning-a-view-versus-a-copy\n",
      "  return super().drop(\n"
     ]
    }
   ],
   "source": [
    "df_sul=df_sul.loc[df_sul['CNAE 2.0 Classe']==62040]\n",
    "df_sul['valor'] = df_sul['Vl Remun Média Nom'].map(lambda x: round(float(x.replace(',','.')),2)    ) \n",
    "df_sul.drop(['CNAE 2.0 Classe', 'Vl Remun Média Nom'], axis=1,inplace=True)"
   ]
  },
  {
   "cell_type": "code",
   "execution_count": 56,
   "id": "24635444",
   "metadata": {},
   "outputs": [
    {
     "data": {
      "text/html": [
       "<div>\n",
       "<style scoped>\n",
       "    .dataframe tbody tr th:only-of-type {\n",
       "        vertical-align: middle;\n",
       "    }\n",
       "\n",
       "    .dataframe tbody tr th {\n",
       "        vertical-align: top;\n",
       "    }\n",
       "\n",
       "    .dataframe thead th {\n",
       "        text-align: right;\n",
       "    }\n",
       "</style>\n",
       "<table border=\"1\" class=\"dataframe\">\n",
       "  <thead>\n",
       "    <tr style=\"text-align: right;\">\n",
       "      <th></th>\n",
       "      <th>Sexo Trabalhador</th>\n",
       "      <th>valor</th>\n",
       "    </tr>\n",
       "  </thead>\n",
       "  <tbody>\n",
       "    <tr>\n",
       "      <th>61903</th>\n",
       "      <td>1</td>\n",
       "      <td>511.77</td>\n",
       "    </tr>\n",
       "    <tr>\n",
       "      <th>212568</th>\n",
       "      <td>1</td>\n",
       "      <td>1482.50</td>\n",
       "    </tr>\n",
       "    <tr>\n",
       "      <th>217369</th>\n",
       "      <td>1</td>\n",
       "      <td>570.29</td>\n",
       "    </tr>\n",
       "    <tr>\n",
       "      <th>218837</th>\n",
       "      <td>1</td>\n",
       "      <td>653.14</td>\n",
       "    </tr>\n",
       "    <tr>\n",
       "      <th>269437</th>\n",
       "      <td>1</td>\n",
       "      <td>663.22</td>\n",
       "    </tr>\n",
       "    <tr>\n",
       "      <th>...</th>\n",
       "      <td>...</td>\n",
       "      <td>...</td>\n",
       "    </tr>\n",
       "    <tr>\n",
       "      <th>12161202</th>\n",
       "      <td>2</td>\n",
       "      <td>8887.34</td>\n",
       "    </tr>\n",
       "    <tr>\n",
       "      <th>12161204</th>\n",
       "      <td>2</td>\n",
       "      <td>8013.13</td>\n",
       "    </tr>\n",
       "    <tr>\n",
       "      <th>12161205</th>\n",
       "      <td>2</td>\n",
       "      <td>8099.50</td>\n",
       "    </tr>\n",
       "    <tr>\n",
       "      <th>12161206</th>\n",
       "      <td>2</td>\n",
       "      <td>8820.78</td>\n",
       "    </tr>\n",
       "    <tr>\n",
       "      <th>12161227</th>\n",
       "      <td>2</td>\n",
       "      <td>7034.99</td>\n",
       "    </tr>\n",
       "  </tbody>\n",
       "</table>\n",
       "<p>12969 rows × 2 columns</p>\n",
       "</div>"
      ],
      "text/plain": [
       "          Sexo Trabalhador    valor\n",
       "61903                    1   511.77\n",
       "212568                   1  1482.50\n",
       "217369                   1   570.29\n",
       "218837                   1   653.14\n",
       "269437                   1   663.22\n",
       "...                    ...      ...\n",
       "12161202                 2  8887.34\n",
       "12161204                 2  8013.13\n",
       "12161205                 2  8099.50\n",
       "12161206                 2  8820.78\n",
       "12161227                 2  7034.99\n",
       "\n",
       "[12969 rows x 2 columns]"
      ]
     },
     "execution_count": 56,
     "metadata": {},
     "output_type": "execute_result"
    }
   ],
   "source": [
    "df_sul"
   ]
  },
  {
   "cell_type": "code",
   "execution_count": 72,
   "id": "3a71f390",
   "metadata": {},
   "outputs": [],
   "source": [
    "df=df_nordeste"
   ]
  },
  {
   "cell_type": "code",
   "execution_count": 71,
   "id": "b45e9c87",
   "metadata": {},
   "outputs": [
    {
     "data": {
      "text/plain": [
       "(23174, 2)"
      ]
     },
     "execution_count": 71,
     "metadata": {},
     "output_type": "execute_result"
    }
   ],
   "source": [
    "df_nordeste.shape"
   ]
  },
  {
   "cell_type": "code",
   "execution_count": 75,
   "id": "86c46a94",
   "metadata": {},
   "outputs": [
    {
     "data": {
      "text/plain": [
       "(1581, 2)"
      ]
     },
     "execution_count": 75,
     "metadata": {},
     "output_type": "execute_result"
    }
   ],
   "source": [
    "df_norte.shape"
   ]
  },
  {
   "cell_type": "code",
   "execution_count": 73,
   "id": "6df7b2de",
   "metadata": {},
   "outputs": [],
   "source": [
    "df = df.append(df_norte)"
   ]
  },
  {
   "cell_type": "code",
   "execution_count": 74,
   "id": "82960877",
   "metadata": {},
   "outputs": [
    {
     "data": {
      "text/plain": [
       "(24755, 2)"
      ]
     },
     "execution_count": 74,
     "metadata": {},
     "output_type": "execute_result"
    }
   ],
   "source": [
    "df.shape"
   ]
  },
  {
   "cell_type": "code",
   "execution_count": 76,
   "id": "f8924c1e",
   "metadata": {},
   "outputs": [],
   "source": [
    "df = df.append(df_sp)"
   ]
  },
  {
   "cell_type": "code",
   "execution_count": 77,
   "id": "9ae3535f",
   "metadata": {},
   "outputs": [
    {
     "data": {
      "text/plain": [
       "(75026, 2)"
      ]
     },
     "execution_count": 77,
     "metadata": {},
     "output_type": "execute_result"
    }
   ],
   "source": [
    "df.shape"
   ]
  },
  {
   "cell_type": "code",
   "execution_count": 78,
   "id": "e7bf0d2d",
   "metadata": {},
   "outputs": [],
   "source": [
    "df= df.append(df_centro)"
   ]
  },
  {
   "cell_type": "code",
   "execution_count": 79,
   "id": "fa26e75d",
   "metadata": {},
   "outputs": [
    {
     "data": {
      "text/plain": [
       "(85065, 2)"
      ]
     },
     "execution_count": 79,
     "metadata": {},
     "output_type": "execute_result"
    }
   ],
   "source": [
    "df.shape"
   ]
  },
  {
   "cell_type": "code",
   "execution_count": 81,
   "id": "8dee489a",
   "metadata": {},
   "outputs": [],
   "source": [
    "df = df.append(df_sudeste)"
   ]
  },
  {
   "cell_type": "code",
   "execution_count": 82,
   "id": "0e38a561",
   "metadata": {},
   "outputs": [
    {
     "data": {
      "text/plain": [
       "(110427, 2)"
      ]
     },
     "execution_count": 82,
     "metadata": {},
     "output_type": "execute_result"
    }
   ],
   "source": [
    "df.shape"
   ]
  },
  {
   "cell_type": "code",
   "execution_count": 83,
   "id": "f95eac98",
   "metadata": {},
   "outputs": [],
   "source": [
    "df=df.append(df_sul)"
   ]
  },
  {
   "cell_type": "code",
   "execution_count": 84,
   "id": "3802af4c",
   "metadata": {},
   "outputs": [
    {
     "data": {
      "text/plain": [
       "(123396, 2)"
      ]
     },
     "execution_count": 84,
     "metadata": {},
     "output_type": "execute_result"
    }
   ],
   "source": [
    "df.shape"
   ]
  },
  {
   "cell_type": "code",
   "execution_count": 109,
   "id": "4181807b",
   "metadata": {},
   "outputs": [],
   "source": [
    "df['valor3'] = round(df['valor'],0)"
   ]
  },
  {
   "cell_type": "code",
   "execution_count": 94,
   "id": "15f43753",
   "metadata": {},
   "outputs": [
    {
     "name": "stdout",
     "output_type": "stream",
     "text": [
      "<class 'pandas.core.frame.DataFrame'>\n",
      "Int64Index: 123396 entries, 13505 to 12161227\n",
      "Data columns (total 3 columns):\n",
      " #   Column            Non-Null Count   Dtype  \n",
      "---  ------            --------------   -----  \n",
      " 0   Sexo Trabalhador  123396 non-null  int64  \n",
      " 1   valor             123396 non-null  float64\n",
      " 2   valor2            123396 non-null  float64\n",
      "dtypes: float64(2), int64(1)\n",
      "memory usage: 3.8 MB\n"
     ]
    }
   ],
   "source": [
    "df.info()"
   ]
  },
  {
   "cell_type": "code",
   "execution_count": 114,
   "id": "add23ca0",
   "metadata": {},
   "outputs": [],
   "source": [
    "result=df.groupby('Sexo Trabalhador')['valor'].mean()"
   ]
  },
  {
   "cell_type": "code",
   "execution_count": 115,
   "id": "6ea935e0",
   "metadata": {},
   "outputs": [
    {
     "data": {
      "text/plain": [
       "Sexo Trabalhador\n",
       "1    5993.280567\n",
       "2    4184.306132\n",
       "Name: valor, dtype: float64"
      ]
     },
     "execution_count": 115,
     "metadata": {},
     "output_type": "execute_result"
    }
   ],
   "source": [
    "result"
   ]
  },
  {
   "cell_type": "code",
   "execution_count": 116,
   "id": "2b4b08ea",
   "metadata": {},
   "outputs": [],
   "source": [
    "result2 = result.to_frame()"
   ]
  },
  {
   "cell_type": "code",
   "execution_count": 117,
   "id": "c19adb5b",
   "metadata": {},
   "outputs": [
    {
     "data": {
      "text/plain": [
       "valor    1808.974435\n",
       "dtype: float64"
      ]
     },
     "execution_count": 117,
     "metadata": {},
     "output_type": "execute_result"
    }
   ],
   "source": [
    "result2.iloc[0]-result2.iloc[1] "
   ]
  },
  {
   "cell_type": "code",
   "execution_count": 119,
   "id": "5ce9f66b",
   "metadata": {},
   "outputs": [
    {
     "name": "stdout",
     "output_type": "stream",
     "text": [
      "123396\n",
      "12969\n",
      "25362\n",
      "1581\n",
      "23174\n",
      "10039\n",
      "50271\n"
     ]
    }
   ],
   "source": [
    "print(df.shape[0])\n",
    "print(df_sul.shape[0])\n",
    "print(df_sudeste.shape[0])\n",
    "print(df_norte.shape[0])\n",
    "print(df_nordeste.shape[0])\n",
    "print(df_centro.shape[0])\n",
    "print(df_sp.shape[0])\n",
    "\n"
   ]
  },
  {
   "cell_type": "code",
   "execution_count": null,
   "id": "8a046e87",
   "metadata": {},
   "outputs": [],
   "source": []
  }
 ],
 "metadata": {
  "kernelspec": {
   "display_name": "Python 3 (ipykernel)",
   "language": "python",
   "name": "python3"
  },
  "language_info": {
   "codemirror_mode": {
    "name": "ipython",
    "version": 3
   },
   "file_extension": ".py",
   "mimetype": "text/x-python",
   "name": "python",
   "nbconvert_exporter": "python",
   "pygments_lexer": "ipython3",
   "version": "3.9.7"
  }
 },
 "nbformat": 4,
 "nbformat_minor": 5
}
