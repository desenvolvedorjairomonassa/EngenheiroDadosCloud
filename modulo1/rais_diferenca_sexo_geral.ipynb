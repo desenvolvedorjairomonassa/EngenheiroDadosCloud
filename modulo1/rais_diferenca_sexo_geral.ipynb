{
 "cells": [
  {
   "cell_type": "code",
   "execution_count": 1,
   "id": "9c6ce8ee",
   "metadata": {},
   "outputs": [],
   "source": [
    "import pandas as pd"
   ]
  },
  {
   "cell_type": "code",
   "execution_count": 2,
   "id": "9da33669",
   "metadata": {},
   "outputs": [],
   "source": [
    "fields=['Sexo Trabalhador','Vl Remun Média Nom']\n",
    "fieldsnum = [37,8,34]"
   ]
  },
  {
   "cell_type": "code",
   "execution_count": 3,
   "id": "5ef6837c",
   "metadata": {},
   "outputs": [],
   "source": [
    "df_norte = pd.read_csv(\"RAIS_VINC_PUB_NORTE.csv\",encoding=\"ISO-8859-1\",delimiter=\";\", usecols=fields)"
   ]
  },
  {
   "cell_type": "code",
   "execution_count": 4,
   "id": "322267be",
   "metadata": {},
   "outputs": [],
   "source": [
    "#df_norte=df_norte.loc[df_norte['CNAE 2.0 Classe']==62040]\n"
   ]
  },
  {
   "cell_type": "code",
   "execution_count": 4,
   "id": "ed99303e",
   "metadata": {},
   "outputs": [
    {
     "data": {
      "text/plain": [
       "(3700916, 3)"
      ]
     },
     "execution_count": 4,
     "metadata": {},
     "output_type": "execute_result"
    }
   ],
   "source": [
    "df_norte.shape"
   ]
  },
  {
   "cell_type": "code",
   "execution_count": 5,
   "id": "a54d32ee",
   "metadata": {},
   "outputs": [],
   "source": [
    "df_norte['valor'] = df_norte['Vl Remun Média Nom'].map(lambda x: round(float(x.replace(',','.')),2)    ) "
   ]
  },
  {
   "cell_type": "code",
   "execution_count": 7,
   "id": "04b3ae33",
   "metadata": {},
   "outputs": [],
   "source": [
    "df_norte.drop(['CNAE 2.0 Classe', 'Vl Remun Média Nom'], axis=1,inplace=True)"
   ]
  },
  {
   "cell_type": "code",
   "execution_count": 19,
   "id": "86f8c0cd",
   "metadata": {},
   "outputs": [
    {
     "data": {
      "text/html": [
       "<div>\n",
       "<style scoped>\n",
       "    .dataframe tbody tr th:only-of-type {\n",
       "        vertical-align: middle;\n",
       "    }\n",
       "\n",
       "    .dataframe tbody tr th {\n",
       "        vertical-align: top;\n",
       "    }\n",
       "\n",
       "    .dataframe thead th {\n",
       "        text-align: right;\n",
       "    }\n",
       "</style>\n",
       "<table border=\"1\" class=\"dataframe\">\n",
       "  <thead>\n",
       "    <tr style=\"text-align: right;\">\n",
       "      <th></th>\n",
       "      <th>Sexo Trabalhador</th>\n",
       "      <th>valor</th>\n",
       "    </tr>\n",
       "  </thead>\n",
       "  <tbody>\n",
       "    <tr>\n",
       "      <th>0</th>\n",
       "      <td>1</td>\n",
       "      <td>455.07</td>\n",
       "    </tr>\n",
       "    <tr>\n",
       "      <th>1</th>\n",
       "      <td>1</td>\n",
       "      <td>1435.58</td>\n",
       "    </tr>\n",
       "    <tr>\n",
       "      <th>2</th>\n",
       "      <td>1</td>\n",
       "      <td>384.33</td>\n",
       "    </tr>\n",
       "    <tr>\n",
       "      <th>3</th>\n",
       "      <td>1</td>\n",
       "      <td>1218.74</td>\n",
       "    </tr>\n",
       "    <tr>\n",
       "      <th>4</th>\n",
       "      <td>1</td>\n",
       "      <td>1369.83</td>\n",
       "    </tr>\n",
       "    <tr>\n",
       "      <th>...</th>\n",
       "      <td>...</td>\n",
       "      <td>...</td>\n",
       "    </tr>\n",
       "    <tr>\n",
       "      <th>3700911</th>\n",
       "      <td>2</td>\n",
       "      <td>4488.84</td>\n",
       "    </tr>\n",
       "    <tr>\n",
       "      <th>3700912</th>\n",
       "      <td>2</td>\n",
       "      <td>10498.09</td>\n",
       "    </tr>\n",
       "    <tr>\n",
       "      <th>3700913</th>\n",
       "      <td>2</td>\n",
       "      <td>10993.47</td>\n",
       "    </tr>\n",
       "    <tr>\n",
       "      <th>3700914</th>\n",
       "      <td>2</td>\n",
       "      <td>10690.56</td>\n",
       "    </tr>\n",
       "    <tr>\n",
       "      <th>3700915</th>\n",
       "      <td>2</td>\n",
       "      <td>879.11</td>\n",
       "    </tr>\n",
       "  </tbody>\n",
       "</table>\n",
       "<p>3700916 rows × 2 columns</p>\n",
       "</div>"
      ],
      "text/plain": [
       "         Sexo Trabalhador     valor\n",
       "0                       1    455.07\n",
       "1                       1   1435.58\n",
       "2                       1    384.33\n",
       "3                       1   1218.74\n",
       "4                       1   1369.83\n",
       "...                   ...       ...\n",
       "3700911                 2   4488.84\n",
       "3700912                 2  10498.09\n",
       "3700913                 2  10993.47\n",
       "3700914                 2  10690.56\n",
       "3700915                 2    879.11\n",
       "\n",
       "[3700916 rows x 2 columns]"
      ]
     },
     "execution_count": 19,
     "metadata": {},
     "output_type": "execute_result"
    }
   ],
   "source": [
    "df_norte"
   ]
  },
  {
   "cell_type": "code",
   "execution_count": 9,
   "id": "88acbc71",
   "metadata": {},
   "outputs": [],
   "source": [
    "df_nordeste = pd.read_csv(\"RAIS_VINC_PUB_NORDESTE.csv\",encoding=\"ISO-8859-1\",delimiter=\";\", usecols=fieldsnum,header=None)"
   ]
  },
  {
   "cell_type": "code",
   "execution_count": 14,
   "id": "0c5a6d96",
   "metadata": {},
   "outputs": [
    {
     "data": {
      "text/html": [
       "<div>\n",
       "<style scoped>\n",
       "    .dataframe tbody tr th:only-of-type {\n",
       "        vertical-align: middle;\n",
       "    }\n",
       "\n",
       "    .dataframe tbody tr th {\n",
       "        vertical-align: top;\n",
       "    }\n",
       "\n",
       "    .dataframe thead th {\n",
       "        text-align: right;\n",
       "    }\n",
       "</style>\n",
       "<table border=\"1\" class=\"dataframe\">\n",
       "  <thead>\n",
       "    <tr style=\"text-align: right;\">\n",
       "      <th></th>\n",
       "      <th>8</th>\n",
       "      <th>34</th>\n",
       "      <th>37</th>\n",
       "      <th>valor</th>\n",
       "    </tr>\n",
       "  </thead>\n",
       "  <tbody>\n",
       "    <tr>\n",
       "      <th>0</th>\n",
       "      <td>14134</td>\n",
       "      <td>0000001170,76</td>\n",
       "      <td>2</td>\n",
       "      <td>1170.76</td>\n",
       "    </tr>\n",
       "    <tr>\n",
       "      <th>1</th>\n",
       "      <td>49302</td>\n",
       "      <td>0000001919,11</td>\n",
       "      <td>2</td>\n",
       "      <td>1919.11</td>\n",
       "    </tr>\n",
       "    <tr>\n",
       "      <th>2</th>\n",
       "      <td>49302</td>\n",
       "      <td>0000001575,90</td>\n",
       "      <td>2</td>\n",
       "      <td>1575.90</td>\n",
       "    </tr>\n",
       "    <tr>\n",
       "      <th>3</th>\n",
       "      <td>47717</td>\n",
       "      <td>0000002655,65</td>\n",
       "      <td>2</td>\n",
       "      <td>2655.65</td>\n",
       "    </tr>\n",
       "    <tr>\n",
       "      <th>4</th>\n",
       "      <td>47717</td>\n",
       "      <td>0000002233,82</td>\n",
       "      <td>2</td>\n",
       "      <td>2233.82</td>\n",
       "    </tr>\n",
       "  </tbody>\n",
       "</table>\n",
       "</div>"
      ],
      "text/plain": [
       "       8             34  37    valor\n",
       "0  14134  0000001170,76   2  1170.76\n",
       "1  49302  0000001919,11   2  1919.11\n",
       "2  49302  0000001575,90   2  1575.90\n",
       "3  47717  0000002655,65   2  2655.65\n",
       "4  47717  0000002233,82   2  2233.82"
      ]
     },
     "execution_count": 14,
     "metadata": {},
     "output_type": "execute_result"
    }
   ],
   "source": [
    "df_nordeste.head()"
   ]
  },
  {
   "cell_type": "code",
   "execution_count": 23,
   "id": "cd98cc43",
   "metadata": {},
   "outputs": [],
   "source": [
    "#df_nordeste= df_nordeste.loc[df_nordeste[8]==62040]"
   ]
  },
  {
   "cell_type": "code",
   "execution_count": 13,
   "id": "372fce14",
   "metadata": {},
   "outputs": [],
   "source": [
    "df_nordeste['valor'] = df_nordeste[34].map(lambda x: round(float(x.replace(',','.')),2)    ) "
   ]
  },
  {
   "cell_type": "code",
   "execution_count": 15,
   "id": "e32fae8b",
   "metadata": {},
   "outputs": [],
   "source": [
    "df_nordeste.drop([8,34], axis=1,inplace=True)"
   ]
  },
  {
   "cell_type": "code",
   "execution_count": 16,
   "id": "61bd7e4a",
   "metadata": {},
   "outputs": [
    {
     "data": {
      "text/html": [
       "<div>\n",
       "<style scoped>\n",
       "    .dataframe tbody tr th:only-of-type {\n",
       "        vertical-align: middle;\n",
       "    }\n",
       "\n",
       "    .dataframe tbody tr th {\n",
       "        vertical-align: top;\n",
       "    }\n",
       "\n",
       "    .dataframe thead th {\n",
       "        text-align: right;\n",
       "    }\n",
       "</style>\n",
       "<table border=\"1\" class=\"dataframe\">\n",
       "  <thead>\n",
       "    <tr style=\"text-align: right;\">\n",
       "      <th></th>\n",
       "      <th>37</th>\n",
       "      <th>valor</th>\n",
       "    </tr>\n",
       "  </thead>\n",
       "  <tbody>\n",
       "    <tr>\n",
       "      <th>0</th>\n",
       "      <td>2</td>\n",
       "      <td>1170.76</td>\n",
       "    </tr>\n",
       "    <tr>\n",
       "      <th>1</th>\n",
       "      <td>2</td>\n",
       "      <td>1919.11</td>\n",
       "    </tr>\n",
       "    <tr>\n",
       "      <th>2</th>\n",
       "      <td>2</td>\n",
       "      <td>1575.90</td>\n",
       "    </tr>\n",
       "    <tr>\n",
       "      <th>3</th>\n",
       "      <td>2</td>\n",
       "      <td>2655.65</td>\n",
       "    </tr>\n",
       "    <tr>\n",
       "      <th>4</th>\n",
       "      <td>2</td>\n",
       "      <td>2233.82</td>\n",
       "    </tr>\n",
       "    <tr>\n",
       "      <th>...</th>\n",
       "      <td>...</td>\n",
       "      <td>...</td>\n",
       "    </tr>\n",
       "    <tr>\n",
       "      <th>10556195</th>\n",
       "      <td>2</td>\n",
       "      <td>3382.37</td>\n",
       "    </tr>\n",
       "    <tr>\n",
       "      <th>10556196</th>\n",
       "      <td>2</td>\n",
       "      <td>4302.99</td>\n",
       "    </tr>\n",
       "    <tr>\n",
       "      <th>10556197</th>\n",
       "      <td>2</td>\n",
       "      <td>2485.59</td>\n",
       "    </tr>\n",
       "    <tr>\n",
       "      <th>10556198</th>\n",
       "      <td>2</td>\n",
       "      <td>2562.03</td>\n",
       "    </tr>\n",
       "    <tr>\n",
       "      <th>10556199</th>\n",
       "      <td>2</td>\n",
       "      <td>1987.00</td>\n",
       "    </tr>\n",
       "  </tbody>\n",
       "</table>\n",
       "<p>10556200 rows × 2 columns</p>\n",
       "</div>"
      ],
      "text/plain": [
       "          37    valor\n",
       "0          2  1170.76\n",
       "1          2  1919.11\n",
       "2          2  1575.90\n",
       "3          2  2655.65\n",
       "4          2  2233.82\n",
       "...       ..      ...\n",
       "10556195   2  3382.37\n",
       "10556196   2  4302.99\n",
       "10556197   2  2485.59\n",
       "10556198   2  2562.03\n",
       "10556199   2  1987.00\n",
       "\n",
       "[10556200 rows x 2 columns]"
      ]
     },
     "execution_count": 16,
     "metadata": {},
     "output_type": "execute_result"
    }
   ],
   "source": [
    "df_nordeste"
   ]
  },
  {
   "cell_type": "code",
   "execution_count": 17,
   "id": "8acdbc94",
   "metadata": {},
   "outputs": [],
   "source": [
    "df_nordeste = df_nordeste.rename(columns = {37: \"Sexo Trabalhador\"})"
   ]
  },
  {
   "cell_type": "code",
   "execution_count": 18,
   "id": "838ef347",
   "metadata": {},
   "outputs": [
    {
     "data": {
      "text/html": [
       "<div>\n",
       "<style scoped>\n",
       "    .dataframe tbody tr th:only-of-type {\n",
       "        vertical-align: middle;\n",
       "    }\n",
       "\n",
       "    .dataframe tbody tr th {\n",
       "        vertical-align: top;\n",
       "    }\n",
       "\n",
       "    .dataframe thead th {\n",
       "        text-align: right;\n",
       "    }\n",
       "</style>\n",
       "<table border=\"1\" class=\"dataframe\">\n",
       "  <thead>\n",
       "    <tr style=\"text-align: right;\">\n",
       "      <th></th>\n",
       "      <th>Sexo Trabalhador</th>\n",
       "      <th>valor</th>\n",
       "    </tr>\n",
       "  </thead>\n",
       "  <tbody>\n",
       "    <tr>\n",
       "      <th>0</th>\n",
       "      <td>2</td>\n",
       "      <td>1170.76</td>\n",
       "    </tr>\n",
       "    <tr>\n",
       "      <th>1</th>\n",
       "      <td>2</td>\n",
       "      <td>1919.11</td>\n",
       "    </tr>\n",
       "    <tr>\n",
       "      <th>2</th>\n",
       "      <td>2</td>\n",
       "      <td>1575.90</td>\n",
       "    </tr>\n",
       "    <tr>\n",
       "      <th>3</th>\n",
       "      <td>2</td>\n",
       "      <td>2655.65</td>\n",
       "    </tr>\n",
       "    <tr>\n",
       "      <th>4</th>\n",
       "      <td>2</td>\n",
       "      <td>2233.82</td>\n",
       "    </tr>\n",
       "    <tr>\n",
       "      <th>...</th>\n",
       "      <td>...</td>\n",
       "      <td>...</td>\n",
       "    </tr>\n",
       "    <tr>\n",
       "      <th>10556195</th>\n",
       "      <td>2</td>\n",
       "      <td>3382.37</td>\n",
       "    </tr>\n",
       "    <tr>\n",
       "      <th>10556196</th>\n",
       "      <td>2</td>\n",
       "      <td>4302.99</td>\n",
       "    </tr>\n",
       "    <tr>\n",
       "      <th>10556197</th>\n",
       "      <td>2</td>\n",
       "      <td>2485.59</td>\n",
       "    </tr>\n",
       "    <tr>\n",
       "      <th>10556198</th>\n",
       "      <td>2</td>\n",
       "      <td>2562.03</td>\n",
       "    </tr>\n",
       "    <tr>\n",
       "      <th>10556199</th>\n",
       "      <td>2</td>\n",
       "      <td>1987.00</td>\n",
       "    </tr>\n",
       "  </tbody>\n",
       "</table>\n",
       "<p>10556200 rows × 2 columns</p>\n",
       "</div>"
      ],
      "text/plain": [
       "          Sexo Trabalhador    valor\n",
       "0                        2  1170.76\n",
       "1                        2  1919.11\n",
       "2                        2  1575.90\n",
       "3                        2  2655.65\n",
       "4                        2  2233.82\n",
       "...                    ...      ...\n",
       "10556195                 2  3382.37\n",
       "10556196                 2  4302.99\n",
       "10556197                 2  2485.59\n",
       "10556198                 2  2562.03\n",
       "10556199                 2  1987.00\n",
       "\n",
       "[10556200 rows x 2 columns]"
      ]
     },
     "execution_count": 18,
     "metadata": {},
     "output_type": "execute_result"
    }
   ],
   "source": [
    "df_nordeste"
   ]
  },
  {
   "cell_type": "code",
   "execution_count": 23,
   "id": "1ff43488",
   "metadata": {},
   "outputs": [],
   "source": [
    "df_centro = pd.read_csv(\"RAIS_VINC_PUB_CENTRO_OESTE.csv\",encoding=\"ISO-8859-1\",delimiter=\";\", usecols=fields)"
   ]
  },
  {
   "cell_type": "code",
   "execution_count": 24,
   "id": "a6301717",
   "metadata": {},
   "outputs": [
    {
     "data": {
      "text/html": [
       "<div>\n",
       "<style scoped>\n",
       "    .dataframe tbody tr th:only-of-type {\n",
       "        vertical-align: middle;\n",
       "    }\n",
       "\n",
       "    .dataframe tbody tr th {\n",
       "        vertical-align: top;\n",
       "    }\n",
       "\n",
       "    .dataframe thead th {\n",
       "        text-align: right;\n",
       "    }\n",
       "</style>\n",
       "<table border=\"1\" class=\"dataframe\">\n",
       "  <thead>\n",
       "    <tr style=\"text-align: right;\">\n",
       "      <th></th>\n",
       "      <th>CNAE 2.0 Classe</th>\n",
       "      <th>Vl Remun Média Nom</th>\n",
       "      <th>Sexo Trabalhador</th>\n",
       "    </tr>\n",
       "  </thead>\n",
       "  <tbody>\n",
       "    <tr>\n",
       "      <th>0</th>\n",
       "      <td>2209</td>\n",
       "      <td>0000001113,46</td>\n",
       "      <td>1</td>\n",
       "    </tr>\n",
       "    <tr>\n",
       "      <th>1</th>\n",
       "      <td>41107</td>\n",
       "      <td>0000001100,00</td>\n",
       "      <td>1</td>\n",
       "    </tr>\n",
       "    <tr>\n",
       "      <th>2</th>\n",
       "      <td>16102</td>\n",
       "      <td>0000001121,00</td>\n",
       "      <td>1</td>\n",
       "    </tr>\n",
       "    <tr>\n",
       "      <th>3</th>\n",
       "      <td>10651</td>\n",
       "      <td>0000002092,57</td>\n",
       "      <td>1</td>\n",
       "    </tr>\n",
       "    <tr>\n",
       "      <th>4</th>\n",
       "      <td>22226</td>\n",
       "      <td>0000001722,74</td>\n",
       "      <td>1</td>\n",
       "    </tr>\n",
       "    <tr>\n",
       "      <th>...</th>\n",
       "      <td>...</td>\n",
       "      <td>...</td>\n",
       "      <td>...</td>\n",
       "    </tr>\n",
       "    <tr>\n",
       "      <th>6161933</th>\n",
       "      <td>86402</td>\n",
       "      <td>0000011214,70</td>\n",
       "      <td>2</td>\n",
       "    </tr>\n",
       "    <tr>\n",
       "      <th>6161934</th>\n",
       "      <td>94995</td>\n",
       "      <td>0000013645,18</td>\n",
       "      <td>2</td>\n",
       "    </tr>\n",
       "    <tr>\n",
       "      <th>6161935</th>\n",
       "      <td>94995</td>\n",
       "      <td>0000010619,59</td>\n",
       "      <td>2</td>\n",
       "    </tr>\n",
       "    <tr>\n",
       "      <th>6161936</th>\n",
       "      <td>86402</td>\n",
       "      <td>0000008675,59</td>\n",
       "      <td>2</td>\n",
       "    </tr>\n",
       "    <tr>\n",
       "      <th>6161937</th>\n",
       "      <td>94201</td>\n",
       "      <td>0000011995,82</td>\n",
       "      <td>2</td>\n",
       "    </tr>\n",
       "  </tbody>\n",
       "</table>\n",
       "<p>6161938 rows × 3 columns</p>\n",
       "</div>"
      ],
      "text/plain": [
       "         CNAE 2.0 Classe Vl Remun Média Nom  Sexo Trabalhador\n",
       "0                   2209      0000001113,46                 1\n",
       "1                  41107      0000001100,00                 1\n",
       "2                  16102      0000001121,00                 1\n",
       "3                  10651      0000002092,57                 1\n",
       "4                  22226      0000001722,74                 1\n",
       "...                  ...                ...               ...\n",
       "6161933            86402      0000011214,70                 2\n",
       "6161934            94995      0000013645,18                 2\n",
       "6161935            94995      0000010619,59                 2\n",
       "6161936            86402      0000008675,59                 2\n",
       "6161937            94201      0000011995,82                 2\n",
       "\n",
       "[6161938 rows x 3 columns]"
      ]
     },
     "execution_count": 24,
     "metadata": {},
     "output_type": "execute_result"
    }
   ],
   "source": [
    "df_centro"
   ]
  },
  {
   "cell_type": "code",
   "execution_count": 22,
   "id": "c93ddda4",
   "metadata": {},
   "outputs": [],
   "source": [
    "#df_centro=df_centro.loc[df_centro['CNAE 2.0 Classe']==62040]"
   ]
  },
  {
   "cell_type": "code",
   "execution_count": 25,
   "id": "a7019322",
   "metadata": {},
   "outputs": [],
   "source": [
    "df_centro['valor'] = df_centro['Vl Remun Média Nom'].map(lambda x: round(float(x.replace(',','.')),2)    ) "
   ]
  },
  {
   "cell_type": "code",
   "execution_count": 29,
   "id": "69081e04",
   "metadata": {},
   "outputs": [
    {
     "data": {
      "text/html": [
       "<div>\n",
       "<style scoped>\n",
       "    .dataframe tbody tr th:only-of-type {\n",
       "        vertical-align: middle;\n",
       "    }\n",
       "\n",
       "    .dataframe tbody tr th {\n",
       "        vertical-align: top;\n",
       "    }\n",
       "\n",
       "    .dataframe thead th {\n",
       "        text-align: right;\n",
       "    }\n",
       "</style>\n",
       "<table border=\"1\" class=\"dataframe\">\n",
       "  <thead>\n",
       "    <tr style=\"text-align: right;\">\n",
       "      <th></th>\n",
       "      <th>Sexo Trabalhador</th>\n",
       "      <th>valor</th>\n",
       "    </tr>\n",
       "  </thead>\n",
       "  <tbody>\n",
       "    <tr>\n",
       "      <th>0</th>\n",
       "      <td>1</td>\n",
       "      <td>1113.46</td>\n",
       "    </tr>\n",
       "    <tr>\n",
       "      <th>1</th>\n",
       "      <td>1</td>\n",
       "      <td>1100.00</td>\n",
       "    </tr>\n",
       "    <tr>\n",
       "      <th>2</th>\n",
       "      <td>1</td>\n",
       "      <td>1121.00</td>\n",
       "    </tr>\n",
       "    <tr>\n",
       "      <th>3</th>\n",
       "      <td>1</td>\n",
       "      <td>2092.57</td>\n",
       "    </tr>\n",
       "    <tr>\n",
       "      <th>4</th>\n",
       "      <td>1</td>\n",
       "      <td>1722.74</td>\n",
       "    </tr>\n",
       "    <tr>\n",
       "      <th>...</th>\n",
       "      <td>...</td>\n",
       "      <td>...</td>\n",
       "    </tr>\n",
       "    <tr>\n",
       "      <th>6161933</th>\n",
       "      <td>2</td>\n",
       "      <td>11214.70</td>\n",
       "    </tr>\n",
       "    <tr>\n",
       "      <th>6161934</th>\n",
       "      <td>2</td>\n",
       "      <td>13645.18</td>\n",
       "    </tr>\n",
       "    <tr>\n",
       "      <th>6161935</th>\n",
       "      <td>2</td>\n",
       "      <td>10619.59</td>\n",
       "    </tr>\n",
       "    <tr>\n",
       "      <th>6161936</th>\n",
       "      <td>2</td>\n",
       "      <td>8675.59</td>\n",
       "    </tr>\n",
       "    <tr>\n",
       "      <th>6161937</th>\n",
       "      <td>2</td>\n",
       "      <td>11995.82</td>\n",
       "    </tr>\n",
       "  </tbody>\n",
       "</table>\n",
       "<p>6161938 rows × 2 columns</p>\n",
       "</div>"
      ],
      "text/plain": [
       "         Sexo Trabalhador     valor\n",
       "0                       1   1113.46\n",
       "1                       1   1100.00\n",
       "2                       1   1121.00\n",
       "3                       1   2092.57\n",
       "4                       1   1722.74\n",
       "...                   ...       ...\n",
       "6161933                 2  11214.70\n",
       "6161934                 2  13645.18\n",
       "6161935                 2  10619.59\n",
       "6161936                 2   8675.59\n",
       "6161937                 2  11995.82\n",
       "\n",
       "[6161938 rows x 2 columns]"
      ]
     },
     "execution_count": 29,
     "metadata": {},
     "output_type": "execute_result"
    }
   ],
   "source": [
    "df_centro"
   ]
  },
  {
   "cell_type": "code",
   "execution_count": 28,
   "id": "120f33b2",
   "metadata": {},
   "outputs": [],
   "source": [
    "df_centro.drop(['CNAE 2.0 Classe', 'Vl Remun Média Nom'], axis=1,inplace=True)"
   ]
  },
  {
   "cell_type": "code",
   "execution_count": 30,
   "id": "2d92b238",
   "metadata": {},
   "outputs": [],
   "source": [
    "df_sudeste = pd.read_csv(\"RAIS_VINC_PUB_MG_ES_RJ.csv\",encoding=\"ISO-8859-1\",delimiter=\";\", usecols=fields)"
   ]
  },
  {
   "cell_type": "code",
   "execution_count": 31,
   "id": "815ee8a3",
   "metadata": {},
   "outputs": [
    {
     "data": {
      "text/html": [
       "<div>\n",
       "<style scoped>\n",
       "    .dataframe tbody tr th:only-of-type {\n",
       "        vertical-align: middle;\n",
       "    }\n",
       "\n",
       "    .dataframe tbody tr th {\n",
       "        vertical-align: top;\n",
       "    }\n",
       "\n",
       "    .dataframe thead th {\n",
       "        text-align: right;\n",
       "    }\n",
       "</style>\n",
       "<table border=\"1\" class=\"dataframe\">\n",
       "  <thead>\n",
       "    <tr style=\"text-align: right;\">\n",
       "      <th></th>\n",
       "      <th>CNAE 2.0 Classe</th>\n",
       "      <th>Vl Remun Média Nom</th>\n",
       "      <th>Sexo Trabalhador</th>\n",
       "    </tr>\n",
       "  </thead>\n",
       "  <tbody>\n",
       "    <tr>\n",
       "      <th>0</th>\n",
       "      <td>41204</td>\n",
       "      <td>0000000000,00</td>\n",
       "      <td>1</td>\n",
       "    </tr>\n",
       "    <tr>\n",
       "      <th>1</th>\n",
       "      <td>41204</td>\n",
       "      <td>0000001749,00</td>\n",
       "      <td>1</td>\n",
       "    </tr>\n",
       "    <tr>\n",
       "      <th>2</th>\n",
       "      <td>46231</td>\n",
       "      <td>0000001331,76</td>\n",
       "      <td>1</td>\n",
       "    </tr>\n",
       "    <tr>\n",
       "      <th>3</th>\n",
       "      <td>49302</td>\n",
       "      <td>0000000946,30</td>\n",
       "      <td>1</td>\n",
       "    </tr>\n",
       "    <tr>\n",
       "      <th>4</th>\n",
       "      <td>15106</td>\n",
       "      <td>0000000845,61</td>\n",
       "      <td>1</td>\n",
       "    </tr>\n",
       "    <tr>\n",
       "      <th>...</th>\n",
       "      <td>...</td>\n",
       "      <td>...</td>\n",
       "      <td>...</td>\n",
       "    </tr>\n",
       "    <tr>\n",
       "      <th>13558496</th>\n",
       "      <td>64620</td>\n",
       "      <td>0000002149,21</td>\n",
       "      <td>2</td>\n",
       "    </tr>\n",
       "    <tr>\n",
       "      <th>13558497</th>\n",
       "      <td>85139</td>\n",
       "      <td>0000003604,79</td>\n",
       "      <td>2</td>\n",
       "    </tr>\n",
       "    <tr>\n",
       "      <th>13558498</th>\n",
       "      <td>85139</td>\n",
       "      <td>0000002768,96</td>\n",
       "      <td>2</td>\n",
       "    </tr>\n",
       "    <tr>\n",
       "      <th>13558499</th>\n",
       "      <td>82113</td>\n",
       "      <td>0000008707,37</td>\n",
       "      <td>2</td>\n",
       "    </tr>\n",
       "    <tr>\n",
       "      <th>13558500</th>\n",
       "      <td>85937</td>\n",
       "      <td>0000003599,02</td>\n",
       "      <td>2</td>\n",
       "    </tr>\n",
       "  </tbody>\n",
       "</table>\n",
       "<p>13558501 rows × 3 columns</p>\n",
       "</div>"
      ],
      "text/plain": [
       "          CNAE 2.0 Classe Vl Remun Média Nom  Sexo Trabalhador\n",
       "0                   41204      0000000000,00                 1\n",
       "1                   41204      0000001749,00                 1\n",
       "2                   46231      0000001331,76                 1\n",
       "3                   49302      0000000946,30                 1\n",
       "4                   15106      0000000845,61                 1\n",
       "...                   ...                ...               ...\n",
       "13558496            64620      0000002149,21                 2\n",
       "13558497            85139      0000003604,79                 2\n",
       "13558498            85139      0000002768,96                 2\n",
       "13558499            82113      0000008707,37                 2\n",
       "13558500            85937      0000003599,02                 2\n",
       "\n",
       "[13558501 rows x 3 columns]"
      ]
     },
     "execution_count": 31,
     "metadata": {},
     "output_type": "execute_result"
    }
   ],
   "source": [
    "df_sudeste"
   ]
  },
  {
   "cell_type": "code",
   "execution_count": 32,
   "id": "cc80482a",
   "metadata": {},
   "outputs": [],
   "source": [
    "#df_sudeste=df_sudeste.loc[df_sudeste['CNAE 2.0 Classe']==62040]\n",
    "df_sudeste['valor'] = df_sudeste['Vl Remun Média Nom'].map(lambda x: round(float(x.replace(',','.')),2)    ) \n",
    "df_sudeste.drop(['CNAE 2.0 Classe', 'Vl Remun Média Nom'], axis=1,inplace=True)"
   ]
  },
  {
   "cell_type": "code",
   "execution_count": 33,
   "id": "ca04bce1",
   "metadata": {},
   "outputs": [
    {
     "data": {
      "text/html": [
       "<div>\n",
       "<style scoped>\n",
       "    .dataframe tbody tr th:only-of-type {\n",
       "        vertical-align: middle;\n",
       "    }\n",
       "\n",
       "    .dataframe tbody tr th {\n",
       "        vertical-align: top;\n",
       "    }\n",
       "\n",
       "    .dataframe thead th {\n",
       "        text-align: right;\n",
       "    }\n",
       "</style>\n",
       "<table border=\"1\" class=\"dataframe\">\n",
       "  <thead>\n",
       "    <tr style=\"text-align: right;\">\n",
       "      <th></th>\n",
       "      <th>Sexo Trabalhador</th>\n",
       "      <th>valor</th>\n",
       "    </tr>\n",
       "  </thead>\n",
       "  <tbody>\n",
       "    <tr>\n",
       "      <th>0</th>\n",
       "      <td>1</td>\n",
       "      <td>0.00</td>\n",
       "    </tr>\n",
       "    <tr>\n",
       "      <th>1</th>\n",
       "      <td>1</td>\n",
       "      <td>1749.00</td>\n",
       "    </tr>\n",
       "    <tr>\n",
       "      <th>2</th>\n",
       "      <td>1</td>\n",
       "      <td>1331.76</td>\n",
       "    </tr>\n",
       "    <tr>\n",
       "      <th>3</th>\n",
       "      <td>1</td>\n",
       "      <td>946.30</td>\n",
       "    </tr>\n",
       "    <tr>\n",
       "      <th>4</th>\n",
       "      <td>1</td>\n",
       "      <td>845.61</td>\n",
       "    </tr>\n",
       "    <tr>\n",
       "      <th>...</th>\n",
       "      <td>...</td>\n",
       "      <td>...</td>\n",
       "    </tr>\n",
       "    <tr>\n",
       "      <th>13558496</th>\n",
       "      <td>2</td>\n",
       "      <td>2149.21</td>\n",
       "    </tr>\n",
       "    <tr>\n",
       "      <th>13558497</th>\n",
       "      <td>2</td>\n",
       "      <td>3604.79</td>\n",
       "    </tr>\n",
       "    <tr>\n",
       "      <th>13558498</th>\n",
       "      <td>2</td>\n",
       "      <td>2768.96</td>\n",
       "    </tr>\n",
       "    <tr>\n",
       "      <th>13558499</th>\n",
       "      <td>2</td>\n",
       "      <td>8707.37</td>\n",
       "    </tr>\n",
       "    <tr>\n",
       "      <th>13558500</th>\n",
       "      <td>2</td>\n",
       "      <td>3599.02</td>\n",
       "    </tr>\n",
       "  </tbody>\n",
       "</table>\n",
       "<p>13558501 rows × 2 columns</p>\n",
       "</div>"
      ],
      "text/plain": [
       "          Sexo Trabalhador    valor\n",
       "0                        1     0.00\n",
       "1                        1  1749.00\n",
       "2                        1  1331.76\n",
       "3                        1   946.30\n",
       "4                        1   845.61\n",
       "...                    ...      ...\n",
       "13558496                 2  2149.21\n",
       "13558497                 2  3604.79\n",
       "13558498                 2  2768.96\n",
       "13558499                 2  8707.37\n",
       "13558500                 2  3599.02\n",
       "\n",
       "[13558501 rows x 2 columns]"
      ]
     },
     "execution_count": 33,
     "metadata": {},
     "output_type": "execute_result"
    }
   ],
   "source": [
    "df_sudeste"
   ]
  },
  {
   "cell_type": "code",
   "execution_count": 34,
   "id": "af846dc3",
   "metadata": {},
   "outputs": [],
   "source": [
    "df_sp = pd.read_csv(\"RAIS_VINC_PUB_SP.csv\",encoding=\"ISO-8859-1\",delimiter=\";\", usecols=fields)"
   ]
  },
  {
   "cell_type": "code",
   "execution_count": 35,
   "id": "b7e5eb0d",
   "metadata": {},
   "outputs": [
    {
     "data": {
      "text/html": [
       "<div>\n",
       "<style scoped>\n",
       "    .dataframe tbody tr th:only-of-type {\n",
       "        vertical-align: middle;\n",
       "    }\n",
       "\n",
       "    .dataframe tbody tr th {\n",
       "        vertical-align: top;\n",
       "    }\n",
       "\n",
       "    .dataframe thead th {\n",
       "        text-align: right;\n",
       "    }\n",
       "</style>\n",
       "<table border=\"1\" class=\"dataframe\">\n",
       "  <thead>\n",
       "    <tr style=\"text-align: right;\">\n",
       "      <th></th>\n",
       "      <th>CNAE 2.0 Classe</th>\n",
       "      <th>Vl Remun Média Nom</th>\n",
       "      <th>Sexo Trabalhador</th>\n",
       "    </tr>\n",
       "  </thead>\n",
       "  <tbody>\n",
       "    <tr>\n",
       "      <th>0</th>\n",
       "      <td>81214</td>\n",
       "      <td>0000001141,23</td>\n",
       "      <td>1</td>\n",
       "    </tr>\n",
       "    <tr>\n",
       "      <th>1</th>\n",
       "      <td>41204</td>\n",
       "      <td>0000002252,42</td>\n",
       "      <td>1</td>\n",
       "    </tr>\n",
       "    <tr>\n",
       "      <th>2</th>\n",
       "      <td>56112</td>\n",
       "      <td>0000001109,85</td>\n",
       "      <td>1</td>\n",
       "    </tr>\n",
       "    <tr>\n",
       "      <th>3</th>\n",
       "      <td>43134</td>\n",
       "      <td>0000001317,67</td>\n",
       "      <td>1</td>\n",
       "    </tr>\n",
       "    <tr>\n",
       "      <th>4</th>\n",
       "      <td>38114</td>\n",
       "      <td>0000001996,51</td>\n",
       "      <td>1</td>\n",
       "    </tr>\n",
       "    <tr>\n",
       "      <th>...</th>\n",
       "      <td>...</td>\n",
       "      <td>...</td>\n",
       "      <td>...</td>\n",
       "    </tr>\n",
       "    <tr>\n",
       "      <th>18888458</th>\n",
       "      <td>85333</td>\n",
       "      <td>0000006612,52</td>\n",
       "      <td>2</td>\n",
       "    </tr>\n",
       "    <tr>\n",
       "      <th>18888459</th>\n",
       "      <td>69206</td>\n",
       "      <td>0000002254,89</td>\n",
       "      <td>2</td>\n",
       "    </tr>\n",
       "    <tr>\n",
       "      <th>18888460</th>\n",
       "      <td>69206</td>\n",
       "      <td>0000003130,23</td>\n",
       "      <td>2</td>\n",
       "    </tr>\n",
       "    <tr>\n",
       "      <th>18888461</th>\n",
       "      <td>11135</td>\n",
       "      <td>0000002044,61</td>\n",
       "      <td>2</td>\n",
       "    </tr>\n",
       "    <tr>\n",
       "      <th>18888462</th>\n",
       "      <td>85139</td>\n",
       "      <td>0000007943,63</td>\n",
       "      <td>2</td>\n",
       "    </tr>\n",
       "  </tbody>\n",
       "</table>\n",
       "<p>18888463 rows × 3 columns</p>\n",
       "</div>"
      ],
      "text/plain": [
       "          CNAE 2.0 Classe Vl Remun Média Nom  Sexo Trabalhador\n",
       "0                   81214      0000001141,23                 1\n",
       "1                   41204      0000002252,42                 1\n",
       "2                   56112      0000001109,85                 1\n",
       "3                   43134      0000001317,67                 1\n",
       "4                   38114      0000001996,51                 1\n",
       "...                   ...                ...               ...\n",
       "18888458            85333      0000006612,52                 2\n",
       "18888459            69206      0000002254,89                 2\n",
       "18888460            69206      0000003130,23                 2\n",
       "18888461            11135      0000002044,61                 2\n",
       "18888462            85139      0000007943,63                 2\n",
       "\n",
       "[18888463 rows x 3 columns]"
      ]
     },
     "execution_count": 35,
     "metadata": {},
     "output_type": "execute_result"
    }
   ],
   "source": [
    "df_sp"
   ]
  },
  {
   "cell_type": "code",
   "execution_count": 36,
   "id": "bd6650d5",
   "metadata": {},
   "outputs": [],
   "source": [
    "#df_sp=df_sp.loc[df_sp['CNAE 2.0 Classe']==62040]\n",
    "df_sp['valor'] = df_sp['Vl Remun Média Nom'].map(lambda x: round(float(x.replace(',','.')),2)    ) \n",
    "df_sp.drop(['CNAE 2.0 Classe', 'Vl Remun Média Nom'], axis=1,inplace=True)"
   ]
  },
  {
   "cell_type": "code",
   "execution_count": 37,
   "id": "d65bf88c",
   "metadata": {},
   "outputs": [
    {
     "data": {
      "text/html": [
       "<div>\n",
       "<style scoped>\n",
       "    .dataframe tbody tr th:only-of-type {\n",
       "        vertical-align: middle;\n",
       "    }\n",
       "\n",
       "    .dataframe tbody tr th {\n",
       "        vertical-align: top;\n",
       "    }\n",
       "\n",
       "    .dataframe thead th {\n",
       "        text-align: right;\n",
       "    }\n",
       "</style>\n",
       "<table border=\"1\" class=\"dataframe\">\n",
       "  <thead>\n",
       "    <tr style=\"text-align: right;\">\n",
       "      <th></th>\n",
       "      <th>Sexo Trabalhador</th>\n",
       "      <th>valor</th>\n",
       "    </tr>\n",
       "  </thead>\n",
       "  <tbody>\n",
       "    <tr>\n",
       "      <th>0</th>\n",
       "      <td>1</td>\n",
       "      <td>1141.23</td>\n",
       "    </tr>\n",
       "    <tr>\n",
       "      <th>1</th>\n",
       "      <td>1</td>\n",
       "      <td>2252.42</td>\n",
       "    </tr>\n",
       "    <tr>\n",
       "      <th>2</th>\n",
       "      <td>1</td>\n",
       "      <td>1109.85</td>\n",
       "    </tr>\n",
       "    <tr>\n",
       "      <th>3</th>\n",
       "      <td>1</td>\n",
       "      <td>1317.67</td>\n",
       "    </tr>\n",
       "    <tr>\n",
       "      <th>4</th>\n",
       "      <td>1</td>\n",
       "      <td>1996.51</td>\n",
       "    </tr>\n",
       "    <tr>\n",
       "      <th>...</th>\n",
       "      <td>...</td>\n",
       "      <td>...</td>\n",
       "    </tr>\n",
       "    <tr>\n",
       "      <th>18888458</th>\n",
       "      <td>2</td>\n",
       "      <td>6612.52</td>\n",
       "    </tr>\n",
       "    <tr>\n",
       "      <th>18888459</th>\n",
       "      <td>2</td>\n",
       "      <td>2254.89</td>\n",
       "    </tr>\n",
       "    <tr>\n",
       "      <th>18888460</th>\n",
       "      <td>2</td>\n",
       "      <td>3130.23</td>\n",
       "    </tr>\n",
       "    <tr>\n",
       "      <th>18888461</th>\n",
       "      <td>2</td>\n",
       "      <td>2044.61</td>\n",
       "    </tr>\n",
       "    <tr>\n",
       "      <th>18888462</th>\n",
       "      <td>2</td>\n",
       "      <td>7943.63</td>\n",
       "    </tr>\n",
       "  </tbody>\n",
       "</table>\n",
       "<p>18888463 rows × 2 columns</p>\n",
       "</div>"
      ],
      "text/plain": [
       "          Sexo Trabalhador    valor\n",
       "0                        1  1141.23\n",
       "1                        1  2252.42\n",
       "2                        1  1109.85\n",
       "3                        1  1317.67\n",
       "4                        1  1996.51\n",
       "...                    ...      ...\n",
       "18888458                 2  6612.52\n",
       "18888459                 2  2254.89\n",
       "18888460                 2  3130.23\n",
       "18888461                 2  2044.61\n",
       "18888462                 2  7943.63\n",
       "\n",
       "[18888463 rows x 2 columns]"
      ]
     },
     "execution_count": 37,
     "metadata": {},
     "output_type": "execute_result"
    }
   ],
   "source": [
    "df_sp"
   ]
  },
  {
   "cell_type": "code",
   "execution_count": 38,
   "id": "80c3fae5",
   "metadata": {},
   "outputs": [],
   "source": [
    "df_sul = pd.read_csv(\"RAIS_VINC_PUB_SUL.csv\",encoding=\"ISO-8859-1\",delimiter=\";\", usecols=fields)"
   ]
  },
  {
   "cell_type": "code",
   "execution_count": 54,
   "id": "2dfafc92",
   "metadata": {},
   "outputs": [
    {
     "data": {
      "text/html": [
       "<div>\n",
       "<style scoped>\n",
       "    .dataframe tbody tr th:only-of-type {\n",
       "        vertical-align: middle;\n",
       "    }\n",
       "\n",
       "    .dataframe tbody tr th {\n",
       "        vertical-align: top;\n",
       "    }\n",
       "\n",
       "    .dataframe thead th {\n",
       "        text-align: right;\n",
       "    }\n",
       "</style>\n",
       "<table border=\"1\" class=\"dataframe\">\n",
       "  <thead>\n",
       "    <tr style=\"text-align: right;\">\n",
       "      <th></th>\n",
       "      <th>CNAE 2.0 Classe</th>\n",
       "      <th>Vl Remun Média Nom</th>\n",
       "      <th>Sexo Trabalhador</th>\n",
       "    </tr>\n",
       "  </thead>\n",
       "  <tbody>\n",
       "    <tr>\n",
       "      <th>0</th>\n",
       "      <td>81290</td>\n",
       "      <td>0000001413,94</td>\n",
       "      <td>1</td>\n",
       "    </tr>\n",
       "    <tr>\n",
       "      <th>1</th>\n",
       "      <td>35140</td>\n",
       "      <td>0000001353,08</td>\n",
       "      <td>1</td>\n",
       "    </tr>\n",
       "    <tr>\n",
       "      <th>2</th>\n",
       "      <td>43991</td>\n",
       "      <td>0000001274,25</td>\n",
       "      <td>1</td>\n",
       "    </tr>\n",
       "    <tr>\n",
       "      <th>3</th>\n",
       "      <td>23427</td>\n",
       "      <td>0000000782,87</td>\n",
       "      <td>1</td>\n",
       "    </tr>\n",
       "    <tr>\n",
       "      <th>4</th>\n",
       "      <td>45307</td>\n",
       "      <td>0000000000,00</td>\n",
       "      <td>1</td>\n",
       "    </tr>\n",
       "    <tr>\n",
       "      <th>...</th>\n",
       "      <td>...</td>\n",
       "      <td>...</td>\n",
       "      <td>...</td>\n",
       "    </tr>\n",
       "    <tr>\n",
       "      <th>12161305</th>\n",
       "      <td>47717</td>\n",
       "      <td>0000003534,87</td>\n",
       "      <td>2</td>\n",
       "    </tr>\n",
       "    <tr>\n",
       "      <th>12161306</th>\n",
       "      <td>49302</td>\n",
       "      <td>0000002959,74</td>\n",
       "      <td>2</td>\n",
       "    </tr>\n",
       "    <tr>\n",
       "      <th>12161307</th>\n",
       "      <td>87115</td>\n",
       "      <td>0000001565,32</td>\n",
       "      <td>2</td>\n",
       "    </tr>\n",
       "    <tr>\n",
       "      <th>12161308</th>\n",
       "      <td>85996</td>\n",
       "      <td>0000001982,12</td>\n",
       "      <td>2</td>\n",
       "    </tr>\n",
       "    <tr>\n",
       "      <th>12161309</th>\n",
       "      <td>85201</td>\n",
       "      <td>0000003359,37</td>\n",
       "      <td>2</td>\n",
       "    </tr>\n",
       "  </tbody>\n",
       "</table>\n",
       "<p>12161310 rows × 3 columns</p>\n",
       "</div>"
      ],
      "text/plain": [
       "          CNAE 2.0 Classe Vl Remun Média Nom  Sexo Trabalhador\n",
       "0                   81290      0000001413,94                 1\n",
       "1                   35140      0000001353,08                 1\n",
       "2                   43991      0000001274,25                 1\n",
       "3                   23427      0000000782,87                 1\n",
       "4                   45307      0000000000,00                 1\n",
       "...                   ...                ...               ...\n",
       "12161305            47717      0000003534,87                 2\n",
       "12161306            49302      0000002959,74                 2\n",
       "12161307            87115      0000001565,32                 2\n",
       "12161308            85996      0000001982,12                 2\n",
       "12161309            85201      0000003359,37                 2\n",
       "\n",
       "[12161310 rows x 3 columns]"
      ]
     },
     "execution_count": 54,
     "metadata": {},
     "output_type": "execute_result"
    }
   ],
   "source": [
    "df_sul"
   ]
  },
  {
   "cell_type": "code",
   "execution_count": 39,
   "id": "3ea8d5e5",
   "metadata": {},
   "outputs": [],
   "source": [
    "#df_sul=df_sul.loc[df_sul['CNAE 2.0 Classe']==62040]\n",
    "df_sul['valor'] = df_sul['Vl Remun Média Nom'].map(lambda x: round(float(x.replace(',','.')),2)    ) \n",
    "df_sul.drop(['CNAE 2.0 Classe', 'Vl Remun Média Nom'], axis=1,inplace=True)"
   ]
  },
  {
   "cell_type": "code",
   "execution_count": 40,
   "id": "24635444",
   "metadata": {},
   "outputs": [
    {
     "data": {
      "text/html": [
       "<div>\n",
       "<style scoped>\n",
       "    .dataframe tbody tr th:only-of-type {\n",
       "        vertical-align: middle;\n",
       "    }\n",
       "\n",
       "    .dataframe tbody tr th {\n",
       "        vertical-align: top;\n",
       "    }\n",
       "\n",
       "    .dataframe thead th {\n",
       "        text-align: right;\n",
       "    }\n",
       "</style>\n",
       "<table border=\"1\" class=\"dataframe\">\n",
       "  <thead>\n",
       "    <tr style=\"text-align: right;\">\n",
       "      <th></th>\n",
       "      <th>Sexo Trabalhador</th>\n",
       "      <th>valor</th>\n",
       "    </tr>\n",
       "  </thead>\n",
       "  <tbody>\n",
       "    <tr>\n",
       "      <th>0</th>\n",
       "      <td>1</td>\n",
       "      <td>1413.94</td>\n",
       "    </tr>\n",
       "    <tr>\n",
       "      <th>1</th>\n",
       "      <td>1</td>\n",
       "      <td>1353.08</td>\n",
       "    </tr>\n",
       "    <tr>\n",
       "      <th>2</th>\n",
       "      <td>1</td>\n",
       "      <td>1274.25</td>\n",
       "    </tr>\n",
       "    <tr>\n",
       "      <th>3</th>\n",
       "      <td>1</td>\n",
       "      <td>782.87</td>\n",
       "    </tr>\n",
       "    <tr>\n",
       "      <th>4</th>\n",
       "      <td>1</td>\n",
       "      <td>0.00</td>\n",
       "    </tr>\n",
       "    <tr>\n",
       "      <th>...</th>\n",
       "      <td>...</td>\n",
       "      <td>...</td>\n",
       "    </tr>\n",
       "    <tr>\n",
       "      <th>12161305</th>\n",
       "      <td>2</td>\n",
       "      <td>3534.87</td>\n",
       "    </tr>\n",
       "    <tr>\n",
       "      <th>12161306</th>\n",
       "      <td>2</td>\n",
       "      <td>2959.74</td>\n",
       "    </tr>\n",
       "    <tr>\n",
       "      <th>12161307</th>\n",
       "      <td>2</td>\n",
       "      <td>1565.32</td>\n",
       "    </tr>\n",
       "    <tr>\n",
       "      <th>12161308</th>\n",
       "      <td>2</td>\n",
       "      <td>1982.12</td>\n",
       "    </tr>\n",
       "    <tr>\n",
       "      <th>12161309</th>\n",
       "      <td>2</td>\n",
       "      <td>3359.37</td>\n",
       "    </tr>\n",
       "  </tbody>\n",
       "</table>\n",
       "<p>12161310 rows × 2 columns</p>\n",
       "</div>"
      ],
      "text/plain": [
       "          Sexo Trabalhador    valor\n",
       "0                        1  1413.94\n",
       "1                        1  1353.08\n",
       "2                        1  1274.25\n",
       "3                        1   782.87\n",
       "4                        1     0.00\n",
       "...                    ...      ...\n",
       "12161305                 2  3534.87\n",
       "12161306                 2  2959.74\n",
       "12161307                 2  1565.32\n",
       "12161308                 2  1982.12\n",
       "12161309                 2  3359.37\n",
       "\n",
       "[12161310 rows x 2 columns]"
      ]
     },
     "execution_count": 40,
     "metadata": {},
     "output_type": "execute_result"
    }
   ],
   "source": [
    "df_sul"
   ]
  },
  {
   "cell_type": "code",
   "execution_count": 42,
   "id": "3a71f390",
   "metadata": {},
   "outputs": [],
   "source": [
    "df=df_nordeste"
   ]
  },
  {
   "cell_type": "code",
   "execution_count": 43,
   "id": "b45e9c87",
   "metadata": {},
   "outputs": [
    {
     "data": {
      "text/plain": [
       "(10556200, 2)"
      ]
     },
     "execution_count": 43,
     "metadata": {},
     "output_type": "execute_result"
    }
   ],
   "source": [
    "df_nordeste.shape"
   ]
  },
  {
   "cell_type": "code",
   "execution_count": 44,
   "id": "86c46a94",
   "metadata": {},
   "outputs": [
    {
     "data": {
      "text/plain": [
       "(3700916, 2)"
      ]
     },
     "execution_count": 44,
     "metadata": {},
     "output_type": "execute_result"
    }
   ],
   "source": [
    "df_norte.shape"
   ]
  },
  {
   "cell_type": "code",
   "execution_count": 45,
   "id": "6df7b2de",
   "metadata": {},
   "outputs": [],
   "source": [
    "df = df.append(df_norte)"
   ]
  },
  {
   "cell_type": "code",
   "execution_count": 46,
   "id": "82960877",
   "metadata": {},
   "outputs": [
    {
     "data": {
      "text/plain": [
       "(14257116, 2)"
      ]
     },
     "execution_count": 46,
     "metadata": {},
     "output_type": "execute_result"
    }
   ],
   "source": [
    "df.shape"
   ]
  },
  {
   "cell_type": "code",
   "execution_count": 47,
   "id": "f8924c1e",
   "metadata": {},
   "outputs": [],
   "source": [
    "df = df.append(df_sp)"
   ]
  },
  {
   "cell_type": "code",
   "execution_count": 48,
   "id": "9ae3535f",
   "metadata": {},
   "outputs": [
    {
     "data": {
      "text/plain": [
       "(33145579, 2)"
      ]
     },
     "execution_count": 48,
     "metadata": {},
     "output_type": "execute_result"
    }
   ],
   "source": [
    "df.shape"
   ]
  },
  {
   "cell_type": "code",
   "execution_count": 49,
   "id": "e7bf0d2d",
   "metadata": {},
   "outputs": [],
   "source": [
    "df= df.append(df_centro)"
   ]
  },
  {
   "cell_type": "code",
   "execution_count": 50,
   "id": "fa26e75d",
   "metadata": {},
   "outputs": [
    {
     "data": {
      "text/plain": [
       "(39307517, 2)"
      ]
     },
     "execution_count": 50,
     "metadata": {},
     "output_type": "execute_result"
    }
   ],
   "source": [
    "df.shape"
   ]
  },
  {
   "cell_type": "code",
   "execution_count": 51,
   "id": "8dee489a",
   "metadata": {},
   "outputs": [],
   "source": [
    "df = df.append(df_sudeste)"
   ]
  },
  {
   "cell_type": "code",
   "execution_count": 52,
   "id": "0e38a561",
   "metadata": {},
   "outputs": [
    {
     "data": {
      "text/plain": [
       "(52866018, 2)"
      ]
     },
     "execution_count": 52,
     "metadata": {},
     "output_type": "execute_result"
    }
   ],
   "source": [
    "df.shape"
   ]
  },
  {
   "cell_type": "code",
   "execution_count": 53,
   "id": "f95eac98",
   "metadata": {},
   "outputs": [],
   "source": [
    "df=df.append(df_sul)"
   ]
  },
  {
   "cell_type": "code",
   "execution_count": 54,
   "id": "3802af4c",
   "metadata": {},
   "outputs": [
    {
     "data": {
      "text/plain": [
       "(65027328, 2)"
      ]
     },
     "execution_count": 54,
     "metadata": {},
     "output_type": "execute_result"
    }
   ],
   "source": [
    "df.shape"
   ]
  },
  {
   "cell_type": "code",
   "execution_count": 55,
   "id": "4181807b",
   "metadata": {},
   "outputs": [],
   "source": [
    "df['valor3'] = round(df['valor'],0)"
   ]
  },
  {
   "cell_type": "code",
   "execution_count": 56,
   "id": "15f43753",
   "metadata": {},
   "outputs": [
    {
     "name": "stdout",
     "output_type": "stream",
     "text": [
      "<class 'pandas.core.frame.DataFrame'>\n",
      "Int64Index: 65027328 entries, 0 to 12161309\n",
      "Data columns (total 3 columns):\n",
      " #   Column            Dtype  \n",
      "---  ------            -----  \n",
      " 0   Sexo Trabalhador  int64  \n",
      " 1   valor             float64\n",
      " 2   valor3            float64\n",
      "dtypes: float64(2), int64(1)\n",
      "memory usage: 1.9 GB\n"
     ]
    }
   ],
   "source": [
    "df.info()"
   ]
  },
  {
   "cell_type": "code",
   "execution_count": 57,
   "id": "add23ca0",
   "metadata": {},
   "outputs": [],
   "source": [
    "result=df.groupby('Sexo Trabalhador')['valor'].mean()"
   ]
  },
  {
   "cell_type": "code",
   "execution_count": 58,
   "id": "6ea935e0",
   "metadata": {},
   "outputs": [
    {
     "data": {
      "text/plain": [
       "Sexo Trabalhador\n",
       "1    2711.794008\n",
       "2    2403.906857\n",
       "Name: valor, dtype: float64"
      ]
     },
     "execution_count": 58,
     "metadata": {},
     "output_type": "execute_result"
    }
   ],
   "source": [
    "result"
   ]
  },
  {
   "cell_type": "code",
   "execution_count": 116,
   "id": "2b4b08ea",
   "metadata": {},
   "outputs": [],
   "source": [
    "result2 = result.to_frame()"
   ]
  },
  {
   "cell_type": "code",
   "execution_count": 117,
   "id": "c19adb5b",
   "metadata": {},
   "outputs": [
    {
     "data": {
      "text/plain": [
       "valor    1808.974435\n",
       "dtype: float64"
      ]
     },
     "execution_count": 117,
     "metadata": {},
     "output_type": "execute_result"
    }
   ],
   "source": [
    "result2.iloc[0]-result2.iloc[1] "
   ]
  },
  {
   "cell_type": "code",
   "execution_count": 41,
   "id": "5ce9f66b",
   "metadata": {},
   "outputs": [
    {
     "name": "stdout",
     "output_type": "stream",
     "text": [
      "12161310\n",
      "13558501\n",
      "3700916\n",
      "10556200\n",
      "6161938\n",
      "18888463\n"
     ]
    }
   ],
   "source": [
    "#print(df.shape[0])\n",
    "print(df_sul.shape[0])\n",
    "print(df_sudeste.shape[0])\n",
    "print(df_norte.shape[0])\n",
    "print(df_nordeste.shape[0])\n",
    "print(df_centro.shape[0])\n",
    "print(df_sp.shape[0])\n",
    "\n"
   ]
  },
  {
   "cell_type": "code",
   "execution_count": null,
   "id": "8a046e87",
   "metadata": {},
   "outputs": [],
   "source": []
  }
 ],
 "metadata": {
  "kernelspec": {
   "display_name": "Python 3 (ipykernel)",
   "language": "python",
   "name": "python3"
  },
  "language_info": {
   "codemirror_mode": {
    "name": "ipython",
    "version": 3
   },
   "file_extension": ".py",
   "mimetype": "text/x-python",
   "name": "python",
   "nbconvert_exporter": "python",
   "pygments_lexer": "ipython3",
   "version": "3.9.7"
  }
 },
 "nbformat": 4,
 "nbformat_minor": 5
}
